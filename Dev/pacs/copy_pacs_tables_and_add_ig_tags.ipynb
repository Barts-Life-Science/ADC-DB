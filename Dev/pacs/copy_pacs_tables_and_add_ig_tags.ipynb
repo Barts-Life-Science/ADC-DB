{
 "cells": [
  {
   "cell_type": "code",
   "execution_count": 0,
   "metadata": {
    "application/vnd.databricks.v1+cell": {
     "cellMetadata": {
      "byteLimit": 2048000,
      "implicitDf": true,
      "rowLimit": 10000
     },
     "inputWidgets": {},
     "nuid": "721ec361-78c7-471b-8229-6ce21ef2815d",
     "showTitle": false,
     "tableResultSettingsMap": {},
     "title": ""
    }
   },
   "outputs": [],
   "source": [
    "%sql\n",
    "CREATE OR REPLACE TEMPORARY VIEW inhert_ig_tags_from_mill AS\n",
    "SELECT *\n",
    "FROM VALUES\n",
    "  ('AccessionNbr', '4_prod', 'raw', 'mill_clinical_event', 'REFERENCE_NBR'),\n",
    "  ('Clinical_Event_ID', '4_prod', 'raw', 'mill_clinical_event', 'CLINICAL_EVENT_ID'),\n",
    "  ('EVENT_ID', '4_prod', 'raw', 'mill_clinical_event', 'EVENT_ID'),\n",
    "  ('ENCNTR_ID', '4_prod', 'raw', 'mill_clinical_event', 'ENCNTR_ID'),\n",
    "  ('PARENT_EVENT_ID', '4_prod', 'raw', 'mill_clinical_event', 'PARENT_EVENT_ID'),\n",
    "  ('ExamCode', '4_prod', 'raw', 'mill_clinical_event', 'EVENT_CD'),\n",
    "  ('ExamCodeSeq', '4_prod', 'raw', 'mill_clinical_event', 'EVENT_CD'),\n",
    "  ('MillRefNbr', '4_prod', 'raw', 'mill_clinical_event', 'REFERENCE_NBR'),\n",
    "  ('MillPersonId', '4_prod', 'raw', 'mill_clinical_event', 'PERSON_ID'),\n",
    "  ('PacsPatientId', '4_prod', 'raw', 'mill_clinical_event', 'PERSON_ID'),\n",
    "  ('MillEventDate', '4_prod', 'raw', 'mill_clinical_event', 'EVENT_START_DT_TM'),\n",
    "  ('RequestId', '4_prod', 'raw', 'mill_clinical_event', 'CLINICAL_EVENT_ID'),\n",
    "  ('RequestQuestion', '4_prod', 'raw', 'mill_ce_blob', 'BLOB_CONTENTS'),\n",
    "  ('RequestAnamnesis', '4_prod', 'raw', 'mill_ce_blob', 'BLOB_CONTENTS'),\n",
    "  ('ExaminationIdString', '4_prod', 'raw', 'mill_clinical_event', 'CLINICAL_EVENT_ID'),\n",
    "  ('ExaminationStudyUid', '4_prod', 'raw', 'mill_clinical_event', 'CLINICAL_EVENT_ID'),\n",
    "  ('ExaminationDescription', '4_prod', 'raw', 'mill_clinical_event', 'EVENT_TITLE_TEXT'),\n",
    "  ('ExaminationModality', '4_prod', 'raw', 'mill_clinical_event', 'EVENT_CD'),\n",
    "  ('ExaminationBodyPart', '4_prod', 'raw', 'mill_clinical_event', 'EVENT_CD'),\n",
    "  ('PacsReportCount', '4_prod', 'raw', 'mill_clinical_event', 'EVENT_CD')\n",
    "AS t(pacs_col, mill_catalog, mill_schema, mill_table, mill_col);"
   ]
  },
  {
   "cell_type": "code",
   "execution_count": 0,
   "metadata": {
    "application/vnd.databricks.v1+cell": {
     "cellMetadata": {
      "byteLimit": 2048000,
      "rowLimit": 10000
     },
     "inputWidgets": {},
     "nuid": "41b27343-2744-442c-a046-d4f9b841978b",
     "showTitle": false,
     "tableResultSettingsMap": {},
     "title": ""
    }
   },
   "outputs": [],
   "source": [
    "# Load the temporary view as a DataFrame\n",
    "inhert_ig_tags_from_mill = spark.table(\"inhert_ig_tags_from_mill\")\n",
    "\n",
    "for row in inhert_ig_tags_from_mill.collect():\n",
    "    pacs_col = row['pacs_col']\n",
    "    mill_catalog = row['mill_catalog']\n",
    "    mill_schema = row['mill_schema']\n",
    "    mill_table = row['mill_table']\n",
    "    mill_col = row['mill_col']\n",
    "\n",
    "    # Query the column_tags table for tags\n",
    "    tags_df = spark.sql(\n",
    "        f\"\"\"\n",
    "        SELECT tag_name, tag_value\n",
    "        FROM system.information_schema.column_tags\n",
    "        WHERE catalog_name = '{mill_catalog}'\n",
    "          AND schema_name = '{mill_schema}'\n",
    "          AND table_name = '{mill_table}'\n",
    "          AND column_name = '{mill_col}'\n",
    "        \"\"\"\n",
    "    )\n",
    "\n",
    "    mill_col_tags = {\n",
    "        row['tag_name']: row['tag_value']\n",
    "        for row in tags_df.collect()\n",
    "    }\n",
    "\n",
    "    # Prepare tag assignments if tags exist\n",
    "    if 'ig_risk' in mill_col_tags:\n",
    "        set_tags.append(f\"\")\n",
    "        set_tags_sql = ', '.join(set_tags)\n",
    "        q = f\"\"\"\n",
    "            ALTER TABLE 4_prod.pacs.hdruk_barts_imaging_metadata\n",
    "            ALTER COLUMN `{pacs_col}`\n",
    "            SET TAGS ('ig_risk' = '{mill_col_tags['ig_risk']}')\n",
    "            \"\"\"\n",
    "        spark.sql(q)\n",
    "\n",
    "    if 'ig_severity' in mill_col_tags:\n",
    "        set_tags.append(f\"\")\n",
    "        set_tags_sql = ', '.join(set_tags)\n",
    "        q = f\"\"\"\n",
    "            ALTER TABLE 4_prod.pacs.hdruk_barts_imaging_metadata\n",
    "            ALTER COLUMN `{pacs_col}`\n",
    "            SET TAGS ('ig_severity' = '{mill_col_tags['ig_severity']}')\n",
    "            \"\"\"\n",
    "        spark.sql(q)\n"
   ]
  }
 ],
 "metadata": {
  "application/vnd.databricks.v1+notebook": {
   "computePreferences": null,
   "dashboards": [],
   "environmentMetadata": {
    "base_environment": "",
    "environment_version": "3"
   },
   "inputWidgetPreferences": null,
   "language": "python",
   "notebookMetadata": {
    "mostRecentlyExecutedCommandWithImplicitDF": {
     "commandId": 8261474955361030,
     "dataframes": [
      "_sqldf"
     ]
    },
    "pythonIndentUnit": 4
   },
   "notebookName": "copy_pacs_tables_and_add_ig_tags",
   "widgets": {}
  },
  "language_info": {
   "name": "python"
  }
 },
 "nbformat": 4,
 "nbformat_minor": 0
}
