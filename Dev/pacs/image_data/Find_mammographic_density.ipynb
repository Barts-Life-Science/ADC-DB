{
 "cells": [
  {
   "cell_type": "code",
   "execution_count": 0,
   "metadata": {
    "application/vnd.databricks.v1+cell": {
     "cellMetadata": {
      "byteLimit": 2048000,
      "rowLimit": 10000
     },
     "inputWidgets": {},
     "nuid": "b02536cf-825a-4709-85c5-40b4a86e991f",
     "showTitle": false,
     "tableResultSettingsMap": {},
     "title": ""
    }
   },
   "outputs": [],
   "source": [
    "# Notebook parameters\n",
    "\n",
    "params = {\n",
    "    \"proj_dir\": \"\"\n",
    "}\n",
    "\n",
    "# create text widgets\n",
    "for k in params.keys():\n",
    "    dbutils.widgets.text(k, \"\", \"\")\n",
    "\n",
    "# fetch values\n",
    "for k in params.keys():\n",
    "    params[k] = dbutils.widgets.get(k)\n",
    "    print(k, \":\", params[k])"
   ]
  },
  {
   "cell_type": "code",
   "execution_count": 0,
   "metadata": {
    "application/vnd.databricks.v1+cell": {
     "cellMetadata": {
      "byteLimit": 2048000,
      "rowLimit": 10000
     },
     "inputWidgets": {},
     "nuid": "f3cdee99-b560-4f55-86f9-5281dc6f6b03",
     "showTitle": false,
     "tableResultSettingsMap": {},
     "title": ""
    }
   },
   "outputs": [],
   "source": [
    "import os\n",
    "import time\n",
    "from datetime import datetime\n",
    "from tqdm import tqdm\n",
    "import pydicom\n",
    "import asyncio\n",
    "from functools import lru_cache\n",
    "from pyspark.sql import types as T\n",
    "from pyspark.sql import functions as F\n",
    "from glob import glob"
   ]
  },
  {
   "cell_type": "code",
   "execution_count": 0,
   "metadata": {
    "application/vnd.databricks.v1+cell": {
     "cellMetadata": {
      "byteLimit": 2048000,
      "rowLimit": 10000
     },
     "inputWidgets": {},
     "nuid": "500a7af9-a5ef-4688-ad20-35d72f709075",
     "showTitle": false,
     "tableResultSettingsMap": {},
     "title": ""
    }
   },
   "outputs": [],
   "source": [
    "ROOT_DIR = \"/Volumes/1_inland/sectra/vone\"\n",
    "proj_dir_path = os.path.join(ROOT_DIR, params[\"proj_dir\"])"
   ]
  },
  {
   "cell_type": "code",
   "execution_count": 0,
   "metadata": {
    "application/vnd.databricks.v1+cell": {
     "cellMetadata": {
      "byteLimit": 2048000,
      "rowLimit": 10000
     },
     "inputWidgets": {},
     "nuid": "7e67aca5-8f90-4ef6-a880-a245396a8cd8",
     "showTitle": false,
     "tableResultSettingsMap": {},
     "title": ""
    }
   },
   "outputs": [],
   "source": [
    "def extractAccessionNbrFromDicomdir(filepath):\n",
    "    dcm = pydicom.dcmread(filepath)\n",
    "    \n",
    "    nbr = \"unknown\"\n",
    "    for x in dcm.DirectoryRecordSequence:\n",
    "        try:\n",
    "            nbr = str(x[\"AccessionNumber\"].value)\n",
    "            break\n",
    "        except:\n",
    "            continue\n",
    "        try:\n",
    "            md = str(x[\"MammographicDensity\"].value)\n",
    "\n",
    "    return nbr"
   ]
  },
  {
   "cell_type": "code",
   "execution_count": 0,
   "metadata": {
    "application/vnd.databricks.v1+cell": {
     "cellMetadata": {
      "byteLimit": 2048000,
      "rowLimit": 10000
     },
     "inputWidgets": {},
     "nuid": "70f5c310-3dd9-48aa-abd9-b8a809fabf34",
     "showTitle": false,
     "tableResultSettingsMap": {},
     "title": ""
    }
   },
   "outputs": [],
   "source": [
    "data = []\n",
    "for fp in tqdm(glob(f\"{proj_dir_path}/*/DICOMDIR\")):\n",
    "    data.append((fp, extractAccessionNbrFromDicomdir(fp)))\n",
    "\n",
    "accession_nbr = spark.createDataFrame(data=data, schema=[\"filepath\", \"accession_nbr\"])\n",
    "#accession_nbr.createOrReplaceTempView(\"temp_accession_nbr\")"
   ]
  },
  {
   "cell_type": "code",
   "execution_count": 0,
   "metadata": {
    "application/vnd.databricks.v1+cell": {
     "cellMetadata": {
      "byteLimit": 2048000,
      "rowLimit": 10000
     },
     "inputWidgets": {},
     "nuid": "1783f7b9-85f8-4e15-ba64-8fdd2b67699d",
     "showTitle": false,
     "tableResultSettingsMap": {},
     "title": ""
    }
   },
   "outputs": [],
   "source": []
  }
 ],
 "metadata": {
  "application/vnd.databricks.v1+notebook": {
   "computePreferences": {
    "hardware": {
     "accelerator": null,
     "gpuPoolId": null,
     "memory": null
    }
   },
   "dashboards": [],
   "environmentMetadata": {
    "base_environment": "",
    "dependencies": [
     "tqdm",
     "pydicom"
    ],
    "environment_version": "3"
   },
   "inputWidgetPreferences": null,
   "language": "python",
   "notebookMetadata": {
    "pythonIndentUnit": 4
   },
   "notebookName": "Find_mammographic_density",
   "widgets": {
    "proj_dir": {
     "currentValue": "dar023_request_20250915",
     "nuid": "9bd3b4d6-8f0f-4469-8e85-89a505a7ad2c",
     "typedWidgetInfo": {
      "autoCreated": false,
      "defaultValue": "",
      "label": "",
      "name": "proj_dir",
      "options": {
       "widgetDisplayType": "Text",
       "validationRegex": null
      },
      "parameterDataType": "String"
     },
     "widgetInfo": {
      "widgetType": "text",
      "defaultValue": "",
      "label": "",
      "name": "proj_dir",
      "options": {
       "widgetType": "text",
       "autoCreated": null,
       "validationRegex": null
      }
     }
    }
   }
  },
  "language_info": {
   "name": "python"
  }
 },
 "nbformat": 4,
 "nbformat_minor": 0
}
