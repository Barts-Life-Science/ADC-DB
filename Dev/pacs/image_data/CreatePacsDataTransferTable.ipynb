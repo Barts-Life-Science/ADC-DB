{
 "cells": [
  {
   "cell_type": "code",
   "execution_count": 0,
   "metadata": {
    "application/vnd.databricks.v1+cell": {
     "cellMetadata": {
      "byteLimit": 2048000,
      "implicitDf": true,
      "rowLimit": 10000
     },
     "inputWidgets": {},
     "nuid": "dacea5cd-3dee-4c96-8459-35bc0b407b7d",
     "showTitle": false,
     "tableResultSettingsMap": {},
     "title": ""
    }
   },
   "outputs": [],
   "source": [
    "%sql\n",
    "\n",
    "CREATE TABLE IF NOT EXISTS 1_inland.sectra.pacs_data_transfer(\n",
    "src_proj_dir STRING,\n",
    "dst_proj_dir STRING,\n",
    "active_ind INT,\n",
    "priority INT,\n",
    "delete_files_after_copy INT\n",
    ")"
   ]
  },
  {
   "cell_type": "code",
   "execution_count": 0,
   "metadata": {
    "application/vnd.databricks.v1+cell": {
     "cellMetadata": {
      "byteLimit": 2048000,
      "implicitDf": true,
      "rowLimit": 10000
     },
     "inputWidgets": {},
     "nuid": "542e20be-ce07-4934-82d5-5de58599ed3b",
     "showTitle": false,
     "tableResultSettingsMap": {},
     "title": ""
    }
   },
   "outputs": [],
   "source": [
    "%sql\n",
    "/*\n",
    "INSERT INTO 1_inland.sectra.pacs_data_transfer\n",
    "VALUES(\n",
    "('Ben Test 100 1812_22990e8b441f4c58880ed99702f51608', 'adf_ben', 1, 0, 0)\n",
    ")*/"
   ]
  },
  {
   "cell_type": "code",
   "execution_count": 0,
   "metadata": {
    "application/vnd.databricks.v1+cell": {
     "cellMetadata": {
      "byteLimit": 2048000,
      "implicitDf": true,
      "rowLimit": 10000
     },
     "inputWidgets": {},
     "nuid": "bfb2485f-1cbb-4ed2-887a-4af67ff91808",
     "showTitle": false,
     "tableResultSettingsMap": {},
     "title": ""
    }
   },
   "outputs": [],
   "source": [
    "%sql\n",
    "/*\n",
    "INSERT INTO 1_inland.sectra.pacs_data_transfer\n",
    "VALUES(\n",
    "('DAC023_b1fbeab46c014642bd7f5604771d3e76', 'DAC023', 1, 0, 1)\n",
    ")*/"
   ]
  }
 ],
 "metadata": {
  "application/vnd.databricks.v1+notebook": {
   "computePreferences": null,
   "dashboards": [],
   "environmentMetadata": {
    "base_environment": "",
    "environment_version": "2"
   },
   "inputWidgetPreferences": null,
   "language": "python",
   "notebookMetadata": {
    "mostRecentlyExecutedCommandWithImplicitDF": {
     "commandId": 7335609153465522,
     "dataframes": [
      "_sqldf"
     ]
    },
    "pythonIndentUnit": 4
   },
   "notebookName": "CreatePacsDataTransferTable",
   "widgets": {}
  },
  "language_info": {
   "name": "python"
  }
 },
 "nbformat": 4,
 "nbformat_minor": 0
}
