{
 "cells": [
  {
   "cell_type": "code",
   "execution_count": 0,
   "metadata": {
    "application/vnd.databricks.v1+cell": {
     "cellMetadata": {
      "byteLimit": 2048000,
      "rowLimit": 10000
     },
     "inputWidgets": {},
     "nuid": "a8f70d1a-7c35-448e-a362-57176a61304e",
     "showTitle": false,
     "tableResultSettingsMap": {},
     "title": ""
    }
   },
   "outputs": [],
   "source": []
  },
  {
   "cell_type": "code",
   "execution_count": 0,
   "metadata": {
    "application/vnd.databricks.v1+cell": {
     "cellMetadata": {
      "byteLimit": 2048000,
      "rowLimit": 10000
     },
     "inputWidgets": {},
     "nuid": "8e1326d8-1d37-4334-8e64-2f1181013a3c",
     "showTitle": false,
     "tableResultSettingsMap": {},
     "title": ""
    }
   },
   "outputs": [],
   "source": [
    "import pydicom\n",
    "import tqdm"
   ]
  },
  {
   "cell_type": "code",
   "execution_count": 0,
   "metadata": {
    "application/vnd.databricks.v1+cell": {
     "cellMetadata": {
      "byteLimit": 2048000,
      "rowLimit": 10000
     },
     "inputWidgets": {},
     "nuid": "d6c1d6f2-5d3e-4ca9-bae8-4f77ad3c3fe3",
     "showTitle": false,
     "tableResultSettingsMap": {},
     "title": ""
    }
   },
   "outputs": [],
   "source": [
    "def getAccessionNbrAndExamCodeFromDicom(dcm):\n",
    "    #dcm = pydicom.dcmread(dcm_filepath)\n",
    "    try:\n",
    "        nbr = dcm[\"AccessionNumber\"].value\n",
    "    except:\n",
    "        nbr = None\n",
    "\n",
    "    try:\n",
    "        examcode = dcm[\"RequestedProcedureID\"].value\n",
    "    except:\n",
    "        examcode = None\n",
    "\n",
    "    return (nbr, examcode)\n",
    "    "
   ]
  },
  {
   "cell_type": "code",
   "execution_count": 0,
   "metadata": {
    "application/vnd.databricks.v1+cell": {
     "cellMetadata": {
      "byteLimit": 2048000,
      "rowLimit": 10000
     },
     "inputWidgets": {},
     "nuid": "6894a678-fb71-40b1-9b96-ceb35d4dde92",
     "showTitle": false,
     "tableResultSettingsMap": {},
     "title": ""
    }
   },
   "outputs": [],
   "source": [
    "def accessionNbrToMillPersonId(accession_nbr):\n",
    "    if accession_nbr is None:\n",
    "        return None\n",
    "\n",
    "    try:\n",
    "        person_id = spark.sql(f\"\"\"\n",
    "            SELECT MAX(MillPersonId) AS MillPersonId\n",
    "            FROM 4_prod.pacs.all_pacs_ref_nbr\n",
    "            WHERE refnbr = '{accession_nbr}'\n",
    "        \"\"\").first()[\"MillPersonId\"]\n",
    "    except:\n",
    "        person_id = None\n",
    "\n",
    "    return person_id"
   ]
  },
  {
   "cell_type": "code",
   "execution_count": 0,
   "metadata": {
    "application/vnd.databricks.v1+cell": {
     "cellMetadata": {
      "byteLimit": 2048000,
      "rowLimit": 10000
     },
     "inputWidgets": {},
     "nuid": "2c89f590-a135-4a25-ac50-d7cc331b2821",
     "showTitle": false,
     "tableResultSettingsMap": {},
     "title": ""
    }
   },
   "outputs": [],
   "source": [
    "dcm_filepath = \"/Volumes/1_inland/sectra/vone/ben_test_1612-3_4b6af833fea9477b9aad1cd21032e876/000002/000001/000001.dcm\"\n",
    "\n",
    "# Read DICOMDIR\n",
    "dcm = pydicom.dcmread(dcm_filepath)\n",
    "accession_nbr, examcode = getAccessionNbrAndExamCodeFromDicom(dcm)\n",
    "print(accession_nbr, examcode)\n",
    "\n",
    "person_id = accessionNbrToMillPersonId(accession_nbr)\n",
    "print(person_id)"
   ]
  },
  {
   "cell_type": "code",
   "execution_count": 0,
   "metadata": {
    "application/vnd.databricks.v1+cell": {
     "cellMetadata": {},
     "inputWidgets": {},
     "nuid": "f354e143-404c-4ba9-8eb2-eb2f0a6ad7bb",
     "showTitle": false,
     "tableResultSettingsMap": {},
     "title": ""
    }
   },
   "outputs": [],
   "source": []
  },
  {
   "cell_type": "code",
   "execution_count": 0,
   "metadata": {
    "application/vnd.databricks.v1+cell": {
     "cellMetadata": {
      "byteLimit": 2048000,
      "rowLimit": 10000
     },
     "inputWidgets": {},
     "nuid": "e5eac69c-a047-401b-b4c7-95064ee7a96f",
     "showTitle": false,
     "tableResultSettingsMap": {},
     "title": ""
    }
   },
   "outputs": [],
   "source": [
    "def saveDicomWithNewPersonId(dcm, new_person_id, save_filepath):\n",
    "    dcm[\"PatientID\"].value = new_person_id\n",
    "    dcm.save_as(save_filepath)"
   ]
  },
  {
   "cell_type": "code",
   "execution_count": 0,
   "metadata": {
    "application/vnd.databricks.v1+cell": {
     "cellMetadata": {
      "byteLimit": 2048000,
      "rowLimit": 10000
     },
     "inputWidgets": {},
     "nuid": "a53ff21f-d263-4ac1-98d7-39b74794340b",
     "showTitle": false,
     "tableResultSettingsMap": {},
     "title": ""
    }
   },
   "outputs": [],
   "source": [
    "# Read DICOMDIR\n",
    "dicomdir = pydicom.dcmread(\"/Volumes/1_inland/sectra/vone/ben_test_1612-3_4b6af833fea9477b9aad1cd21032e876/dicomdir\")\n",
    "\n",
    "for x in tqdm.tqdm(dicomdir.DirectoryRecordSequence):\n",
    "    # Retrieve ReferencedFileID which contains dcm file path info if exists\n",
    "    try:\n",
    "        print(x[\"AccessionNumber\"].value)\n",
    "        \n",
    "    except:\n",
    "        continue"
   ]
  },
  {
   "cell_type": "code",
   "execution_count": 0,
   "metadata": {
    "application/vnd.databricks.v1+cell": {
     "cellMetadata": {
      "byteLimit": 2048000,
      "rowLimit": 10000
     },
     "inputWidgets": {},
     "nuid": "ea5e9e89-68bf-4bf0-aa4f-c9f92376b2c9",
     "showTitle": false,
     "tableResultSettingsMap": {},
     "title": ""
    }
   },
   "outputs": [],
   "source": [
    "dicomdir"
   ]
  }
 ],
 "metadata": {
  "application/vnd.databricks.v1+notebook": {
   "computePreferences": null,
   "dashboards": [],
   "environmentMetadata": {
    "base_environment": "",
    "environment_version": "1"
   },
   "language": "python",
   "notebookMetadata": {
    "mostRecentlyExecutedCommandWithImplicitDF": {
     "commandId": 6075347534846593,
     "dataframes": [
      "_sqldf"
     ]
    },
    "pythonIndentUnit": 4
   },
   "notebookName": "ProcessIncomingDcmFiles",
   "widgets": {}
  },
  "language_info": {
   "name": "python"
  }
 },
 "nbformat": 4,
 "nbformat_minor": 0
}
