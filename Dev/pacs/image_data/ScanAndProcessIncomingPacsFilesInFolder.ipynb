{
 "cells": [
  {
   "cell_type": "code",
   "execution_count": 0,
   "metadata": {
    "application/vnd.databricks.v1+cell": {
     "cellMetadata": {
      "byteLimit": 2048000,
      "rowLimit": 10000
     },
     "inputWidgets": {},
     "nuid": "2fb48657-d6b0-49d6-9301-0133d1866122",
     "showTitle": false,
     "tableResultSettingsMap": {},
     "title": ""
    }
   },
   "outputs": [],
   "source": [
    "# Notebook parameters\n",
    "\n",
    "params = {\n",
    "    \"proj_dir\": \"\",\n",
    "    \"adf_start_time\": \"\",\n",
    "    \"adf_pipeline_id\": \"\"\n",
    "}\n",
    "\n",
    "# create text widgets\n",
    "for k in params.keys():\n",
    "    dbutils.widgets.text(k, \"\", \"\")\n",
    "\n",
    "# fetch values\n",
    "for k in params.keys():\n",
    "    params[k] = dbutils.widgets.get(k)\n",
    "    print(k, \":\", params[k])"
   ]
  },
  {
   "cell_type": "code",
   "execution_count": 0,
   "metadata": {
    "application/vnd.databricks.v1+cell": {
     "cellMetadata": {
      "byteLimit": 2048000,
      "rowLimit": 10000
     },
     "inputWidgets": {},
     "nuid": "e5d53543-72fd-42f9-ac04-c93db932c946",
     "showTitle": false,
     "tableResultSettingsMap": {},
     "title": ""
    }
   },
   "outputs": [],
   "source": [
    "import os\n",
    "import time\n",
    "from datetime import datetime\n",
    "from tqdm import tqdm\n",
    "import pydicom\n",
    "import asyncio\n",
    "from functools import lru_cache\n",
    "from pyspark.sql import types as T\n"
   ]
  },
  {
   "cell_type": "code",
   "execution_count": 0,
   "metadata": {
    "application/vnd.databricks.v1+cell": {
     "cellMetadata": {
      "byteLimit": 2048000,
      "rowLimit": 10000
     },
     "inputWidgets": {},
     "nuid": "7e1a975a-0cc8-49aa-bb4d-12a79fc9cac7",
     "showTitle": false,
     "tableResultSettingsMap": {},
     "title": ""
    }
   },
   "outputs": [],
   "source": [
    "ROOT_DIR = \"/Volumes/1_inland/sectra/vone\"\n",
    "proj_dir_path = os.path.join(ROOT_DIR, params[\"proj_dir\"])\n",
    "start_time = datetime.strptime(params[\"adf_start_time\"][:26], \"%Y-%m-%dT%H:%M:%S.%f\")"
   ]
  },
  {
   "cell_type": "code",
   "execution_count": 0,
   "metadata": {
    "application/vnd.databricks.v1+cell": {
     "cellMetadata": {
      "byteLimit": 2048000,
      "rowLimit": 10000
     },
     "inputWidgets": {},
     "nuid": "804697f6-49e3-4abe-befc-bf909648f8a0",
     "showTitle": false,
     "tableResultSettingsMap": {},
     "title": ""
    }
   },
   "outputs": [],
   "source": [
    "@lru_cache(maxsize=128, typed=False)\n",
    "def retrievePersonId(accession_nbr):\n",
    "    if accession_nbr is None:\n",
    "        return 'mill_unknown'\n",
    "    \n",
    "    try:\n",
    "        person_id = spark.sql(f\"\"\"\n",
    "            SELECT MAX(MillPersonId) AS MillPersonId\n",
    "            FROM 4_prod.pacs.all_pacs_ref_nbr\n",
    "            WHERE refnbr = '{accession_nbr}'\n",
    "        \"\"\").first()[\"MillPersonId\"]\n",
    "    except:\n",
    "        person_id = 'unknown'\n",
    "    \n",
    "    if person_id is None:\n",
    "        person_id = 'unknown'\n",
    "    \n",
    "    return \"mill_\"+str(person_id)"
   ]
  },
  {
   "cell_type": "code",
   "execution_count": 0,
   "metadata": {
    "application/vnd.databricks.v1+cell": {
     "cellMetadata": {
      "byteLimit": 2048000,
      "rowLimit": 10000
     },
     "inputWidgets": {},
     "nuid": "7d0e0702-28b0-4ab3-b484-0440f9d290ab",
     "showTitle": false,
     "tableResultSettingsMap": {},
     "title": ""
    }
   },
   "outputs": [],
   "source": [
    "async def async_getmtime(filepath):\n",
    "    return (filepath, datetime.fromtimestamp(os.path.getmtime(filepath)))\n",
    "\n",
    "def getmtime(filepath):\n",
    "    return (filepath, datetime.fromtimestamp(os.path.getmtime(filepath)))\n",
    "\n",
    "\n",
    "def _update_dicomdir_pid(filepath):\n",
    "    dcm = pydicom.dcmread(filepath)\n",
    "    for x in dcm.DirectoryRecordSequence:\n",
    "        try:\n",
    "            nbr = x[\"AccessionNumber\"].value\n",
    "            break\n",
    "        except:\n",
    "            continue\n",
    "\n",
    "    pid = retrievePersonId(nbr)\n",
    "\n",
    "    \"\"\"\n",
    "    for x in dcm.DirectoryRecordSequence:\n",
    "        try:\n",
    "            x[\"PatientID\"].value = pid\n",
    "        except:\n",
    "            continue\n",
    "    \"\"\"\n",
    "\n",
    "    #dcm.save_as(filepath)\n",
    "\n",
    "    return (filepath, nbr, pid)\n",
    "\n",
    "\n",
    "def _update_dcm_pid(filepath):\n",
    "    dcm = pydicom.dcmread(filepath)\n",
    "\n",
    "    try:\n",
    "        nbr = dcm[\"AccessionNumber\"].value\n",
    "    except:\n",
    "        nbr = None\n",
    "\n",
    "    pid = retrievePersonId(nbr)\n",
    "\n",
    "    #dcm[\"PatientID\"].value = pid\n",
    "\n",
    "    #dcm.save_as(filepath)\n",
    "\n",
    "    return (filepath, nbr, pid)\n",
    "\n",
    "\n",
    "\n",
    "async def update_infile_pid(filepath, subdirs):\n",
    "    if str(filepath.split(\"/\")[-1]).upper() == \"DICOMDIR\":\n",
    "        return (subdirs, *_update_dicomdir_pid(filepath))\n",
    "    else:\n",
    "        return (subdirs, *_update_dcm_pid(filepath))\n",
    "    \n"
   ]
  },
  {
   "cell_type": "code",
   "execution_count": 0,
   "metadata": {
    "application/vnd.databricks.v1+cell": {
     "cellMetadata": {
      "byteLimit": 2048000,
      "rowLimit": 10000
     },
     "inputWidgets": {},
     "nuid": "ccf1c7e6-9d75-4278-b975-b26d8ff38c71",
     "showTitle": false,
     "tableResultSettingsMap": {},
     "title": ""
    }
   },
   "outputs": [],
   "source": [
    "# Define schema for loading DICOMDIR\n",
    "schema = T.StructType([\n",
    "        T.StructField(\"filepath\", T.StringType(), True),\n",
    "        T.StructField(\"accession_nbr\", T.StringType(), True),\n",
    "        T.StructField(\"pid\", T.StringType(), True)\n",
    "])\n",
    "\n",
    "min_batch_size = 200\n",
    "file_queue = []\n",
    "for root, subdirs, files in tqdm(os.walk(os.path.join(ROOT_DIR, params[\"proj_dir\"]))):\n",
    "    #coros = [async_getmtime(os.path.join(root, filename)) for filename in files]\n",
    "    #results = await asyncio.gather(*coros)\n",
    "    filepaths = [os.path.join(root, filename) for filename in files]\n",
    "    ctimes = [datetime.fromtimestamp(os.path.getctime(fp)) for fp in filepaths]\n",
    "    newfile_flags = [mt >= start_time for mt in mtimes]\n",
    "    file_queue += [(fp, subdirs) for i, fp in enumerate(filepaths) if newfile_flags[i]]\n",
    "\n",
    "    if len(file_queue) >= min_batch_size:\n",
    "        coros = [update_infile_pid(fp, sd) for fp, sd in file_queue]\n",
    "        results = await asyncio.gather(*coros)\n",
    "        file_queue = []\n",
    "        break\n",
    "\n"
   ]
  },
  {
   "cell_type": "code",
   "execution_count": 0,
   "metadata": {
    "application/vnd.databricks.v1+cell": {
     "cellMetadata": {
      "byteLimit": 2048000,
      "implicitDf": true,
      "rowLimit": 10000
     },
     "inputWidgets": {},
     "nuid": "ca9f07a8-3460-4ce8-b1d8-b3a9d7c50619",
     "showTitle": false,
     "tableResultSettingsMap": {},
     "title": ""
    }
   },
   "outputs": [],
   "source": [
    "results\n"
   ]
  }
 ],
 "metadata": {
  "application/vnd.databricks.v1+notebook": {
   "computePreferences": null,
   "dashboards": [],
   "environmentMetadata": {
    "base_environment": "",
    "environment_version": "2"
   },
   "language": "python",
   "notebookMetadata": {
    "mostRecentlyExecutedCommandWithImplicitDF": {
     "commandId": -1,
     "dataframes": [
      "_sqldf"
     ]
    },
    "pythonIndentUnit": 4
   },
   "notebookName": "ScanAndProcessIncomingPacsFilesInFolder",
   "widgets": {
    "adf_pipeline_id": {
     "currentValue": "",
     "nuid": "3ea9cdf3-9559-4ca1-b6fa-f09a99441d55",
     "typedWidgetInfo": {
      "autoCreated": false,
      "defaultValue": "",
      "label": "",
      "name": "adf_pipeline_id",
      "options": {
       "widgetDisplayType": "Text",
       "validationRegex": null
      },
      "parameterDataType": "String"
     },
     "widgetInfo": {
      "widgetType": "text",
      "defaultValue": "",
      "label": "",
      "name": "adf_pipeline_id",
      "options": {
       "widgetType": "text",
       "autoCreated": null,
       "validationRegex": null
      }
     }
    },
    "adf_start_time": {
     "currentValue": "2025-02-10T05:17:46.2351015Z",
     "nuid": "2436be13-1406-4466-9b10-008d9f5b13e0",
     "typedWidgetInfo": {
      "autoCreated": false,
      "defaultValue": "",
      "label": "",
      "name": "adf_start_time",
      "options": {
       "widgetDisplayType": "Text",
       "validationRegex": null
      },
      "parameterDataType": "String"
     },
     "widgetInfo": {
      "widgetType": "text",
      "defaultValue": "",
      "label": "",
      "name": "adf_start_time",
      "options": {
       "widgetType": "text",
       "autoCreated": null,
       "validationRegex": null
      }
     }
    },
    "proj_dir": {
     "currentValue": "test_azcopy",
     "nuid": "a1956658-df6e-47df-8198-be1cf118fd2a",
     "typedWidgetInfo": {
      "autoCreated": false,
      "defaultValue": "",
      "label": "",
      "name": "proj_dir",
      "options": {
       "widgetDisplayType": "Text",
       "validationRegex": null
      },
      "parameterDataType": "String"
     },
     "widgetInfo": {
      "widgetType": "text",
      "defaultValue": "",
      "label": "",
      "name": "proj_dir",
      "options": {
       "widgetType": "text",
       "autoCreated": null,
       "validationRegex": null
      }
     }
    }
   }
  },
  "language_info": {
   "name": "python"
  }
 },
 "nbformat": 4,
 "nbformat_minor": 0
}
