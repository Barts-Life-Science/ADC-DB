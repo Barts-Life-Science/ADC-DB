{
 "cells": [
  {
   "cell_type": "code",
   "execution_count": 0,
   "metadata": {
    "application/vnd.databricks.v1+cell": {
     "cellMetadata": {
      "byteLimit": 2048000,
      "rowLimit": 10000
     },
     "inputWidgets": {},
     "nuid": "94e3e004-20d4-4035-8e60-ca96bb4862b2",
     "showTitle": false,
     "tableResultSettingsMap": {},
     "title": ""
    }
   },
   "outputs": [],
   "source": [
    "from azure.storage.fileshare import ShareServiceClient\n",
    "import os"
   ]
  },
  {
   "cell_type": "code",
   "execution_count": 0,
   "metadata": {
    "application/vnd.databricks.v1+cell": {
     "cellMetadata": {
      "byteLimit": 2048000,
      "rowLimit": 10000
     },
     "inputWidgets": {},
     "nuid": "9c1e0ff1-a65c-4c42-968f-bcf43a6c6e34",
     "showTitle": false,
     "tableResultSettingsMap": {},
     "title": ""
    }
   },
   "outputs": [],
   "source": [
    "acc_name = dbutils.secrets.get(scope = \"adc_store\", key = \"pacs_intfileshare_accname\")\n",
    "acc_key = dbutils.secrets.get(scope = \"adc_store\", key = \"pacs_intfileshare_acckey\")\n",
    "\n",
    "# Connection string\n",
    "connection_string = f\"DefaultEndpointsProtocol=https;AccountName={acc_name};AccountKey={acc_key};EndpointSuffix=core.windows.net\"\n",
    "\n",
    "# File share name\n",
    "share_name = \"intfileshare\"\n",
    "\n",
    "# Get a share client via connection string\n",
    "share_client = ShareServiceClient.from_connection_string(connection_string).get_share_client(share_name)\n",
    "\n",
    " \n",
    "\n",
    "# List all files and directories in the root of the file share\n",
    "print(\"Files and directories in the root of the file share:\")\n",
    "items = list(share_client.list_directories_and_files())\n",
    "for item in items:\n",
    "    print(f\"    {item['name']}\")"
   ]
  }
 ],
 "metadata": {
  "application/vnd.databricks.v1+notebook": {
   "computePreferences": null,
   "dashboards": [],
   "environmentMetadata": {
    "base_environment": "",
    "client": "1"
   },
   "language": "python",
   "notebookMetadata": {
    "pythonIndentUnit": 4
   },
   "notebookName": "CopyImageFilesFromFileShareToVolume",
   "widgets": {}
  },
  "language_info": {
   "name": "python"
  }
 },
 "nbformat": 4,
 "nbformat_minor": 0
}
