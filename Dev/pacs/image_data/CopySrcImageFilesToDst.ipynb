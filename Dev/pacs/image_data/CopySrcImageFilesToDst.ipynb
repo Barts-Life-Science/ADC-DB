{
 "cells": [
  {
   "cell_type": "code",
   "execution_count": 0,
   "metadata": {
    "application/vnd.databricks.v1+cell": {
     "cellMetadata": {
      "byteLimit": 2048000,
      "rowLimit": 10000
     },
     "inputWidgets": {},
     "nuid": "5455d0b1-9d3e-47cd-a63b-f0edb81b49f4",
     "showTitle": false,
     "tableResultSettingsMap": {},
     "title": ""
    }
   },
   "outputs": [],
   "source": [
    "from azure.storage.fileshare import ShareServiceClient\n",
    "import os\n",
    "import tqdm\n",
    "from pathlib import Path\n",
    "from pyspark.sql import functions as F\n"
   ]
  },
  {
   "cell_type": "code",
   "execution_count": 0,
   "metadata": {
    "application/vnd.databricks.v1+cell": {
     "cellMetadata": {
      "byteLimit": 2048000,
      "rowLimit": 10000
     },
     "inputWidgets": {},
     "nuid": "12c4ed29-eae4-43e8-87f9-26981b1ef6e1",
     "showTitle": false,
     "tableResultSettingsMap": {},
     "title": ""
    }
   },
   "outputs": [],
   "source": [
    "df = spark.sql(\"\"\"\n",
    "SELECT *\n",
    "FROM 1_inland.sectra.pacs_file_copy\n",
    "WHERE active_ind = 1 AND LOWER(status) != 'done'              \n",
    "\"\"\")"
   ]
  },
  {
   "cell_type": "code",
   "execution_count": 0,
   "metadata": {
    "application/vnd.databricks.v1+cell": {
     "cellMetadata": {
      "byteLimit": 2048000,
      "rowLimit": 10000
     },
     "inputWidgets": {},
     "nuid": "817b1033-1376-453d-a374-f8b316b7c897",
     "showTitle": false,
     "tableResultSettingsMap": {},
     "title": ""
    }
   },
   "outputs": [],
   "source": [
    "display(df)"
   ]
  },
  {
   "cell_type": "code",
   "execution_count": 0,
   "metadata": {
    "application/vnd.databricks.v1+cell": {
     "cellMetadata": {
      "byteLimit": 2048000,
      "rowLimit": 10000
     },
     "inputWidgets": {},
     "nuid": "575200bc-78a2-45b4-9106-3a7b7a43ed6e",
     "showTitle": false,
     "tableResultSettingsMap": {},
     "title": ""
    }
   },
   "outputs": [],
   "source": [
    "def concatSrcColsToPath(src_root, src_proj_dir, src_subdirs, src_filename):\n",
    "    return F.concat(src_root, F.lit('/'), src_proj_dir, F.lit('/'), src_subdirs, F.lit('/'), src_filename)"
   ]
  },
  {
   "cell_type": "code",
   "execution_count": 0,
   "metadata": {
    "application/vnd.databricks.v1+cell": {
     "cellMetadata": {
      "byteLimit": 2048000,
      "rowLimit": 10000
     },
     "inputWidgets": {},
     "nuid": "8f25d685-b5ed-4ace-967a-e93cf60b5606",
     "showTitle": false,
     "tableResultSettingsMap": {},
     "title": ""
    }
   },
   "outputs": [],
   "source": [
    "def getSrcFileClient(src_path):\n",
    "    acc_name = dbutils.secrets.get(scope = \"adc_store\", key = \"pacs_intfileshare_accname\")\n",
    "    acc_key = dbutils.secrets.get(scope = \"adc_store\", key = \"pacs_intfileshare_acckey\")\n",
    "\n",
    "    # Connection string\n",
    "    connection_string = f\"DefaultEndpointsProtocol=https;AccountName={acc_name};AccountKey={acc_key};EndpointSuffix=core.windows.net\"\n",
    "\n",
    "    # File share name\n",
    "    share_name = \"intfileshare\"\n",
    "\n",
    "    # Get a share client via connection string\n",
    "    share_client = ShareServiceClient.from_connection_string(connection_string).get_share_client(share_name)\n",
    "\n",
    "    file_client = share_client.get_file_client(src_path)\n",
    "\n",
    "    return file_client"
   ]
  },
  {
   "cell_type": "code",
   "execution_count": 0,
   "metadata": {
    "application/vnd.databricks.v1+cell": {
     "cellMetadata": {
      "byteLimit": 2048000,
      "rowLimit": 10000
     },
     "inputWidgets": {},
     "nuid": "112fd928-8310-4c82-88e8-fee829fc0e84",
     "showTitle": false,
     "tableResultSettingsMap": {},
     "title": ""
    }
   },
   "outputs": [],
   "source": [
    "# TODO: make a UDF to move file from src to dst and return status\n",
    "\n",
    "def copySrcFileToDst(row):\n",
    "    src_path = os.path.join(row[\"src_root\"], row[\"src_proj_dir\"], row[\"src_subdirs\"], row[\"src_filename\"])\n",
    "\n",
    "    #try:\n",
    "    file_client = getSrcFileClient(src_path)\n",
    "    file_bytes = file_client.download_file().readall()\n",
    "    print(Path(row[\"dst_filepath\"]).parent.absolute())\n",
    "\n",
    "    # Make parent directory if not exist\n",
    "    Path(row[\"dst_filepath\"]).parent.absolute().mkdir(parents=True, exist_ok=True)\n",
    "\n",
    "    # Write to Databricks\n",
    "    with open(row[\"dst_filepath\"], \"wb\") as f:\n",
    "        f.write(file_bytes)\n",
    "    #except Exception as e:\n",
    "    #    print(e)\n",
    "    #    raise e\n",
    "    #    return (row[\"id\"], 'failed')\n",
    "    \n",
    "    return (row[\"id\"], 'done')\n"
   ]
  },
  {
   "cell_type": "code",
   "execution_count": 0,
   "metadata": {
    "application/vnd.databricks.v1+cell": {
     "cellMetadata": {
      "byteLimit": 2048000,
      "rowLimit": 10000
     },
     "inputWidgets": {},
     "nuid": "ea4cafb9-eb04-4c9e-a471-0bccd39cca3e",
     "showTitle": false,
     "tableResultSettingsMap": {},
     "title": ""
    }
   },
   "outputs": [],
   "source": [
    "df2 = df.limit(2).withColumn(\"src_path\", concatSrcColsToPath(F.col(\"src_root\"), F.col(\"src_proj_dir\"), F.col(\"src_subdirs\"), F.col(\"src_filename\"))).collect()\n",
    "\n"
   ]
  },
  {
   "cell_type": "code",
   "execution_count": 0,
   "metadata": {
    "application/vnd.databricks.v1+cell": {
     "cellMetadata": {
      "byteLimit": 2048000,
      "rowLimit": 10000
     },
     "inputWidgets": {},
     "nuid": "600cf067-8ec3-4898-82ce-84f2b31c7c42",
     "showTitle": false,
     "tableResultSettingsMap": {},
     "title": ""
    }
   },
   "outputs": [],
   "source": [
    "results = []\n",
    "for row in df2:\n",
    "    results.append(copySrcFileToDst(row))\n",
    "\n",
    "print(results)"
   ]
  }
 ],
 "metadata": {
  "application/vnd.databricks.v1+notebook": {
   "computePreferences": null,
   "dashboards": [],
   "environmentMetadata": {
    "base_environment": "",
    "client": "1"
   },
   "language": "python",
   "notebookMetadata": {
    "pythonIndentUnit": 4
   },
   "notebookName": "CopySrcImageFilesToDst",
   "widgets": {}
  },
  "language_info": {
   "name": "python"
  }
 },
 "nbformat": 4,
 "nbformat_minor": 0
}
