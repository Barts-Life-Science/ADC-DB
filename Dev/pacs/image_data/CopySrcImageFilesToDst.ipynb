{
 "cells": [
  {
   "cell_type": "code",
   "execution_count": 0,
   "metadata": {
    "application/vnd.databricks.v1+cell": {
     "cellMetadata": {
      "byteLimit": 2048000,
      "rowLimit": 10000
     },
     "inputWidgets": {},
     "nuid": "5455d0b1-9d3e-47cd-a63b-f0edb81b49f4",
     "showTitle": false,
     "tableResultSettingsMap": {},
     "title": ""
    }
   },
   "outputs": [],
   "source": [
    "from azure.storage.fileshare import ShareServiceClient\n",
    "import os\n",
    "import tqdm\n",
    "from pathlib import Path\n",
    "from pyspark.sql import functions as F\n",
    "import asyncio"
   ]
  },
  {
   "cell_type": "code",
   "execution_count": 0,
   "metadata": {
    "application/vnd.databricks.v1+cell": {
     "cellMetadata": {
      "byteLimit": 2048000,
      "rowLimit": 10000
     },
     "inputWidgets": {},
     "nuid": "e2a98879-b7a5-45b9-8599-94b9c382d9dc",
     "showTitle": false,
     "tableResultSettingsMap": {},
     "title": ""
    }
   },
   "outputs": [],
   "source": [
    "MAX_CONCURRENT_COPIES = 2\n",
    "RETRY_INTERVAL_HOURS = 12\n",
    "MAX_ITERATIONS = 2"
   ]
  },
  {
   "cell_type": "code",
   "execution_count": 0,
   "metadata": {
    "application/vnd.databricks.v1+cell": {
     "cellMetadata": {
      "byteLimit": 2048000,
      "rowLimit": 10000
     },
     "inputWidgets": {},
     "nuid": "8f25d685-b5ed-4ace-967a-e93cf60b5606",
     "showTitle": false,
     "tableResultSettingsMap": {},
     "title": ""
    }
   },
   "outputs": [],
   "source": [
    "def getSrcFileClient(src_path):\n",
    "    acc_name = dbutils.secrets.get(scope = \"adc_store\", key = \"pacs_intfileshare_accname\")\n",
    "    acc_key = dbutils.secrets.get(scope = \"adc_store\", key = \"pacs_intfileshare_acckey\")\n",
    "\n",
    "    # Connection string\n",
    "    connection_string = f\"DefaultEndpointsProtocol=https;AccountName={acc_name};AccountKey={acc_key};EndpointSuffix=core.windows.net\"\n",
    "\n",
    "    # File share name\n",
    "    share_name = \"intfileshare\"\n",
    "\n",
    "    # Get a share client via connection string\n",
    "    share_client = ShareServiceClient.from_connection_string(connection_string).get_share_client(share_name)\n",
    "\n",
    "    file_client = share_client.get_file_client(src_path)\n",
    "\n",
    "    return file_client"
   ]
  },
  {
   "cell_type": "code",
   "execution_count": 0,
   "metadata": {
    "application/vnd.databricks.v1+cell": {
     "cellMetadata": {
      "byteLimit": 2048000,
      "rowLimit": 10000
     },
     "inputWidgets": {},
     "nuid": "112fd928-8310-4c82-88e8-fee829fc0e84",
     "showTitle": false,
     "tableResultSettingsMap": {},
     "title": ""
    }
   },
   "outputs": [],
   "source": [
    "\n",
    "async def copySrcFileToDst(row):\n",
    "    src_path = os.path.join(row[\"src_root\"], row[\"src_proj_dir\"], row[\"src_subdirs\"], row[\"src_filename\"])\n",
    "\n",
    "    try:\n",
    "        file_client = getSrcFileClient(src_path)\n",
    "        file_bytes = file_client.download_file().readall()\n",
    "\n",
    "        # Make parent directory if not exist\n",
    "        Path(row[\"dst_filepath\"]).parent.absolute().mkdir(parents=True, exist_ok=True)\n",
    "\n",
    "        # Write to Databricks\n",
    "        with open(row[\"dst_filepath\"], \"wb\") as f:\n",
    "            f.write(file_bytes)\n",
    "    except Exception as e:\n",
    "        return (row[\"item_id\"], 'failed')\n",
    "    \n",
    "    return (row[\"item_id\"], 'done')\n"
   ]
  },
  {
   "cell_type": "code",
   "execution_count": 0,
   "metadata": {
    "application/vnd.databricks.v1+cell": {
     "cellMetadata": {
      "byteLimit": 2048000,
      "rowLimit": 10000
     },
     "inputWidgets": {},
     "nuid": "12c4ed29-eae4-43e8-87f9-26981b1ef6e1",
     "showTitle": false,
     "tableResultSettingsMap": {},
     "title": ""
    }
   },
   "outputs": [],
   "source": [
    "\n",
    "for _ in tqdm.tqdm(range(MAX_ITERATIONS)):\n",
    "    df = spark.sql(f\"\"\"\n",
    "        SELECT *\n",
    "        FROM 1_inland.sectra.pacs_file_copy\n",
    "        WHERE \n",
    "            active_ind = 1 \n",
    "            AND LOWER(status) != 'done' \n",
    "            AND (\n",
    "                TIMEDIFF(HOUR, last_run_at, CURRENT_TIMESTAMP()) > {RETRY_INTERVAL_HOURS}\n",
    "                OR last_run_at IS NULL)\n",
    "        LIMIT {MAX_CONCURRENT_COPIES}     \n",
    "    \"\"\")\n",
    "\n",
    "    if df.count() > 0:\n",
    "        pass\n",
    "    else:\n",
    "        break\n",
    "\n",
    "    coros = [copySrcFileToDst(row) for row in df.collect()]\n",
    "    results = await asyncio.gather(*coros)\n",
    "    result_df = spark.createDataFrame(data=results, schema=[\"item_id\", \"status\"])\n",
    "    result_df.createOrReplaceTempView(\"temp_file_copy_results\")\n",
    "\n",
    "    spark.sql(\"\"\"\n",
    "        MERGE INTO 1_inland.sectra.pacs_file_copy AS t USING temp_file_copy_results AS s\n",
    "        ON t.item_id = s.item_id\n",
    "        WHEN MATCHED THEN UPDATE SET \n",
    "        t.status = s.status,\n",
    "        last_run_at = CURRENT_TIMESTAMP()\n",
    "    \"\"\")"
   ]
  },
  {
   "cell_type": "code",
   "execution_count": 0,
   "metadata": {
    "application/vnd.databricks.v1+cell": {
     "cellMetadata": {
      "byteLimit": 2048000,
      "implicitDf": true,
      "rowLimit": 10000
     },
     "inputWidgets": {},
     "nuid": "909c2e0c-94bc-4225-aa51-5ce3b4509257",
     "showTitle": false,
     "tableResultSettingsMap": {},
     "title": ""
    }
   },
   "outputs": [],
   "source": [
    "%sql\n",
    "SELECT *\n",
    "FROM 1_inland.sectra.pacs_file_copy\n",
    "WHERE status = 'done'"
   ]
  }
 ],
 "metadata": {
  "application/vnd.databricks.v1+notebook": {
   "computePreferences": null,
   "dashboards": [],
   "environmentMetadata": {
    "base_environment": "",
    "client": "1"
   },
   "language": "python",
   "notebookMetadata": {
    "mostRecentlyExecutedCommandWithImplicitDF": {
     "commandId": 8249580362378722,
     "dataframes": [
      "_sqldf"
     ]
    },
    "pythonIndentUnit": 4
   },
   "notebookName": "CopySrcImageFilesToDst",
   "widgets": {}
  },
  "language_info": {
   "name": "python"
  }
 },
 "nbformat": 4,
 "nbformat_minor": 0
}
