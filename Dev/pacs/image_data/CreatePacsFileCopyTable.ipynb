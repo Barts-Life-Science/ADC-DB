{
 "cells": [
  {
   "cell_type": "code",
   "execution_count": 0,
   "metadata": {
    "application/vnd.databricks.v1+cell": {
     "cellMetadata": {
      "byteLimit": 2048000,
      "implicitDf": true,
      "rowLimit": 10000
     },
     "inputWidgets": {},
     "nuid": "629478a7-c587-4fd3-b036-86f2b4640f0d",
     "showTitle": false,
     "tableResultSettingsMap": {},
     "title": ""
    }
   },
   "outputs": [],
   "source": [
    "%sql\n",
    "\n",
    "SELECT *\n",
    "FROM 1_inland.sectra.pacs_file_process\n",
    "--WHERE copy_status = 'done'\n",
    "LIMIT 1000"
   ]
  },
  {
   "cell_type": "code",
   "execution_count": 0,
   "metadata": {
    "application/vnd.databricks.v1+cell": {
     "cellMetadata": {
      "byteLimit": 2048000,
      "implicitDf": true,
      "rowLimit": 10000
     },
     "inputWidgets": {},
     "nuid": "874a4e1c-954a-4f78-9fb8-8bd7d87aa067",
     "showTitle": false,
     "tableResultSettingsMap": {},
     "title": ""
    }
   },
   "outputs": [],
   "source": [
    "%sql\n",
    "--DROP TABLE 1_inland.sectra.pacs_file_copy;"
   ]
  },
  {
   "cell_type": "code",
   "execution_count": 0,
   "metadata": {
    "application/vnd.databricks.v1+cell": {
     "cellMetadata": {
      "byteLimit": 2048000,
      "implicitDf": true,
      "rowLimit": 10000
     },
     "inputWidgets": {},
     "nuid": "ca988cf7-8fce-4cd0-a009-a78a095f8fb7",
     "showTitle": false,
     "tableResultSettingsMap": {},
     "title": ""
    }
   },
   "outputs": [],
   "source": [
    "%sql\n",
    "\n",
    "CREATE TABLE 1_inland.sectra.pacs_file_copy(\n",
    "  item_id BIGINT GENERATED ALWAYS AS IDENTITY,\n",
    "  src_root STRING,\n",
    "  src_proj_dir STRING,\n",
    "  src_subdirs STRING,\n",
    "  src_filename STRING,\n",
    "  dst_filepath STRING,\n",
    "  active_ind INT,\n",
    "  added_at TIMESTAMP,\n",
    "  copy_status STRING,\n",
    "  last_copy_run_at TIMESTAMP,\n",
    "  num_copy_tries INT,\n",
    "  process_status STRING,\n",
    "  last_process_run_at TIMESTAMP,\n",
    "  num_process_tries INT,\n",
    "  src_delete_status STRING,\n",
    "  last_delete_run_at TIMESTAMP,\n",
    "  num_delete_tries INT\n",
    ")"
   ]
  },
  {
   "cell_type": "code",
   "execution_count": 0,
   "metadata": {
    "application/vnd.databricks.v1+cell": {
     "cellMetadata": {
      "byteLimit": 2048000,
      "implicitDf": true,
      "rowLimit": 10000
     },
     "inputWidgets": {},
     "nuid": "a5ada299-f8ff-498e-aee9-1b5b1bd69b03",
     "showTitle": false,
     "tableResultSettingsMap": {},
     "title": ""
    }
   },
   "outputs": [],
   "source": [
    "%sql\n",
    "DROP TABLE 1_inland.sectra.pacs_file_process;"
   ]
  },
  {
   "cell_type": "code",
   "execution_count": 0,
   "metadata": {
    "application/vnd.databricks.v1+cell": {
     "cellMetadata": {
      "byteLimit": 2048000,
      "implicitDf": true,
      "rowLimit": 10000
     },
     "inputWidgets": {},
     "nuid": "d54cbbce-d5ef-4fde-ab0e-f577d971b4b7",
     "showTitle": false,
     "tableResultSettingsMap": {},
     "title": ""
    }
   },
   "outputs": [],
   "source": [
    "%sql\n",
    "\n",
    "CREATE TABLE 1_inland.sectra.pacs_file_process(\n",
    "  item_id BIGINT GENERATED ALWAYS AS IDENTITY,\n",
    "  file_path STRING,\n",
    "  proj_dir STRING,\n",
    "  subdirs STRING,\n",
    "  filename STRING,\n",
    "  added_at TIMESTAMP,\n",
    "  file_status STRING,\n",
    "  file_status_updt_dt TIMESTAMP,\n",
    "  process_status STRING,\n",
    "  process_status_updt_dt TIMESTAMP,\n",
    "  accession_nbr STRING,\n",
    "  mill_pid STRING,\n",
    "  priority INT,\n",
    "  active_ind INT\n",
    ")"
   ]
  }
 ],
 "metadata": {
  "application/vnd.databricks.v1+notebook": {
   "computePreferences": null,
   "dashboards": [],
   "environmentMetadata": {
    "base_environment": "",
    "environment_version": "1"
   },
   "language": "python",
   "notebookMetadata": {
    "mostRecentlyExecutedCommandWithImplicitDF": {
     "commandId": 7089663411016379,
     "dataframes": [
      "_sqldf"
     ]
    },
    "pythonIndentUnit": 4
   },
   "notebookName": "CreatePacsFileCopyTable",
   "widgets": {}
  },
  "language_info": {
   "name": "python"
  }
 },
 "nbformat": 4,
 "nbformat_minor": 0
}
