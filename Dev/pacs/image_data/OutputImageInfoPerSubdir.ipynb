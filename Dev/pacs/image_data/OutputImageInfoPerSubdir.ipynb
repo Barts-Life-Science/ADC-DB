{
 "cells": [
  {
   "cell_type": "code",
   "execution_count": 0,
   "metadata": {
    "application/vnd.databricks.v1+cell": {
     "cellMetadata": {
      "byteLimit": 2048000,
      "rowLimit": 10000
     },
     "inputWidgets": {},
     "nuid": "396cc064-7f34-4150-a93d-a4880f108825",
     "showTitle": false,
     "tableResultSettingsMap": {},
     "title": ""
    }
   },
   "outputs": [],
   "source": [
    "# Notebook parameters\n",
    "\n",
    "params = {\n",
    "    \"proj_dir\": \"\"\n",
    "}\n",
    "\n",
    "# create text widgets\n",
    "for k in params.keys():\n",
    "    dbutils.widgets.text(k, \"\", \"\")\n",
    "\n",
    "# fetch values\n",
    "for k in params.keys():\n",
    "    params[k] = dbutils.widgets.get(k)\n",
    "    print(k, \":\", params[k])"
   ]
  },
  {
   "cell_type": "code",
   "execution_count": 0,
   "metadata": {
    "application/vnd.databricks.v1+cell": {
     "cellMetadata": {
      "byteLimit": 2048000,
      "rowLimit": 10000
     },
     "inputWidgets": {},
     "nuid": "303ffa7e-5984-4c88-92ee-14d31f60fa43",
     "showTitle": false,
     "tableResultSettingsMap": {},
     "title": ""
    }
   },
   "outputs": [],
   "source": [
    "import os\n",
    "import time\n",
    "from datetime import datetime\n",
    "from tqdm import tqdm\n",
    "import pydicom\n",
    "import asyncio\n",
    "from functools import lru_cache\n",
    "from pyspark.sql import types as T\n",
    "from pyspark.sql import functions as F\n",
    "from glob import glob"
   ]
  },
  {
   "cell_type": "code",
   "execution_count": 0,
   "metadata": {
    "application/vnd.databricks.v1+cell": {
     "cellMetadata": {
      "byteLimit": 2048000,
      "rowLimit": 10000
     },
     "inputWidgets": {},
     "nuid": "20d32184-ac3d-4f49-b1ae-de7dbf4cabcc",
     "showTitle": false,
     "tableResultSettingsMap": {},
     "title": ""
    }
   },
   "outputs": [],
   "source": [
    "ROOT_DIR = \"/Volumes/1_inland/sectra/vone\"\n",
    "proj_dir_path = os.path.join(ROOT_DIR, params[\"proj_dir\"])"
   ]
  },
  {
   "cell_type": "code",
   "execution_count": 0,
   "metadata": {
    "application/vnd.databricks.v1+cell": {
     "cellMetadata": {
      "byteLimit": 2048000,
      "rowLimit": 10000
     },
     "inputWidgets": {},
     "nuid": "728045f9-ef7f-48d7-baeb-4e50aa3d0054",
     "showTitle": false,
     "tableResultSettingsMap": {},
     "title": ""
    }
   },
   "outputs": [],
   "source": [
    "def extractAccessionNbrFromDicomdir(filepath):\n",
    "    dcm = pydicom.dcmread(filepath)\n",
    "    \n",
    "    nbr = \"unknown\"\n",
    "    for x in dcm.DirectoryRecordSequence:\n",
    "        try:\n",
    "            nbr = str(x[\"AccessionNumber\"].value)\n",
    "            break\n",
    "        except:\n",
    "            continue\n",
    "\n",
    "    return nbr"
   ]
  },
  {
   "cell_type": "code",
   "execution_count": 0,
   "metadata": {
    "application/vnd.databricks.v1+cell": {
     "cellMetadata": {
      "byteLimit": 2048000,
      "rowLimit": 10000
     },
     "inputWidgets": {},
     "nuid": "1a500cd3-7482-48f6-893a-e88e50812272",
     "showTitle": false,
     "tableResultSettingsMap": {},
     "title": ""
    }
   },
   "outputs": [],
   "source": [
    "data = []\n",
    "for fp in tqdm(glob(f\"{proj_dir_path}/*/DICOMDIR\")):\n",
    "    data.append((fp, extractAccessionNbrFromDicomdir(fp)))\n",
    "\n",
    "accession_nbr = spark.createDataFrame(data=data, schema=[\"filepath\", \"accession_nbr\"])\n",
    "accession_nbr.createOrReplaceTempView(\"temp_accession_nbr\")"
   ]
  },
  {
   "cell_type": "code",
   "execution_count": 0,
   "metadata": {
    "application/vnd.databricks.v1+cell": {
     "cellMetadata": {
      "byteLimit": 2048000,
      "rowLimit": 10000
     },
     "inputWidgets": {},
     "nuid": "a844bb0c-5235-44e3-8ac7-4ac6c315229e",
     "showTitle": false,
     "tableResultSettingsMap": {},
     "title": ""
    }
   },
   "outputs": [],
   "source": [
    "df = spark.sql(f\"\"\"\n",
    "SELECT\n",
    "    --t.filepath,\n",
    "    MAX(REPLACE(REPLACE(t.filepath, '{proj_dir_path}/',''), '/DICOMDIR', '')) AS Subdir,\n",
    "    MAX(t.accession_nbr) AS AccessionNbr,\n",
    "    MAX(s.MillPersonId) AS MillPersonId\n",
    "FROM temp_accession_nbr AS t\n",
    "LEFT JOIN 4_prod.pacs.all_pacs_ref_nbr AS s\n",
    "ON t.accession_nbr = s.RefNbr\n",
    "GROUP BY t.filepath\n",
    "ORDER BY Subdir ASC\n",
    "\"\"\")"
   ]
  },
  {
   "cell_type": "code",
   "execution_count": 0,
   "metadata": {
    "application/vnd.databricks.v1+cell": {
     "cellMetadata": {
      "byteLimit": 2048000,
      "rowLimit": 10000
     },
     "inputWidgets": {},
     "nuid": "3a32e41b-d619-4fb6-a0f3-5500e718dc75",
     "showTitle": false,
     "tableResultSettingsMap": {},
     "title": ""
    }
   },
   "outputs": [],
   "source": [
    "\n",
    "df = spark.sql(f\"\"\"\n",
    "WITH nhs AS (\n",
    "    SELECT DISTINCT\n",
    "        MillPersonId,\n",
    "        NhsNumber\n",
    "    FROM 4_prod.pacs.intmd_pacs_patient_alias\n",
    ")\n",
    "SELECT\n",
    "    --t.filepath,\n",
    "    MAX(REPLACE(REPLACE(t.filepath, '{proj_dir_path}/',''), '/DICOMDIR', '')) AS Subdir,\n",
    "    MAX(t.accession_nbr) AS AccessionNbr,\n",
    "    MAX(s.MillPersonId) AS MillPersonId,\n",
    "    MAX(nhs.NhsNumber) AS NhsNumber\n",
    "FROM temp_accession_nbr AS t\n",
    "LEFT JOIN 4_prod.pacs.all_pacs_ref_nbr AS s\n",
    "ON t.accession_nbr = s.RefNbr\n",
    "LEFT JOIN nhs\n",
    "ON nhs.MillPersonId = s.MillPersonId\n",
    "GROUP BY t.filepath\n",
    "ORDER BY Subdir ASC\n",
    "\"\"\")\n"
   ]
  },
  {
   "cell_type": "code",
   "execution_count": 0,
   "metadata": {
    "application/vnd.databricks.v1+cell": {
     "cellMetadata": {
      "byteLimit": 2048000,
      "rowLimit": 10000
     },
     "inputWidgets": {},
     "nuid": "51a7933b-601f-45d0-acf5-82bba95ce111",
     "showTitle": false,
     "tableResultSettingsMap": {},
     "title": ""
    }
   },
   "outputs": [],
   "source": [
    "pd = df.toPandas()\n",
    "pd.to_csv(os.path.join(proj_dir_path, \"ImageInfo.csv\"), index=False)"
   ]
  },
  {
   "cell_type": "code",
   "execution_count": 0,
   "metadata": {
    "application/vnd.databricks.v1+cell": {
     "cellMetadata": {
      "byteLimit": 2048000,
      "rowLimit": 10000
     },
     "inputWidgets": {},
     "nuid": "a8a406aa-e1fc-4bb2-ab03-af73ca848942",
     "showTitle": false,
     "tableResultSettingsMap": {},
     "title": ""
    }
   },
   "outputs": [],
   "source": [
    "display(df)"
   ]
  },
  {
   "cell_type": "code",
   "execution_count": 0,
   "metadata": {
    "application/vnd.databricks.v1+cell": {
     "cellMetadata": {
      "byteLimit": 2048000,
      "rowLimit": 10000
     },
     "inputWidgets": {},
     "nuid": "ee7fcbac-7125-44d1-8bc5-fad94d8db190",
     "showTitle": false,
     "tableResultSettingsMap": {},
     "title": ""
    }
   },
   "outputs": [],
   "source": [
    "display(df.groupby(\"MillPersonId\").count())"
   ]
  }
 ],
 "metadata": {
  "application/vnd.databricks.v1+notebook": {
   "computePreferences": {
    "hardware": {
     "accelerator": null,
     "gpuPoolId": null,
     "memory": null
    }
   },
   "dashboards": [],
   "environmentMetadata": {
    "base_environment": "",
    "dependencies": [
     "tqdm==4.66.4",
     "pydicom==3.0.1"
    ],
    "environment_version": "2"
   },
   "inputWidgetPreferences": null,
   "language": "python",
   "notebookMetadata": {
    "pythonIndentUnit": 4
   },
   "notebookName": "OutputImageInfoPerSubdir",
   "widgets": {
    "proj_dir": {
     "currentValue": "dac023_bcnb",
     "nuid": "a3d1de53-336f-41fc-9ef3-b705b63f77d9",
     "typedWidgetInfo": {
      "autoCreated": false,
      "defaultValue": "",
      "label": "",
      "name": "proj_dir",
      "options": {
       "widgetDisplayType": "Text",
       "validationRegex": null
      },
      "parameterDataType": "String"
     },
     "widgetInfo": {
      "widgetType": "text",
      "defaultValue": "",
      "label": "",
      "name": "proj_dir",
      "options": {
       "widgetType": "text",
       "autoCreated": null,
       "validationRegex": null
      }
     }
    }
   }
  },
  "language_info": {
   "name": "python"
  }
 },
 "nbformat": 4,
 "nbformat_minor": 0
}
