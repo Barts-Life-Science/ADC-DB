{
 "cells": [
  {
   "cell_type": "code",
   "execution_count": 0,
   "metadata": {
    "application/vnd.databricks.v1+cell": {
     "cellMetadata": {
      "byteLimit": 2048000,
      "rowLimit": 10000
     },
     "inputWidgets": {},
     "nuid": "074ede94-3ba6-41f4-9f1d-9a667965562a",
     "showTitle": false,
     "tableResultSettingsMap": {},
     "title": ""
    }
   },
   "outputs": [],
   "source": [
    "# Notebook parameters\n",
    "\n",
    "params = {\n",
    "    \"input_dcm_folder\": \"\",\n",
    "    \"output_dcm_folder\": \"\"\n",
    "}\n",
    "\n",
    "# create text widgets\n",
    "for k in params.keys():\n",
    "    dbutils.widgets.text(k, \"\", \"\")\n",
    "\n",
    "# fetch values\n",
    "for k in params.keys():\n",
    "    params[k] = dbutils.widgets.get(k)\n",
    "    print(k, \":\", params[k])"
   ]
  },
  {
   "cell_type": "code",
   "execution_count": 0,
   "metadata": {
    "application/vnd.databricks.v1+cell": {
     "cellMetadata": {
      "byteLimit": 2048000,
      "rowLimit": 10000
     },
     "inputWidgets": {},
     "nuid": "42887e2e-366e-4dbd-9ca3-034964394042",
     "showTitle": false,
     "tableResultSettingsMap": {},
     "title": ""
    }
   },
   "outputs": [],
   "source": [
    "import pydicom\n",
    "from tqdm import tqdm\n",
    "import matplotlib.pyplot as plt\n",
    "import numpy as np\n",
    "import time\n",
    "import copy\n",
    "import os\n",
    "from io import BytesIO\n",
    "from pydicom.filebase import DicomFileLike"
   ]
  },
  {
   "cell_type": "code",
   "execution_count": 0,
   "metadata": {
    "application/vnd.databricks.v1+cell": {
     "cellMetadata": {
      "byteLimit": 2048000,
      "rowLimit": 10000
     },
     "inputWidgets": {},
     "nuid": "f633251f-5acf-4ffa-bc1b-13cda8de4a40",
     "showTitle": false,
     "tableResultSettingsMap": {},
     "title": ""
    }
   },
   "outputs": [],
   "source": [
    "def list_dcm_files(folder):\n",
    "    files = os.listdir(folder)\n",
    "    files = [x for x in files if x.endswith(\".dcm\")]\n",
    "    return files"
   ]
  },
  {
   "cell_type": "code",
   "execution_count": 0,
   "metadata": {
    "application/vnd.databricks.v1+cell": {
     "cellMetadata": {
      "byteLimit": 2048000,
      "rowLimit": 10000
     },
     "inputWidgets": {},
     "nuid": "6ac62da4-06f0-4641-9bb4-2ebb725b99a0",
     "showTitle": false,
     "tableResultSettingsMap": {},
     "title": ""
    }
   },
   "outputs": [],
   "source": [
    "def redact_pixels(dcm_obj, xcoords=(0,80), ycoords=(300,1000)):\n",
    "    #ds = copy.deepcopy(dcm_obj)\n",
    "    #ds.pixel_array[0:80, 300:1000] = 0\n",
    "    #return ds\n",
    "    dcm_obj.pixel_array[0:80, 300:1000] = 0\n",
    "    return dcm_obj"
   ]
  },
  {
   "cell_type": "code",
   "execution_count": 0,
   "metadata": {
    "application/vnd.databricks.v1+cell": {
     "cellMetadata": {
      "byteLimit": 2048000,
      "rowLimit": 10000
     },
     "inputWidgets": {},
     "nuid": "14ca9d60-04ba-4ea4-87eb-b1acc4ce4f11",
     "showTitle": false,
     "tableResultSettingsMap": {},
     "title": ""
    }
   },
   "outputs": [],
   "source": [
    "print(list_dcm_files(params[\"input_dcm_folder\"]))"
   ]
  },
  {
   "cell_type": "code",
   "execution_count": 0,
   "metadata": {
    "application/vnd.databricks.v1+cell": {
     "cellMetadata": {
      "byteLimit": 2048000,
      "rowLimit": 10000
     },
     "inputWidgets": {},
     "nuid": "1664b16c-7eac-480a-855c-31bfd4fa5532",
     "showTitle": false,
     "tableResultSettingsMap": {},
     "title": ""
    }
   },
   "outputs": [],
   "source": [
    "df = spark.read.format(\"binaryFile\").option(\"pathGlobFilter\", \"*.dcm\").load(params[\"input_dcm_folder\"])\n",
    "display(df)"
   ]
  },
  {
   "cell_type": "code",
   "execution_count": 0,
   "metadata": {
    "application/vnd.databricks.v1+cell": {
     "cellMetadata": {
      "byteLimit": 2048000,
      "rowLimit": 10000
     },
     "inputWidgets": {},
     "nuid": "b2e7340d-149c-40a6-aeeb-bba719db9a09",
     "showTitle": false,
     "tableResultSettingsMap": {},
     "title": ""
    }
   },
   "outputs": [],
   "source": [
    "cdf = df.collect()"
   ]
  },
  {
   "cell_type": "code",
   "execution_count": 0,
   "metadata": {
    "application/vnd.databricks.v1+cell": {
     "cellMetadata": {
      "byteLimit": 2048000,
      "rowLimit": 10000
     },
     "inputWidgets": {},
     "nuid": "21ed09d3-0bd3-4fdf-9c06-fc99a099c39d",
     "showTitle": false,
     "tableResultSettingsMap": {},
     "title": ""
    }
   },
   "outputs": [],
   "source": [
    "def read_dcm_dataset_from_byte_content(byte_content):\n",
    "    return pydicom.dcmread(BytesIO(byte_content))"
   ]
  },
  {
   "cell_type": "code",
   "execution_count": 0,
   "metadata": {
    "application/vnd.databricks.v1+cell": {
     "cellMetadata": {
      "byteLimit": 2048000,
      "rowLimit": 10000
     },
     "inputWidgets": {},
     "nuid": "e361d2c7-13a9-4a42-b9cf-2b91808f9f6e",
     "showTitle": false,
     "tableResultSettingsMap": {},
     "title": ""
    }
   },
   "outputs": [],
   "source": [
    "def write_dcm_dataset_to_byte_content(dcm_dataset):\n",
    "    # create a buffer\n",
    "    with BytesIO() as buffer:\n",
    "        # create a DicomFileLike object that has some properties of DataSet\n",
    "        memory_dataset = DicomFileLike(buffer)\n",
    "        # write the dataset to the DicomFileLike object\n",
    "        pydicom.dcmwrite(memory_dataset, ds)\n",
    "        # to read from the object, you have to rewind it\n",
    "        memory_dataset.seek(0)\n",
    "        # read the contents as bytes\n",
    "        return memory_dataset.read()"
   ]
  },
  {
   "cell_type": "code",
   "execution_count": 0,
   "metadata": {
    "application/vnd.databricks.v1+cell": {
     "cellMetadata": {
      "byteLimit": 2048000,
      "rowLimit": 10000
     },
     "inputWidgets": {},
     "nuid": "916aad6b-3c1b-4f75-86bd-41031d46f258",
     "showTitle": false,
     "tableResultSettingsMap": {},
     "title": ""
    }
   },
   "outputs": [],
   "source": [
    "def redact_pixels_in_byte_content(byte_content):\n",
    "    ds = read_dcm_dataset_from_byte_content(byte_content)\n",
    "    ds.pixel_array[0:80, 300:1000] = 0\n",
    "    return write_dcm_dataset_to_byte_content(ds)"
   ]
  },
  {
   "cell_type": "code",
   "execution_count": 0,
   "metadata": {
    "application/vnd.databricks.v1+cell": {
     "cellMetadata": {
      "byteLimit": 2048000,
      "rowLimit": 10000
     },
     "inputWidgets": {},
     "nuid": "d10f4e81-80e7-44d7-aef9-2274664def95",
     "showTitle": false,
     "tableResultSettingsMap": {},
     "title": ""
    }
   },
   "outputs": [],
   "source": [
    "ds = read_dcm_dataset_from_byte_content(cdf[0][\"content\"])"
   ]
  },
  {
   "cell_type": "code",
   "execution_count": 0,
   "metadata": {
    "application/vnd.databricks.v1+cell": {
     "cellMetadata": {
      "byteLimit": 2048000,
      "rowLimit": 10000
     },
     "inputWidgets": {},
     "nuid": "4f3440bb-7bfb-4d13-9370-b8ff6c7b5113",
     "showTitle": false,
     "tableResultSettingsMap": {},
     "title": ""
    }
   },
   "outputs": [],
   "source": [
    "from pyspark.sql.functions import udf\n",
    "from pyspark.sql.types import BinaryType\n",
    "\n",
    "redact_pixels_udf = udf(redact_pixels_in_byte_content, BinaryType())\n",
    "df = df.withColumn(\"content\", redact_pixels_udf(df[\"content\"]))\n",
    "display(df)"
   ]
  },
  {
   "cell_type": "code",
   "execution_count": 0,
   "metadata": {
    "application/vnd.databricks.v1+cell": {
     "cellMetadata": {
      "byteLimit": 2048000,
      "rowLimit": 10000
     },
     "inputWidgets": {},
     "nuid": "8c3b5bfb-0366-4b97-8951-1e5c665022c8",
     "showTitle": false,
     "tableResultSettingsMap": {},
     "title": ""
    }
   },
   "outputs": [],
   "source": [
    "import os\n",
    "from pyspark.sql.functions import col\n",
    "\n",
    "def write_binary_file(row):\n",
    "    new_path = f\"/Volumes/1_inland/sectra/vone/{os.path.basename(row['path'])}\"\n",
    "    with open(new_path, 'wb') as f:\n",
    "        f.write(row['content'])\n",
    "\n",
    "df.rdd.foreach(write_binary_file)"
   ]
  }
 ],
 "metadata": {
  "application/vnd.databricks.v1+notebook": {
   "computePreferences": {
    "hardware": {
     "accelerator": null,
     "gpuPoolId": null,
     "memory": null
    }
   },
   "dashboards": [],
   "environmentMetadata": {
    "base_environment": "/Workspace/Shared/ADC-DB/Dev/pacs/anonymisation/environment_2025-04-25_14-48-25.yaml",
    "environment_version": "2"
   },
   "inputWidgetPreferences": null,
   "language": "python",
   "notebookMetadata": {
    "pythonIndentUnit": 4
   },
   "notebookName": "redact_pixels_per_dicom_subdir",
   "widgets": {
    "input_dcm_folder": {
     "currentValue": "/Volumes/1_inland/sectra/vone/example_ultrasound/000003/000002/",
     "nuid": "65d259c8-63d8-46d5-8da2-641ba6e61fdd",
     "typedWidgetInfo": {
      "autoCreated": false,
      "defaultValue": "",
      "label": "",
      "name": "input_dcm_folder",
      "options": {
       "widgetDisplayType": "Text",
       "validationRegex": null
      },
      "parameterDataType": "String"
     },
     "widgetInfo": {
      "widgetType": "text",
      "defaultValue": "",
      "label": "",
      "name": "input_dcm_folder",
      "options": {
       "widgetType": "text",
       "autoCreated": null,
       "validationRegex": null
      }
     }
    },
    "output_dcm_folder": {
     "currentValue": "",
     "nuid": "4693c93e-ae14-402c-895e-dc393abc26ab",
     "typedWidgetInfo": {
      "autoCreated": false,
      "defaultValue": "",
      "label": "",
      "name": "output_dcm_folder",
      "options": {
       "widgetDisplayType": "Text",
       "validationRegex": null
      },
      "parameterDataType": "String"
     },
     "widgetInfo": {
      "widgetType": "text",
      "defaultValue": "",
      "label": "",
      "name": "output_dcm_folder",
      "options": {
       "widgetType": "text",
       "autoCreated": null,
       "validationRegex": null
      }
     }
    }
   }
  },
  "language_info": {
   "name": "python"
  }
 },
 "nbformat": 4,
 "nbformat_minor": 0
}
