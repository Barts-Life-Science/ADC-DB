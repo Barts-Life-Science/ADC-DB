{
 "cells": [
  {
   "cell_type": "code",
   "execution_count": 0,
   "metadata": {
    "application/vnd.databricks.v1+cell": {
     "cellMetadata": {
      "byteLimit": 2048000,
      "rowLimit": 10000
     },
     "inputWidgets": {},
     "nuid": "539ab449-f64f-463a-b9e5-8a5610e93da6",
     "showTitle": false,
     "tableResultSettingsMap": {},
     "title": ""
    }
   },
   "outputs": [],
   "source": [
    "# Notebook parameters\n",
    "\n",
    "params = {\n",
    "    \"input_folder\": \"\",\n",
    "    \"output_folder\": \"\",\n",
    "    \"vx\": \"\",\n",
    "    \"vy\": \"\",\n",
    "    \"hx\": \"\",\n",
    "    \"hy\": \"\"\n",
    "}\n",
    "\n",
    "# create text widgets\n",
    "for k in params.keys():\n",
    "    dbutils.widgets.text(k, \"\", \"\")\n",
    "\n",
    "# fetch values\n",
    "for k in params.keys():\n",
    "    params[k] = dbutils.widgets.get(k)\n",
    "    print(k, \":\", params[k])\n",
    "\n",
    "# e.g. \"input_folder\": \"/Volumes/1_inland/sectra/vone/example_ultrasound/000003/000002/\""
   ]
  },
  {
   "cell_type": "code",
   "execution_count": 0,
   "metadata": {
    "application/vnd.databricks.v1+cell": {
     "cellMetadata": {
      "byteLimit": 2048000,
      "rowLimit": 10000
     },
     "inputWidgets": {},
     "nuid": "811d8832-4ce6-435a-971c-a192c0f04a60",
     "showTitle": false,
     "tableResultSettingsMap": {},
     "title": ""
    }
   },
   "outputs": [],
   "source": [
    "vx = float(params[\"vx\"])\n",
    "vy = float(params[\"vy\"])\n",
    "hx = float(params[\"hx\"])\n",
    "hy = float(params[\"hy\"])\n",
    "\n",
    "print(vx)"
   ]
  },
  {
   "cell_type": "code",
   "execution_count": 0,
   "metadata": {
    "application/vnd.databricks.v1+cell": {
     "cellMetadata": {
      "byteLimit": 2048000,
      "rowLimit": 10000
     },
     "inputWidgets": {},
     "nuid": "27ae6b54-9bcb-462f-a74c-f896ec43d5ce",
     "showTitle": false,
     "tableResultSettingsMap": {},
     "title": ""
    }
   },
   "outputs": [],
   "source": [
    "import pydicom\n",
    "from tqdm import tqdm\n",
    "import matplotlib.pyplot as plt\n",
    "import numpy as np\n",
    "import time\n",
    "import copy\n",
    "import os\n",
    "from io import BytesIO\n",
    "from pydicom.filebase import DicomFileLike"
   ]
  },
  {
   "cell_type": "code",
   "execution_count": 0,
   "metadata": {
    "application/vnd.databricks.v1+cell": {
     "cellMetadata": {
      "byteLimit": 2048000,
      "rowLimit": 10000
     },
     "inputWidgets": {},
     "nuid": "4578a430-d063-47b7-972f-8d24b7304b66",
     "showTitle": false,
     "tableResultSettingsMap": {},
     "title": ""
    }
   },
   "outputs": [],
   "source": [
    "def list_dcm_files(folder):\n",
    "    files = os.listdir(folder)\n",
    "    files = [x for x in files if x.endswith(\".dcm\")]\n",
    "    return files"
   ]
  },
  {
   "cell_type": "code",
   "execution_count": 0,
   "metadata": {
    "application/vnd.databricks.v1+cell": {
     "cellMetadata": {
      "byteLimit": 2048000,
      "rowLimit": 10000
     },
     "inputWidgets": {},
     "nuid": "6c1b6bff-8009-43dc-a0d7-a95bcbfa24e4",
     "showTitle": false,
     "tableResultSettingsMap": {},
     "title": ""
    }
   },
   "outputs": [],
   "source": []
  },
  {
   "cell_type": "code",
   "execution_count": 0,
   "metadata": {
    "application/vnd.databricks.v1+cell": {
     "cellMetadata": {
      "byteLimit": 2048000,
      "rowLimit": 10000
     },
     "inputWidgets": {},
     "nuid": "fc9a5da0-d6f0-4e11-a5b2-425d9c629a9a",
     "showTitle": false,
     "tableResultSettingsMap": {},
     "title": ""
    }
   },
   "outputs": [],
   "source": [
    "df = (\n",
    "    spark.read.format(\"binaryFile\")\n",
    "    .option(\"pathGlobFilter\", \"*.dcm\")\n",
    "    .option(\"recursiveFileLookup\", \"true\")\n",
    "    .load(params[\"input_folder\"])\n",
    ")\n",
    "print(df.count())\n",
    "display(df)"
   ]
  },
  {
   "cell_type": "code",
   "execution_count": 0,
   "metadata": {
    "application/vnd.databricks.v1+cell": {
     "cellMetadata": {
      "byteLimit": 2048000,
      "rowLimit": 10000
     },
     "inputWidgets": {},
     "nuid": "2964dfe5-659f-47fc-b167-32a8ea5a9b38",
     "showTitle": false,
     "tableResultSettingsMap": {},
     "title": ""
    }
   },
   "outputs": [],
   "source": [
    "import pandas as pd\n",
    "from pathlib import Path\n",
    "\n",
    "def redact_dicom_batch(pdf_iter):\n",
    "    for pdf in pdf_iter:\n",
    "        redacted_rows = []\n",
    "        for path, content in zip(pdf['path'], pdf['content']):\n",
    "            try:\n",
    "                ds = pydicom.dcmread(BytesIO(content), force=True)\n",
    "                ds.decompress()\n",
    "\n",
    "                # Modify pixel array\n",
    "                pixel_array = ds.pixel_array.copy()\n",
    "\n",
    "                arr_shape = np.shape(pixel_array)\n",
    "\n",
    "                if 0 <= vx <= 1 and 0 <= vy <= 1:\n",
    "                    _vx = int(arr_shape[0]*vx)\n",
    "                    _vy = int(arr_shape[0]*vy)\n",
    "                if 0 <= hx <= 1 and 0 <= hy <= 1:\n",
    "                    _hx = int(arr_shape[1]*hx)\n",
    "                    _hy = int(arr_shape[1]*hy)\n",
    "\n",
    "                _vx = max(0, _vx)\n",
    "                _vy = min(arr_shape[0], _vy)\n",
    "                _hx = max(0, _hx)\n",
    "                _hy = min(arr_shape[1], _hy)\n",
    "\n",
    "                #pixel_array[_vx:_vy, _hx:_hy] = 0\n",
    "                pixel_array[_vx:_vy, _hx:_hy] = np.max(pixel_array)\n",
    "\n",
    "                ds.PixelData = pixel_array.tobytes()\n",
    "                ds.file_meta.TransferSyntaxUID = pydicom.uid.ExplicitVRLittleEndian\n",
    "\n",
    "                # Construct new file path\n",
    "                filename = os.path.basename(path)\n",
    "                #new_path = os.path.join(params[\"output_folder\"], filename)\n",
    "                new_path = os.path.join(params[\"output_folder\"], path.replace(params[\"input_folder\"], \"\").replace(\"dbfs:\", \"\"))\n",
    "\n",
    "                outdirs = Path(new_path.replace(filename, \"\"))\n",
    "                outdirs.mkdir(parents=True, exist_ok=True)\n",
    "\n",
    "                # Save to disk\n",
    "                with open(new_path, \"wb\") as f:\n",
    "                    ds.save_as(f)\n",
    "                \n",
    "                redacted_rows.append((path, new_path))\n",
    "            except:\n",
    "                redacted_rows.append((path, None))\n",
    "\n",
    "\n",
    "        yield pd.DataFrame(redacted_rows, columns=[\"input_path\", \"output_path\"])"
   ]
  },
  {
   "cell_type": "code",
   "execution_count": 0,
   "metadata": {
    "application/vnd.databricks.v1+cell": {
     "cellMetadata": {
      "byteLimit": 2048000,
      "rowLimit": 10000
     },
     "inputWidgets": {},
     "nuid": "5f3ea70f-3a97-4a5d-93a2-7323ddb9507c",
     "showTitle": false,
     "tableResultSettingsMap": {},
     "title": ""
    }
   },
   "outputs": [],
   "source": [
    "from pyspark.sql.types import StructType, StructField, StringType, BinaryType\n",
    "\n",
    "# Define output schema: path + redacted DICOM binary\n",
    "output_schema = StructType([\n",
    "    StructField(\"input_path\", StringType(), True),\n",
    "    StructField(\"output_path\", BinaryType(), True)\n",
    "])\n",
    "\n",
    "# Run mapInPandas redaction\n",
    "redacted_df = df.mapInPandas(redact_dicom_batch, schema=output_schema)\n",
    "# Show saved paths\n",
    "results = redacted_df.collect()\n",
    "\n",
    "\n"
   ]
  },
  {
   "cell_type": "code",
   "execution_count": 0,
   "metadata": {
    "application/vnd.databricks.v1+cell": {
     "cellMetadata": {
      "byteLimit": 2048000,
      "rowLimit": 10000
     },
     "inputWidgets": {},
     "nuid": "c421a291-1ead-46e2-bf76-618689a39720",
     "showTitle": false,
     "tableResultSettingsMap": {},
     "title": ""
    }
   },
   "outputs": [],
   "source": [
    "results[:min(10, len(results))]"
   ]
  }
 ],
 "metadata": {
  "application/vnd.databricks.v1+notebook": {
   "computePreferences": {
    "hardware": {
     "accelerator": null,
     "gpuPoolId": null,
     "memory": null
    }
   },
   "dashboards": [],
   "environmentMetadata": {
    "base_environment": "/Workspace/Shared/ADC-DB/Dev/pacs/anonymisation/environment_2025-04-25_14-48-25.yaml",
    "environment_version": "2"
   },
   "inputWidgetPreferences": null,
   "language": "python",
   "notebookMetadata": {
    "pythonIndentUnit": 4
   },
   "notebookName": "redact_dicom_pixels_per_project_folder",
   "widgets": {
    "hx": {
     "currentValue": "0.2",
     "nuid": "ed051826-67c6-47a6-91bf-06f88f445059",
     "typedWidgetInfo": {
      "autoCreated": false,
      "defaultValue": "",
      "label": "",
      "name": "hx",
      "options": {
       "widgetDisplayType": "Text",
       "validationRegex": null
      },
      "parameterDataType": "String"
     },
     "widgetInfo": {
      "widgetType": "text",
      "defaultValue": "",
      "label": "",
      "name": "hx",
      "options": {
       "widgetType": "text",
       "autoCreated": null,
       "validationRegex": null
      }
     }
    },
    "hy": {
     "currentValue": "0.8",
     "nuid": "7e1a0b4a-c42f-4d84-9aed-82b4dd8ee7df",
     "typedWidgetInfo": {
      "autoCreated": false,
      "defaultValue": "",
      "label": "",
      "name": "hy",
      "options": {
       "widgetDisplayType": "Text",
       "validationRegex": null
      },
      "parameterDataType": "String"
     },
     "widgetInfo": {
      "widgetType": "text",
      "defaultValue": "",
      "label": "",
      "name": "hy",
      "options": {
       "widgetType": "text",
       "autoCreated": null,
       "validationRegex": null
      }
     }
    },
    "input_folder": {
     "currentValue": "/Volumes/1_inland/sectra/vone/example_ultrasound/",
     "nuid": "adbaaaa6-5dce-421b-8a96-e3afffdcf947",
     "typedWidgetInfo": {
      "autoCreated": false,
      "defaultValue": "",
      "label": "",
      "name": "input_folder",
      "options": {
       "widgetDisplayType": "Text",
       "validationRegex": null
      },
      "parameterDataType": "String"
     },
     "widgetInfo": {
      "widgetType": "text",
      "defaultValue": "",
      "label": "",
      "name": "input_folder",
      "options": {
       "widgetType": "text",
       "autoCreated": null,
       "validationRegex": null
      }
     }
    },
    "output_folder": {
     "currentValue": "/Volumes/1_inland/sectra/vone/ultrasound_examples_anon",
     "nuid": "51635624-8e29-4409-a007-dec734cc7d75",
     "typedWidgetInfo": {
      "autoCreated": false,
      "defaultValue": "",
      "label": "",
      "name": "output_folder",
      "options": {
       "widgetDisplayType": "Text",
       "validationRegex": null
      },
      "parameterDataType": "String"
     },
     "widgetInfo": {
      "widgetType": "text",
      "defaultValue": "",
      "label": "",
      "name": "output_folder",
      "options": {
       "widgetType": "text",
       "autoCreated": null,
       "validationRegex": null
      }
     }
    },
    "vx": {
     "currentValue": "0",
     "nuid": "eee0d7f7-b13d-44b9-bf4a-0c66384f6ee2",
     "typedWidgetInfo": {
      "autoCreated": false,
      "defaultValue": "",
      "label": "",
      "name": "vx",
      "options": {
       "widgetDisplayType": "Text",
       "validationRegex": null
      },
      "parameterDataType": "String"
     },
     "widgetInfo": {
      "widgetType": "text",
      "defaultValue": "",
      "label": "",
      "name": "vx",
      "options": {
       "widgetType": "text",
       "autoCreated": null,
       "validationRegex": null
      }
     }
    },
    "vy": {
     "currentValue": "0.12",
     "nuid": "46831ccc-68e5-464e-bfdf-81a223324cc5",
     "typedWidgetInfo": {
      "autoCreated": false,
      "defaultValue": "",
      "label": "",
      "name": "vy",
      "options": {
       "widgetDisplayType": "Text",
       "validationRegex": null
      },
      "parameterDataType": "String"
     },
     "widgetInfo": {
      "widgetType": "text",
      "defaultValue": "",
      "label": "",
      "name": "vy",
      "options": {
       "widgetType": "text",
       "autoCreated": null,
       "validationRegex": null
      }
     }
    }
   }
  },
  "language_info": {
   "name": "python"
  }
 },
 "nbformat": 4,
 "nbformat_minor": 0
}
