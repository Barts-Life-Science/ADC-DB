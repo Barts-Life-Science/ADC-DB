{
 "cells": [
  {
   "cell_type": "code",
   "execution_count": 0,
   "metadata": {
    "application/vnd.databricks.v1+cell": {
     "cellMetadata": {
      "byteLimit": 2048000,
      "rowLimit": 10000
     },
     "inputWidgets": {},
     "nuid": "539ab449-f64f-463a-b9e5-8a5610e93da6",
     "showTitle": false,
     "tableResultSettingsMap": {},
     "title": ""
    }
   },
   "outputs": [],
   "source": [
    "# Notebook parameters\n",
    "\n",
    "params = {\n",
    "    \"input_folder\": \"\",\n",
    "    \"output_folder\": \"\"\n",
    "}\n",
    "\n",
    "# create text widgets\n",
    "for k in params.keys():\n",
    "    dbutils.widgets.text(k, \"\", \"\")\n",
    "\n",
    "# fetch values\n",
    "for k in params.keys():\n",
    "    params[k] = dbutils.widgets.get(k)\n",
    "    print(k, \":\", params[k])\n",
    "\n",
    "# e.g. \"input_folder\": \"/Volumes/1_inland/sectra/vone/example_ultrasound/000003/000002/\""
   ]
  },
  {
   "cell_type": "code",
   "execution_count": 0,
   "metadata": {
    "application/vnd.databricks.v1+cell": {
     "cellMetadata": {
      "byteLimit": 2048000,
      "rowLimit": 10000
     },
     "inputWidgets": {},
     "nuid": "27ae6b54-9bcb-462f-a74c-f896ec43d5ce",
     "showTitle": false,
     "tableResultSettingsMap": {},
     "title": ""
    }
   },
   "outputs": [],
   "source": [
    "import pydicom\n",
    "from tqdm import tqdm\n",
    "import matplotlib.pyplot as plt\n",
    "import numpy as np\n",
    "import time\n",
    "import copy\n",
    "import os\n",
    "from io import BytesIO\n",
    "from pydicom.filebase import DicomFileLike"
   ]
  },
  {
   "cell_type": "code",
   "execution_count": 0,
   "metadata": {
    "application/vnd.databricks.v1+cell": {
     "cellMetadata": {
      "byteLimit": 2048000,
      "rowLimit": 10000
     },
     "inputWidgets": {},
     "nuid": "4578a430-d063-47b7-972f-8d24b7304b66",
     "showTitle": false,
     "tableResultSettingsMap": {},
     "title": ""
    }
   },
   "outputs": [],
   "source": [
    "def list_dcm_files(folder):\n",
    "    files = os.listdir(folder)\n",
    "    files = [x for x in files if x.endswith(\".dcm\")]\n",
    "    return files"
   ]
  },
  {
   "cell_type": "code",
   "execution_count": 0,
   "metadata": {
    "application/vnd.databricks.v1+cell": {
     "cellMetadata": {
      "byteLimit": 2048000,
      "rowLimit": 10000
     },
     "inputWidgets": {},
     "nuid": "6c1b6bff-8009-43dc-a0d7-a95bcbfa24e4",
     "showTitle": false,
     "tableResultSettingsMap": {},
     "title": ""
    }
   },
   "outputs": [],
   "source": [
    "print(list_dcm_files(params[\"input_folder\"]))"
   ]
  },
  {
   "cell_type": "code",
   "execution_count": 0,
   "metadata": {
    "application/vnd.databricks.v1+cell": {
     "cellMetadata": {
      "byteLimit": 2048000,
      "rowLimit": 10000
     },
     "inputWidgets": {},
     "nuid": "fc9a5da0-d6f0-4e11-a5b2-425d9c629a9a",
     "showTitle": false,
     "tableResultSettingsMap": {},
     "title": ""
    }
   },
   "outputs": [],
   "source": [
    "df = spark.read.format(\"binaryFile\").option(\"pathGlobFilter\", \"*.dcm\").load(params[\"input_folder\"])\n",
    "display(df)"
   ]
  },
  {
   "cell_type": "code",
   "execution_count": 0,
   "metadata": {
    "application/vnd.databricks.v1+cell": {
     "cellMetadata": {
      "byteLimit": 2048000,
      "rowLimit": 10000
     },
     "inputWidgets": {},
     "nuid": "2964dfe5-659f-47fc-b167-32a8ea5a9b38",
     "showTitle": false,
     "tableResultSettingsMap": {},
     "title": ""
    }
   },
   "outputs": [],
   "source": [
    "import pandas as pd\n",
    "def redact_dicom_batch(pdf_iter):\n",
    "    for pdf in pdf_iter:\n",
    "        redacted_rows = []\n",
    "        for path, content in zip(pdf['path'], pdf['content']):\n",
    "            ds = pydicom.dcmread(BytesIO(content), force=True)\n",
    "            ds.decompress()\n",
    "\n",
    "            # Modify pixel array\n",
    "            pixel_array = ds.pixel_array.copy()\n",
    "            pixel_array[0:80, 300:1000] = 0  # example region\n",
    "\n",
    "            ds.PixelData = pixel_array.tobytes()\n",
    "            ds.file_meta.TransferSyntaxUID = pydicom.uid.ExplicitVRLittleEndian\n",
    "\n",
    "            # Construct new file path\n",
    "            filename = os.path.basename(path)\n",
    "            new_path = os.path.join(params[\"output_folder\"], filename)\n",
    "\n",
    "            # Save to disk\n",
    "            with open(new_path, \"wb\") as f:\n",
    "                ds.save_as(f)\n",
    "            \n",
    "            redacted_rows.append((path, new_path))\n",
    "\n",
    "        yield pd.DataFrame(redacted_rows, columns=[\"input_path\", \"output_path\"])"
   ]
  },
  {
   "cell_type": "code",
   "execution_count": 0,
   "metadata": {
    "application/vnd.databricks.v1+cell": {
     "cellMetadata": {
      "byteLimit": 2048000,
      "rowLimit": 10000
     },
     "inputWidgets": {},
     "nuid": "5f3ea70f-3a97-4a5d-93a2-7323ddb9507c",
     "showTitle": false,
     "tableResultSettingsMap": {},
     "title": ""
    }
   },
   "outputs": [],
   "source": [
    "from pyspark.sql.types import StructType, StructField, StringType, BinaryType\n",
    "\n",
    "# Define output schema: path + redacted DICOM binary\n",
    "output_schema = StructType([\n",
    "    StructField(\"input_path\", StringType(), True),\n",
    "    StructField(\"output_path\", BinaryType(), True)\n",
    "])\n",
    "\n",
    "# Run mapInPandas redaction\n",
    "redacted_df = df.mapInPandas(redact_dicom_batch, schema=output_schema)\n",
    "# Show saved paths\n",
    "_ = redacted_df.collect()\n"
   ]
  }
 ],
 "metadata": {
  "application/vnd.databricks.v1+notebook": {
   "computePreferences": {
    "hardware": {
     "accelerator": null,
     "gpuPoolId": null,
     "memory": null
    }
   },
   "dashboards": [],
   "environmentMetadata": {
    "base_environment": "/Workspace/Shared/ADC-DB/Dev/pacs/anonymisation/environment_2025-04-25_14-48-25.yaml",
    "environment_version": "2"
   },
   "inputWidgetPreferences": null,
   "language": "python",
   "notebookMetadata": {
    "pythonIndentUnit": 4
   },
   "notebookName": "redact_pixels_from_imaging_series_mapInPandas",
   "widgets": {
    "input_folder": {
     "currentValue": "/Volumes/1_inland/sectra/vone/example_ultrasound/000001/000002/",
     "nuid": "adbaaaa6-5dce-421b-8a96-e3afffdcf947",
     "typedWidgetInfo": {
      "autoCreated": false,
      "defaultValue": "",
      "label": "",
      "name": "input_folder",
      "options": {
       "widgetDisplayType": "Text",
       "validationRegex": null
      },
      "parameterDataType": "String"
     },
     "widgetInfo": {
      "widgetType": "text",
      "defaultValue": "",
      "label": "",
      "name": "input_folder",
      "options": {
       "widgetType": "text",
       "autoCreated": null,
       "validationRegex": null
      }
     }
    },
    "output_folder": {
     "currentValue": "/Volumes/1_inland/sectra/vone",
     "nuid": "51635624-8e29-4409-a007-dec734cc7d75",
     "typedWidgetInfo": {
      "autoCreated": false,
      "defaultValue": "",
      "label": "",
      "name": "output_folder",
      "options": {
       "widgetDisplayType": "Text",
       "validationRegex": null
      },
      "parameterDataType": "String"
     },
     "widgetInfo": {
      "widgetType": "text",
      "defaultValue": "",
      "label": "",
      "name": "output_folder",
      "options": {
       "widgetType": "text",
       "autoCreated": null,
       "validationRegex": null
      }
     }
    }
   }
  },
  "language_info": {
   "name": "python"
  }
 },
 "nbformat": 4,
 "nbformat_minor": 0
}
