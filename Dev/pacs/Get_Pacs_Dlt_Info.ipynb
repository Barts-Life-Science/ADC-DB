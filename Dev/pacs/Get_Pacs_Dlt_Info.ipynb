{
 "cells": [
  {
   "cell_type": "code",
   "execution_count": 0,
   "metadata": {
    "application/vnd.databricks.v1+cell": {
     "cellMetadata": {
      "byteLimit": 2048000,
      "rowLimit": 10000
     },
     "inputWidgets": {},
     "nuid": "df86fbbd-11e1-4055-a027-2978bb0c87f9",
     "showTitle": false,
     "tableResultSettingsMap": {},
     "title": ""
    }
   },
   "outputs": [],
   "source": [
    "from pyspark.sql import DataFrame\n",
    "from functools import reduce\n",
    "from pyspark.sql.functions import lit\n",
    "\n",
    "# ---------------------------\n",
    "# Step 1: Get all regular views\n",
    "# ---------------------------\n",
    "catalog = \"4_prod\"\n",
    "schema = \"pacs_dlt\"\n",
    "\n",
    "views_query = f\"\"\"\n",
    "SELECT\n",
    "    table_catalog,\n",
    "    table_schema,\n",
    "    table_name\n",
    "FROM {catalog}.information_schema.views\n",
    "WHERE table_schema = '{schema}'\n",
    "ORDER BY table_name\n",
    "\"\"\"\n",
    "\n",
    "views_df = spark.sql(views_query)\n",
    "\n",
    "# Show the list of views\n",
    "print(\"All regular views in schema:\")\n",
    "views_df.show(truncate=False)\n",
    "\n",
    "# ---------------------------\n",
    "# Step 2: Get 'Last Refreshed' for each view\n",
    "# ---------------------------\n",
    "last_refreshed_list = []\n",
    "\n",
    "for row in views_df.collect():  # Use collect() only if number of views is moderate\n",
    "    table_name = row[\"table_name\"]\n",
    "    table_catalog = row[\"table_catalog\"]\n",
    "    table_schema = row[\"table_schema\"]\n",
    "    \n",
    "    full_table_name = f\"{table_catalog}.{table_schema}.{table_name}\"\n",
    "    \n",
    "    # DESCRIBE EXTENDED and filter for 'Last Refreshed'\n",
    "    df_desc = spark.sql(f\"DESCRIBE EXTENDED {full_table_name}\") \\\n",
    "                   .filter(\"col_name = 'Last Refreshed'\") \\\n",
    "                   .withColumn(\"view_name\", lit(table_name))\n",
    "    \n",
    "    last_refreshed_list.append(df_desc)\n",
    "\n"
   ]
  },
  {
   "cell_type": "code",
   "execution_count": 0,
   "metadata": {
    "application/vnd.databricks.v1+cell": {
     "cellMetadata": {},
     "inputWidgets": {},
     "nuid": "68036e20-1c93-4a95-a30b-462e4110b45d",
     "showTitle": false,
     "tableResultSettingsMap": {},
     "title": ""
    }
   },
   "outputs": [],
   "source": [
    "\n",
    "# Combine all Last Refreshed info into one DataFrame\n",
    "if last_refreshed_list:\n",
    "    last_refreshed_df = reduce(DataFrame.unionByName, last_refreshed_list)\n",
    "    print(\"Last Refreshed timestamps for views:\")\n",
    "    last_refreshed_df.show(truncate=False)\n",
    "else:\n",
    "    print(\"No 'Last Refreshed' info found for views.\")\n"
   ]
  },
  {
   "cell_type": "code",
   "execution_count": 0,
   "metadata": {
    "application/vnd.databricks.v1+cell": {
     "cellMetadata": {
      "byteLimit": 2048000,
      "implicitDf": true,
      "rowLimit": 10000
     },
     "inputWidgets": {},
     "nuid": "b8d52ef4-f32f-4191-8219-f5c53f6fce9f",
     "showTitle": false,
     "tableResultSettingsMap": {
      "0": {
       "dataGridStateBlob": "{\"version\":1,\"tableState\":{\"columnPinning\":{\"left\":[\"#row_number#\"],\"right\":[]},\"columnSizing\":{\"data_type\":373},\"columnVisibility\":{}},\"settings\":{\"columns\":{}},\"syncTimestamp\":1761220353601}",
       "filterBlob": null,
       "queryPlanFiltersBlob": null,
       "tableResultIndex": 0
      }
     },
     "title": ""
    }
   },
   "outputs": [],
   "source": [
    "%sql\n",
    "DESCRIBE EXTENDED 4_prod.pacs_dlt.stag_requested_accession_nbr"
   ]
  }
 ],
 "metadata": {
  "application/vnd.databricks.v1+notebook": {
   "computePreferences": null,
   "dashboards": [],
   "environmentMetadata": {
    "base_environment": "",
    "environment_version": "4"
   },
   "inputWidgetPreferences": null,
   "language": "python",
   "notebookMetadata": {
    "mostRecentlyExecutedCommandWithImplicitDF": {
     "commandId": 5320016321081983,
     "dataframes": [
      "_sqldf"
     ]
    },
    "pythonIndentUnit": 4
   },
   "notebookName": "Get_Pacs_Dlt_Info",
   "widgets": {}
  },
  "language_info": {
   "name": "python"
  }
 },
 "nbformat": 4,
 "nbformat_minor": 0
}
