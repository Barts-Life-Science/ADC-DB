{
 "cells": [
  {
   "cell_type": "code",
   "execution_count": 0,
   "metadata": {
    "application/vnd.databricks.v1+cell": {
     "cellMetadata": {},
     "inputWidgets": {},
     "nuid": "721ec361-78c7-471b-8229-6ce21ef2815d",
     "showTitle": false,
     "tableResultSettingsMap": {},
     "title": ""
    }
   },
   "outputs": [],
   "source": [
    "%sql\n",
    "CREATE TEMPORARY TABLE map_pacs_col_to_mill_for_ig_tags AS\n",
    "SELECT *\n",
    "FROM VALUES\n",
    "  ('column1_value1', 'column2_value1', 'column3_value1'),\n",
    "  ('column1_value2', 'column2_value2', 'column3_value2'),\n",
    "  ('column1_value3', 'column2_value3', 'column3_value3')\n",
    "AS t(pacs_col, mill_catalog, mill_schema, mill_table, mill_col);"
   ]
  }
 ],
 "metadata": {
  "application/vnd.databricks.v1+notebook": {
   "computePreferences": null,
   "dashboards": [],
   "environmentMetadata": {
    "base_environment": "",
    "environment_version": "3"
   },
   "inputWidgetPreferences": null,
   "language": "python",
   "notebookMetadata": {
    "pythonIndentUnit": 4
   },
   "notebookName": "update_pacs_column_ig_tags",
   "widgets": {}
  },
  "language_info": {
   "name": "python"
  }
 },
 "nbformat": 4,
 "nbformat_minor": 0
}
