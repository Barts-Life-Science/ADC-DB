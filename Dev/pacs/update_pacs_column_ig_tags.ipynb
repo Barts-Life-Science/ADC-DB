{
 "cells": [
  {
   "cell_type": "code",
   "execution_count": 0,
   "metadata": {
    "application/vnd.databricks.v1+cell": {
     "cellMetadata": {
      "byteLimit": 2048000,
      "implicitDf": true,
      "rowLimit": 10000
     },
     "inputWidgets": {},
     "nuid": "721ec361-78c7-471b-8229-6ce21ef2815d",
     "showTitle": false,
     "tableResultSettingsMap": {},
     "title": ""
    }
   },
   "outputs": [],
   "source": [
    "%sql\n",
    "CREATE OR REPLACE TEMPORARY VIEW inhert_ig_tags_from_mill AS\n",
    "SELECT *\n",
    "FROM VALUES\n",
    "  ('AcessionNbr', '4_prod', 'raw', 'mill_clinical_event', 'REFERENCE_NBR'),\n",
    "  ('Clinical_Event_ID', '4_prod', 'raw', 'mill_clinical_event', 'CLINICAL_EVENT_ID'),\n",
    "  ('EVENT_ID', '4_prod', 'raw', 'mill_clinical_event', 'EVENT_ID'),\n",
    "  ('ENCNTR_ID', '4_prod', 'raw', 'mill_clinical_event', 'ENCNTR_ID'),\n",
    "  ('PARENT_EVENT_ID', '4_prod', 'raw', 'mill_clinical_event', 'PARENT_EVENT_ID'),\n",
    "  ('ExamCode', '4_prod', 'raw', 'mill_clinical_event', 'EVENT_CD'),\n",
    "  ('ExamCodeSeq', '4_prod', 'raw', 'mill_clinical_event', 'EVENT_CD'),\n",
    "  ('MillRefNbr', '4_prod', 'raw', 'mill_clinical_event', 'REFERENCE_NBR'),\n",
    "  ('MillPersonId', '4_prod', 'raw', 'mill_clinical_event', 'PERSON_ID'),\n",
    "  ('PacsPersonId', '4_prod', 'raw', 'mill_clinical_event', 'PERSON_ID'),\n",
    "  ('MillEventDate', '4_prod', 'raw', 'mill_clinical_event', 'EVENT_START_DT_TM'),\n",
    "  ('RequestId', '4_prod', 'raw', 'mill_clinical_event', 'CLINICAL_EVENT_ID'),\n",
    "  ('RequestQuestion', '4_prod', 'raw', 'mill_ce_blob', 'BLOB_CONTENTS'),\n",
    "  ('RequestAnamnesis', '4_prod', 'raw', 'mill_ce_blob', 'BLOB_CONTENTS'),\n",
    "  ('ExaminationIdString', '4_prod', 'raw', 'mill_clinical_event', 'CLINICAL_EVENT_ID'),\n",
    "  ('ExaminationStudyUid', '4_prod', 'raw', 'mill_clinical_event', 'CLINICAL_EVENT_ID'),\n",
    "  ('ExaminationDescription', '4_prod', 'raw', 'mill_clinical_event', 'EVENT_TITLE_TEXT'),\n",
    "  ('ExaminationModality', '4_prod', 'raw', 'mill_clinical_event', 'EVENT_CD'),\n",
    "  ('ExaminationBodyPart', '4_prod', 'raw', 'mill_clinical_event', 'EVENT_CD'),\n",
    "  ('PacsReportCount', '4_prod', 'raw', 'mill_clinical_event', 'EVENT_CD')\n",
    "AS t(pacs_col, mill_catalog, mill_schema, mill_table, mill_col);"
   ]
  }
 ],
 "metadata": {
  "application/vnd.databricks.v1+notebook": {
   "computePreferences": null,
   "dashboards": [],
   "environmentMetadata": {
    "base_environment": "",
    "environment_version": "3"
   },
   "inputWidgetPreferences": null,
   "language": "python",
   "notebookMetadata": {
    "mostRecentlyExecutedCommandWithImplicitDF": {
     "commandId": 8261474955361030,
     "dataframes": [
      "_sqldf"
     ]
    },
    "pythonIndentUnit": 4
   },
   "notebookName": "update_pacs_column_ig_tags",
   "widgets": {}
  },
  "language_info": {
   "name": "python"
  }
 },
 "nbformat": 4,
 "nbformat_minor": 0
}
