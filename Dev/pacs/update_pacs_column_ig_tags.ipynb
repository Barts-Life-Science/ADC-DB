{
 "cells": [
  {
   "cell_type": "code",
   "execution_count": 0,
   "metadata": {
    "application/vnd.databricks.v1+cell": {
     "cellMetadata": {
      "byteLimit": 2048000,
      "implicitDf": true,
      "rowLimit": 10000
     },
     "inputWidgets": {},
     "nuid": "721ec361-78c7-471b-8229-6ce21ef2815d",
     "showTitle": false,
     "tableResultSettingsMap": {},
     "title": ""
    }
   },
   "outputs": [],
   "source": [
    "%sql\n",
    "CREATE OR REPLACE TEMPORARY VIEW inhert_ig_tags_from_mill AS\n",
    "SELECT *\n",
    "FROM VALUES\n",
    "  ('AcessionNbr', '4_prod', 'raw', 'mill_clinical_event', 'REFERENCE_NBR'),\n",
    "  ('Clinical_Event_ID', '4_prod', 'raw', 'mill_clinical_event', 'CLINICAL_EVENT_ID'),\n",
    "  ('EVENT_ID', '4_prod', 'raw', 'mill_clinical_event', 'EVENT_ID'),\n",
    "  ('ENCNTR_ID', '4_prod', 'raw', 'mill_clinical_event', 'ENCNTR_ID')\n",
    "AS t(pacs_col, mill_catalog, mill_schema, mill_table, mill_col);"
   ]
  }
 ],
 "metadata": {
  "application/vnd.databricks.v1+notebook": {
   "computePreferences": null,
   "dashboards": [],
   "environmentMetadata": {
    "base_environment": "",
    "environment_version": "3"
   },
   "inputWidgetPreferences": null,
   "language": "python",
   "notebookMetadata": {
    "mostRecentlyExecutedCommandWithImplicitDF": {
     "commandId": 8261474955361030,
     "dataframes": [
      "_sqldf"
     ]
    },
    "pythonIndentUnit": 4
   },
   "notebookName": "update_pacs_column_ig_tags",
   "widgets": {}
  },
  "language_info": {
   "name": "python"
  }
 },
 "nbformat": 4,
 "nbformat_minor": 0
}
