{
 "cells": [
  {
   "cell_type": "code",
   "execution_count": 0,
   "metadata": {
    "application/vnd.databricks.v1+cell": {
     "cellMetadata": {
      "byteLimit": 2048000,
      "implicitDf": true,
      "rowLimit": 10000
     },
     "inputWidgets": {},
     "nuid": "953ef4c0-1d05-4c56-804a-4bc10383225b",
     "showTitle": false,
     "tableResultSettingsMap": {},
     "title": ""
    }
   },
   "outputs": [],
   "source": [
    "%sql\n",
    "\n",
    "CREATE TABLE 4_prod.pacs_ai.pacs_examcode_dict\n",
    "AS\n",
    "SELECT\n",
    "  *,\n",
    "  CONCAT(\n",
    "    '{\\n short code: ', short_code, ' ;\\n ',\n",
    "    'description: ', preferred, ' ;\\n ',\n",
    "    'procedure name: ', sct_fsn, ' ;\\n ',\n",
    "    'laterality: ', COALESCE(laterality, 'Null'), ' ;\\n ',\n",
    "    'region: ', COALESCE(region, 'Null'), ' ;\\n ',\n",
    "    'system: ', COALESCE(system, 'Null'), ' ;\\n}'\n",
    "  ) AS concat_text\n",
    "FROM read_files(\n",
    "  '/Volumes/4_prod/pacs/base/Annex-1-DID_lookup_group.csv',\n",
    "  format => 'csv',\n",
    "  header => true,\n",
    "  mode => 'FAILFAST')"
   ]
  },
  {
   "cell_type": "code",
   "execution_count": 0,
   "metadata": {
    "application/vnd.databricks.v1+cell": {
     "cellMetadata": {
      "byteLimit": 2048000,
      "implicitDf": true,
      "rowLimit": 10000
     },
     "inputWidgets": {},
     "nuid": "475ae9f2-545f-4130-8e69-65140b180358",
     "showTitle": false,
     "tableResultSettingsMap": {},
     "title": ""
    }
   },
   "outputs": [],
   "source": [
    "%sql\n",
    "ALTER TABLE 4_prod.pacs_ai.pacs_examcode_dict SET TBLPROPERTIES (delta.enableChangeDataFeed = true) "
   ]
  },
  {
   "cell_type": "code",
   "execution_count": 0,
   "metadata": {
    "application/vnd.databricks.v1+cell": {
     "cellMetadata": {
      "byteLimit": 2048000,
      "rowLimit": 10000
     },
     "inputWidgets": {},
     "nuid": "77eb5deb-23ac-4032-b7d5-110d4444808d",
     "showTitle": false,
     "tableResultSettingsMap": {},
     "title": ""
    }
   },
   "outputs": [],
   "source": [
    "from databricks.vector_search.client import VectorSearchClient\n",
    "\n",
    "client = VectorSearchClient()\n",
    "\n",
    "index = client.create_delta_sync_index(\n",
    "  endpoint_name=\"pacs_examcode_vector_search\",\n",
    "  source_table_name=\"4_prod.pacs_ai.pacs_examcode_dict\",\n",
    "  index_name=\"4_prod.pacs_ai.pacs_examcode_concat_vs_index\",\n",
    "  pipeline_type=\"TRIGGERED\",\n",
    "  primary_key=\"short_code\",\n",
    "  embedding_source_column=\"concat_text\",\n",
    "  embedding_model_endpoint_name=\"azure_openai_embedding_endpoint\"\n",
    ")"
   ]
  },
  {
   "cell_type": "code",
   "execution_count": 0,
   "metadata": {
    "application/vnd.databricks.v1+cell": {
     "cellMetadata": {
      "byteLimit": 2048000,
      "rowLimit": 10000
     },
     "inputWidgets": {},
     "nuid": "dae2ed28-f072-4bb7-8e02-b01139a512e7",
     "showTitle": false,
     "tableResultSettingsMap": {},
     "title": ""
    }
   },
   "outputs": [],
   "source": []
  }
 ],
 "metadata": {
  "application/vnd.databricks.v1+notebook": {
   "computePreferences": {
    "hardware": {
     "accelerator": null,
     "gpuPoolId": null,
     "memory": null
    }
   },
   "dashboards": [],
   "environmentMetadata": {
    "base_environment": "",
    "dependencies": [
     "databricks-vectorsearch"
    ],
    "environment_version": "2"
   },
   "inputWidgetPreferences": null,
   "language": "python",
   "notebookMetadata": {
    "mostRecentlyExecutedCommandWithImplicitDF": {
     "commandId": 5407416227387555,
     "dataframes": [
      "_sqldf"
     ]
    },
    "pythonIndentUnit": 4
   },
   "notebookName": "create_pacs_examcode_dict_vs_index",
   "widgets": {}
  },
  "language_info": {
   "name": "python"
  }
 },
 "nbformat": 4,
 "nbformat_minor": 0
}
