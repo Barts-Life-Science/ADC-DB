{
 "cells": [
  {
   "cell_type": "code",
   "execution_count": 0,
   "metadata": {
    "application/vnd.databricks.v1+cell": {
     "cellMetadata": {
      "byteLimit": 2048000,
      "rowLimit": 10000
     },
     "inputWidgets": {},
     "nuid": "57cf8687-aa55-4276-ac94-23d36716f8bb",
     "showTitle": false,
     "tableResultSettingsMap": {},
     "title": ""
    }
   },
   "outputs": [],
   "source": [
    "# Notebook parameters\n",
    "\n",
    "params = {\n",
    "    \"refresh_ai_pred\": \"\",\n",
    "}\n",
    "\n",
    "# create text widgets\n",
    "for k in params.keys():\n",
    "    dbutils.widgets.text(k, \"\", \"\")\n",
    "\n",
    "# fetch values\n",
    "for k in params.keys():\n",
    "    params[k] = dbutils.widgets.get(k)\n",
    "    print(k, \":\", params[k])"
   ]
  },
  {
   "cell_type": "code",
   "execution_count": 0,
   "metadata": {
    "application/vnd.databricks.v1+cell": {
     "cellMetadata": {
      "byteLimit": 2048000,
      "rowLimit": 10000
     },
     "inputWidgets": {},
     "nuid": "aa5418d2-291c-4726-9039-73ba0a40c01b",
     "showTitle": false,
     "tableResultSettingsMap": {},
     "title": ""
    }
   },
   "outputs": [],
   "source": [
    "# Check refresh_ai_pred and whether predicted_pacs_examcode table exists\n",
    "# If the table doesn't exist, it will be created regardless of refresh_ai_pred\n",
    "if params[\"refresh_ai_pred\"] != '1' and spark.catalog.tableExists(\"4_prod.pacs_dlt.ai_predicted_pacs_examcode\"):\n",
    "    dbutils.notebook.exit(\"AI pred not refreshed.\")"
   ]
  },
  {
   "cell_type": "code",
   "execution_count": 0,
   "metadata": {
    "application/vnd.databricks.v1+cell": {
     "cellMetadata": {
      "byteLimit": 2048000,
      "rowLimit": 10000
     },
     "inputWidgets": {},
     "nuid": "f04d23dc-6c49-45fb-8861-629142636e15",
     "showTitle": false,
     "tableResultSettingsMap": {},
     "title": ""
    }
   },
   "outputs": [],
   "source": [
    "# Got an error for spark.catalog.tableExists(\"4_prod.pacs_ai.pacs_examcode_concat_vs_index\")\n",
    "# therefore modified this to pacs_examcode_dict instead\n",
    "refresh_vs_index = not spark.catalog.tableExists(\"4_prod.pacs_dlt.ai_pacs_examcode_dict\")\n",
    "print(refresh_vs_index)"
   ]
  },
  {
   "cell_type": "code",
   "execution_count": 0,
   "metadata": {
    "application/vnd.databricks.v1+cell": {
     "cellMetadata": {
      "byteLimit": 2048000,
      "implicitDf": true,
      "rowLimit": 10000
     },
     "inputWidgets": {},
     "nuid": "a2f5409c-afa4-4d46-9f67-9567754ea654",
     "showTitle": false,
     "tableResultSettingsMap": {},
     "title": ""
    }
   },
   "outputs": [],
   "source": [
    "%sql\n",
    "CREATE TABLE IF NOT EXISTS 4_prod.pacs_dlt.ai_pacs_examcode_dict\n",
    "AS\n",
    "SELECT\n",
    "  *,\n",
    "  CONCAT(\n",
    "    '{\\n short code: ', short_code, ' ;\\n ',\n",
    "    'description: ', preferred, ' ;\\n ',\n",
    "    'procedure name: ', sct_fsn, ' ;\\n ',\n",
    "    'laterality: ', COALESCE(laterality, 'Null'), ' ;\\n ',\n",
    "    'region: ', COALESCE(region, 'Null'), ' ;\\n ',\n",
    "    'system: ', COALESCE(system, 'Null'), ' ;\\n}'\n",
    "  ) AS concat_text\n",
    "FROM read_files(\n",
    "  '/Volumes/4_prod/pacs/base/Annex-1-DID_lookup_group.csv',\n",
    "  format => 'csv',\n",
    "  header => true,\n",
    "  mode => 'FAILFAST')"
   ]
  },
  {
   "cell_type": "code",
   "execution_count": 0,
   "metadata": {
    "application/vnd.databricks.v1+cell": {
     "cellMetadata": {
      "byteLimit": 2048000,
      "implicitDf": true,
      "rowLimit": 10000
     },
     "inputWidgets": {},
     "nuid": "8be4663d-77cb-4668-bf96-08bf9c13757d",
     "showTitle": false,
     "tableResultSettingsMap": {},
     "title": ""
    }
   },
   "outputs": [],
   "source": [
    "%sql\n",
    "ALTER TABLE 4_prod.pacs_dlt.ai_pacs_examcode_dict SET TBLPROPERTIES (delta.enableChangeDataFeed = true) "
   ]
  },
  {
   "cell_type": "code",
   "execution_count": 0,
   "metadata": {
    "application/vnd.databricks.v1+cell": {
     "cellMetadata": {
      "byteLimit": 2048000,
      "rowLimit": 10000
     },
     "inputWidgets": {},
     "nuid": "1c975f7a-f283-4b42-9adc-e11c54829991",
     "showTitle": false,
     "tableResultSettingsMap": {},
     "title": ""
    }
   },
   "outputs": [],
   "source": [
    "\n",
    "\n",
    "if refresh_vs_index:\n",
    "    from databricks.vector_search.client import VectorSearchClient\n",
    "\n",
    "    client = VectorSearchClient()\n",
    "\n",
    "    index = client.create_delta_sync_index(\n",
    "    endpoint_name=\"pacs_examcode_vector_search\",\n",
    "    source_table_name=\"4_prod.pacs_dlt.ai_pacs_examcode_dict\",\n",
    "    index_name=\"4_prod.pacs_dlt.ai_pacs_examcode_concat_vs_index\",\n",
    "    pipeline_type=\"TRIGGERED\",\n",
    "    primary_key=\"short_code\",\n",
    "    embedding_source_column=\"concat_text\",\n",
    "    embedding_model_endpoint_name=\"azure_openai_embedding_endpoint\"\n",
    "    )"
   ]
  },
  {
   "cell_type": "code",
   "execution_count": 0,
   "metadata": {
    "application/vnd.databricks.v1+cell": {
     "cellMetadata": {
      "byteLimit": 2048000,
      "implicitDf": true,
      "rowLimit": 10000
     },
     "inputWidgets": {},
     "nuid": "24122441-f072-424e-8581-6c23be4f35c5",
     "showTitle": false,
     "tableResultSettingsMap": {},
     "title": ""
    }
   },
   "outputs": [],
   "source": [
    "%sql\n",
    "\n",
    "CREATE OR REPLACE TABLE 4_prod.pacs_dlt.ai_predicted_pacs_examcode\n",
    "AS\n",
    "WITH RawExamCodes AS (\n",
    "  SELECT RawExamCode\n",
    "  FROM `4_prod`.pacs_dlt.intmd_pacs_examcode\n",
    "  WHERE RawExamCode LIKE '% %'\n",
    "  LIMIT 1000 -- Adjust the limit as needed\n",
    "),\n",
    "ar AS (\n",
    "  SELECT vs.*,\n",
    "  ai_query(\n",
    "      \"azure_openai_gpt4o\",\n",
    "      \"Context:\\n\" || vs.context || \"\\nQuestion: Choose the best short code for '\" || vs_input || \"'. In the first line, output the best short code if found. Otherwise output Unknown. In the second line, output the reason. Please note: +C means contrast. If contrast is not specified then choose a non-contrast short code.\",\n",
    "      failOnError=>false\n",
    "  ) AS AIResponse\n",
    "  FROM RawExamCodes rec\n",
    "  JOIN LATERAL (\n",
    "    SELECT \n",
    "      rec.RawExamCode AS vs_input, \n",
    "      array_join(collect_set(concat_text), '\\n') AS context\n",
    "    FROM vector_search(\n",
    "      index => '1_inland.sectra.pacs_examcode_concat_vs_index',\n",
    "      query_text => rec.RawExamCode,\n",
    "      num_results => 20\n",
    "    )\n",
    "    GROUP BY vs_input\n",
    "  ) vs ON vs.vs_input = rec.RawExamCode\n",
    "),\n",
    "ar_val AS (\n",
    "  SELECT\n",
    "    ar.*,\n",
    "    RTRIM(LTRIM(SPLIT_PART(AIResponse['result'], '\\n', 1))) AS ExtractedAIExamCode,\n",
    "    ISNOTNULL(ed.short_code) AS IsExamCodeValid\n",
    "  FROM ar\n",
    "  LEFT JOIN 4_prod.pacs_dlt.ai_pacs_examcode_dict AS ed\n",
    "  ON RTRIM(LTRIM(SPLIT_PART(AIResponse['result'], '\\n', 1))) = ed.short_code\n",
    ")\n",
    "SELECT\n",
    "  ar_val.*,\n",
    "  CASE \n",
    "    WHEN IsExamCodeValid IS TRUE THEN ar_val.ExtractedAIExamCode\n",
    "    ELSE NULL\n",
    "  END AS ValidatedAIExamCode\n",
    "  FROM ar_val\n"
   ]
  }
 ],
 "metadata": {
  "application/vnd.databricks.v1+notebook": {
   "computePreferences": {
    "hardware": {
     "accelerator": null,
     "gpuPoolId": null,
     "memory": null
    }
   },
   "dashboards": [],
   "environmentMetadata": {
    "base_environment": "",
    "dependencies": [
     "databricks-vectorsearch"
    ],
    "environment_version": "2"
   },
   "inputWidgetPreferences": null,
   "language": "python",
   "notebookMetadata": {
    "mostRecentlyExecutedCommandWithImplicitDF": {
     "commandId": 5407416227387567,
     "dataframes": [
      "_sqldf"
     ]
    },
    "pythonIndentUnit": 4
   },
   "notebookName": "predict_pacs_examcode_with_ai",
   "widgets": {
    "refresh_ai_pred": {
     "currentValue": "1",
     "nuid": "859704db-5dd8-462f-b3c9-12a9e1390a28",
     "typedWidgetInfo": {
      "autoCreated": false,
      "defaultValue": "",
      "label": "",
      "name": "refresh_ai_pred",
      "options": {
       "widgetDisplayType": "Text",
       "validationRegex": null
      },
      "parameterDataType": "String"
     },
     "widgetInfo": {
      "widgetType": "text",
      "defaultValue": "",
      "label": "",
      "name": "refresh_ai_pred",
      "options": {
       "widgetType": "text",
       "autoCreated": null,
       "validationRegex": null
      }
     }
    }
   }
  },
  "language_info": {
   "name": "python"
  }
 },
 "nbformat": 4,
 "nbformat_minor": 0
}
