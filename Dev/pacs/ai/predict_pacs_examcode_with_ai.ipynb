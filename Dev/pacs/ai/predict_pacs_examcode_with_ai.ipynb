{
 "cells": [
  {
   "cell_type": "code",
   "execution_count": 0,
   "metadata": {
    "application/vnd.databricks.v1+cell": {
     "cellMetadata": {},
     "inputWidgets": {},
     "nuid": "57cf8687-aa55-4276-ac94-23d36716f8bb",
     "showTitle": false,
     "tableResultSettingsMap": {},
     "title": ""
    }
   },
   "outputs": [],
   "source": [
    "# Notebook parameters\n",
    "\n",
    "params = {\n",
    "    \"refresh_ai_pred\": \"\",\n",
    "}\n",
    "\n",
    "# create text widgets\n",
    "for k in params.keys():\n",
    "    dbutils.widgets.text(k, \"\", \"\")\n",
    "\n",
    "# fetch values\n",
    "for k in params.keys():\n",
    "    params[k] = dbutils.widgets.get(k)\n",
    "    print(k, \":\", params[k])"
   ]
  },
  {
   "cell_type": "code",
   "execution_count": 0,
   "metadata": {
    "application/vnd.databricks.v1+cell": {
     "cellMetadata": {},
     "inputWidgets": {},
     "nuid": "aa5418d2-291c-4726-9039-73ba0a40c01b",
     "showTitle": false,
     "tableResultSettingsMap": {},
     "title": ""
    }
   },
   "outputs": [],
   "source": [
    "if params[\"refresh_ai_pred\"] != '1' and spark.catalog.tableExists(\"4_prod.pacs_ai.predicted_pacs_examcode\"):\n",
    "    dbutils.notebook.exit(\"AI pred not refreshed.\")"
   ]
  },
  {
   "cell_type": "code",
   "execution_count": 0,
   "metadata": {
    "application/vnd.databricks.v1+cell": {
     "cellMetadata": {
      "byteLimit": 2048000,
      "implicitDf": true,
      "rowLimit": 10000
     },
     "inputWidgets": {},
     "nuid": "24122441-f072-424e-8581-6c23be4f35c5",
     "showTitle": false,
     "tableResultSettingsMap": {},
     "title": ""
    }
   },
   "outputs": [],
   "source": [
    "%sql\n",
    "\n",
    "CREATE OR REPLACE TABLE 4_prod.pacs_ai.predicted_pacs_examcode\n",
    "AS\n",
    "WITH RawExamCodes AS (\n",
    "  SELECT RawExamCode\n",
    "  FROM `4_prod`.pacs.intmd_pacs_examcode\n",
    "  WHERE RawExamCode LIKE '% %'\n",
    "  LIMIT 10 -- Adjust the limit as needed\n",
    ")\n",
    "SELECT vs.*,\n",
    "ai_query(\n",
    "    \"azure_openai_gpt4o\",\n",
    "    \"Context:\\n\" || vs.context || \"\\nQuestion: Choose the best short code for '\" || vs_input || \"'. In the first line, output the best short code if found. Otherwise output Unknown. In the second line, output the reason. Please note: +C means contrast. If contrast is not specified then choose a non-contrast short code.\",\n",
    "    failOnError=>false\n",
    ") AS AIResponse\n",
    "\n",
    "FROM RawExamCodes rec\n",
    "JOIN LATERAL (\n",
    "  SELECT \n",
    "    rec.RawExamCode AS vs_input, \n",
    "    array_join(collect_set(concat_text), '\\n') AS context\n",
    "  FROM vector_search(\n",
    "    index => '1_inland.sectra.pacs_examcode_concat_vs_index',\n",
    "    query_text => rec.RawExamCode,\n",
    "    num_results => 20\n",
    "  )\n",
    "  GROUP BY vs_input\n",
    ") vs ON vs.vs_input = rec.RawExamCode"
   ]
  }
 ],
 "metadata": {
  "application/vnd.databricks.v1+notebook": {
   "computePreferences": null,
   "dashboards": [],
   "environmentMetadata": {
    "base_environment": "",
    "environment_version": "2"
   },
   "inputWidgetPreferences": null,
   "language": "python",
   "notebookMetadata": {
    "mostRecentlyExecutedCommandWithImplicitDF": {
     "commandId": 5407416227387567,
     "dataframes": [
      "_sqldf"
     ]
    },
    "pythonIndentUnit": 4
   },
   "notebookName": "predict_pacs_examcode_with_ai",
   "widgets": {}
  },
  "language_info": {
   "name": "python"
  }
 },
 "nbformat": 4,
 "nbformat_minor": 0
}
