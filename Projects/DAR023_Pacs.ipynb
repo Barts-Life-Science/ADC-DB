{
 "cells": [
  {
   "cell_type": "code",
   "execution_count": 0,
   "metadata": {
    "application/vnd.databricks.v1+cell": {
     "cellMetadata": {
      "byteLimit": 2048000,
      "implicitDf": true,
      "rowLimit": 10000
     },
     "inputWidgets": {},
     "nuid": "0e5b13b1-72f1-4bb8-91fb-4dfbf9693ed2",
     "showTitle": false,
     "tableResultSettingsMap": {},
     "title": ""
    }
   },
   "outputs": [],
   "source": [
    "%sql\n",
    "\n",
    "ALTER TABLE 5_projects.dac023_pacs.request_20250915\n",
    "ADD COLUMNS (PERSON_ID INT)\n"
   ]
  },
  {
   "cell_type": "code",
   "execution_count": 0,
   "metadata": {
    "application/vnd.databricks.v1+cell": {
     "cellMetadata": {
      "byteLimit": 2048000,
      "implicitDf": true,
      "rowLimit": 10000
     },
     "inputWidgets": {},
     "nuid": "1816e6bc-3590-4ec4-bcbf-2fccaaa14375",
     "showTitle": false,
     "tableResultSettingsMap": {},
     "title": ""
    }
   },
   "outputs": [],
   "source": [
    "%sql\n",
    "WITH nhs_nbr AS (\n",
    "    SELECT\n",
    "        MAX(PERSON_ID) AS PERSON_ID,\n",
    "        ALIAS AS NHS_Number\n",
    "    FROM 4_prod.rde.patient_nhs\n",
    "    GROUP BY ALIAS\n",
    ")\n",
    "MERGE INTO 5_projects.dac023_pacs.request_20250915 AS dest\n",
    "USING nhs_nbr\n",
    "ON CAST(dest.NHS_Number AS STRING)= nhs_nbr.NHS_Number\n",
    "WHEN MATCHED THEN\n",
    "    UPDATE SET dest.PERSON_ID = nhs_nbr.PERSON_ID"
   ]
  },
  {
   "cell_type": "code",
   "execution_count": 0,
   "metadata": {
    "application/vnd.databricks.v1+cell": {
     "cellMetadata": {
      "byteLimit": 2048000,
      "implicitDf": true,
      "rowLimit": 10000
     },
     "inputWidgets": {},
     "nuid": "57ab6fc3-6a38-4c6b-9e59-0104dc1df508",
     "showTitle": false,
     "tableResultSettingsMap": {},
     "title": ""
    }
   },
   "outputs": [],
   "source": [
    "%sql\n",
    "\n",
    "CREATE TABLE 5_projects.dac023_pacs.request_20250915_accession_nbr (\n",
    "    person_id INT,\n",
    "    accession_nbr STRING\n",
    ")"
   ]
  },
  {
   "cell_type": "code",
   "execution_count": 0,
   "metadata": {
    "application/vnd.databricks.v1+cell": {
     "cellMetadata": {
      "byteLimit": 2048000,
      "implicitDf": true,
      "rowLimit": 10000
     },
     "inputWidgets": {},
     "nuid": "84e78077-a155-4cab-a71f-bae57c73a870",
     "showTitle": false,
     "tableResultSettingsMap": {},
     "title": ""
    }
   },
   "outputs": [],
   "source": [
    "%sql\n",
    "TRUNCATE TABLE 5_projects.dac023_pacs.request_20250915_accession_nbr;"
   ]
  },
  {
   "cell_type": "code",
   "execution_count": 0,
   "metadata": {
    "application/vnd.databricks.v1+cell": {
     "cellMetadata": {
      "byteLimit": 2048000,
      "implicitDf": true,
      "rowLimit": 10000
     },
     "inputWidgets": {},
     "nuid": "03527c88-38c1-4c64-bc3e-ec5f3594878c",
     "showTitle": false,
     "tableResultSettingsMap": {},
     "title": ""
    }
   },
   "outputs": [],
   "source": [
    "%sql\n",
    "INSERT INTO 5_projects.dac023_pacs.request_20250915_accession_nbr (accession_nbr, person_id)\n",
    "SELECT\n",
    "    DISTINCT m.AccessionNbr,\n",
    "    r.PERSON_ID\n",
    "FROM 4_prod.pacs.mill_pacs_data_expanded m\n",
    "INNER JOIN 5_projects.dac023_pacs.request_20250915 r\n",
    "    ON m.MillPersonId = r.PERSON_ID"
   ]
  }
 ],
 "metadata": {
  "application/vnd.databricks.v1+notebook": {
   "computePreferences": null,
   "dashboards": [],
   "environmentMetadata": {
    "base_environment": "",
    "environment_version": "3"
   },
   "inputWidgetPreferences": null,
   "language": "python",
   "notebookMetadata": {
    "mostRecentlyExecutedCommandWithImplicitDF": {
     "commandId": 7217917339622421,
     "dataframes": [
      "_sqldf"
     ]
    },
    "pythonIndentUnit": 4
   },
   "notebookName": "DAR023_Pacs",
   "widgets": {}
  },
  "language_info": {
   "name": "python"
  }
 },
 "nbformat": 4,
 "nbformat_minor": 0
}
