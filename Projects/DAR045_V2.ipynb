{
 "cells": [
  {
   "cell_type": "code",
   "execution_count": 0,
   "metadata": {
    "application/vnd.databricks.v1+cell": {
     "cellMetadata": {
      "byteLimit": 2048000,
      "implicitDf": true,
      "rowLimit": 10000
     },
     "inputWidgets": {},
     "nuid": "e5a4fa89-7f3e-4cc6-99ba-b10a57cf1d10",
     "showTitle": false,
     "tableResultSettingsMap": {},
     "title": ""
    }
   },
   "outputs": [],
   "source": [
    "%sql\n",
    "\n",
    "SELECT DISTINCT SLOT_MNEMONIC FROM 4_prod.raw.mill_sch_appt\n",
    "WHERE SLOT_MNEMONIC ILIKE '%antenatal%'\n",
    "LIMIT 100"
   ]
  },
  {
   "cell_type": "code",
   "execution_count": 0,
   "metadata": {
    "application/vnd.databricks.v1+cell": {
     "cellMetadata": {
      "byteLimit": 2048000,
      "implicitDf": true,
      "rowLimit": 10000
     },
     "inputWidgets": {},
     "nuid": "d5a596c2-8ed5-4ef0-8b8c-beb809acb7bc",
     "showTitle": false,
     "tableResultSettingsMap": {},
     "title": ""
    }
   },
   "outputs": [],
   "source": [
    "%sql\n",
    "\n",
    "SELECT * FROM 3_lookup.mill.mill_code_value\n",
    "WHERE DESCRIPTION LIKE '%CMV%'"
   ]
  },
  {
   "cell_type": "code",
   "execution_count": 0,
   "metadata": {
    "application/vnd.databricks.v1+cell": {
     "cellMetadata": {
      "byteLimit": 2048000,
      "implicitDf": true,
      "rowLimit": 10000
     },
     "inputWidgets": {},
     "nuid": "755388b6-2434-4320-a2b3-1a56e7b64745",
     "showTitle": false,
     "tableResultSettingsMap": {
      "0": {
       "dataGridStateBlob": "{\"version\":1,\"tableState\":{\"columnPinning\":{\"left\":[\"#row_number#\"],\"right\":[]},\"columnSizing\":{},\"columnVisibility\":{}},\"settings\":{\"columns\":{}},\"syncTimestamp\":1754663720134}",
       "filterBlob": null,
       "queryPlanFiltersBlob": null,
       "tableResultIndex": 0
      }
     },
     "title": ""
    }
   },
   "outputs": [],
   "source": [
    "%sql\n",
    "-- Number of all adult women who received antenatal care between 2019-12-01 and 2024-12-31 \n",
    "SELECT COUNT(DISTINCT a.PERSON_ID)\n",
    "FROM 4_prod.raw.mill_sch_appt AS a\n",
    "INNER JOIN 4_prod.raw.mill_sch_event AS e\n",
    "ON a.SCH_EVENT_ID = e.SCH_EVENT_ID\n",
    "INNER JOIN 4_prod.raw.mill_person AS p\n",
    "ON a.PERSON_ID = p.PERSON_ID\n",
    "WHERE \n",
    "  APPT_SYNONYM_FREE ILIKE '%antenatal%'\n",
    "  AND BEG_DT_TM BETWEEN '2019-12-01' AND '2024-12-31'\n",
    "  AND DATEDIFF(YEAR, BIRTH_DT_TM, BEG_DT_TM) >= 18\n",
    "LIMIT 100"
   ]
  },
  {
   "cell_type": "code",
   "execution_count": 0,
   "metadata": {
    "application/vnd.databricks.v1+cell": {
     "cellMetadata": {
      "byteLimit": 2048000,
      "implicitDf": true,
      "rowLimit": 10000
     },
     "inputWidgets": {},
     "nuid": "190c262e-ada1-4e24-b3c7-1af8a32d390e",
     "showTitle": false,
     "tableResultSettingsMap": {
      "0": {
       "dataGridStateBlob": "{\"version\":1,\"tableState\":{\"columnPinning\":{\"left\":[\"#row_number#\"],\"right\":[]},\"columnSizing\":{},\"columnVisibility\":{}},\"settings\":{\"columns\":{}},\"syncTimestamp\":1754919817403}",
       "filterBlob": null,
       "queryPlanFiltersBlob": null,
       "tableResultIndex": 0
      }
     },
     "title": ""
    }
   },
   "outputs": [],
   "source": [
    "%sql\n",
    "-- Number of adult women who received antenatal care between 2019-12-01 and 2024-12-31 and were recorded with at least one 'CMV' clinical event\n",
    "WITH ante AS (\n",
    "  SELECT DISTINCT a.PERSON_ID\n",
    "  FROM 4_prod.raw.mill_sch_appt AS a\n",
    "  INNER JOIN 4_prod.raw.mill_sch_event AS e\n",
    "  ON a.SCH_EVENT_ID = e.SCH_EVENT_ID\n",
    "  INNER JOIN 4_prod.raw.mill_person AS p\n",
    "  ON a.PERSON_ID = p.PERSON_ID\n",
    "  WHERE \n",
    "    APPT_SYNONYM_FREE ILIKE '%antenatal%'\n",
    "    AND BEG_DT_TM BETWEEN '2019-12-01' AND '2024-12-31'\n",
    "    AND DATEDIFF(YEAR, BIRTH_DT_TM, BEG_DT_TM) >= 18\n",
    ")\n",
    "SELECT COUNT(DISTINCT ce.PERSON_ID)\n",
    "FROM 4_prod.raw.mill_clinical_event AS ce\n",
    "INNER JOIN ante\n",
    "ON ce.PERSON_ID = ante.PERSON_ID\n",
    "WHERE\n",
    "  EVENT_TITLE_TEXT ILIKE '%CMV%'\n",
    "  --AND EVENT_START_DT_TM BETWEEN '2019-12-01' AND '2024-12-31' -- got 0 result\n"
   ]
  },
  {
   "cell_type": "code",
   "execution_count": 0,
   "metadata": {
    "application/vnd.databricks.v1+cell": {
     "cellMetadata": {
      "byteLimit": 2048000,
      "implicitDf": true,
      "rowLimit": 10000
     },
     "inputWidgets": {},
     "nuid": "0942257b-1d81-43ab-827d-bf2aa0b35132",
     "showTitle": false,
     "tableResultSettingsMap": {},
     "title": ""
    }
   },
   "outputs": [],
   "source": [
    "%sql\n",
    "-- Number of adult women who received antenatal care between 2019-12-01 and 2024-12-31 and were recorded with at least one clinical event with CMV-related EVENT_CD in the same period\n",
    "WITH ante AS (\n",
    "  SELECT DISTINCT a.PERSON_ID\n",
    "  FROM 4_prod.raw.mill_sch_appt AS a\n",
    "  INNER JOIN 4_prod.raw.mill_sch_event AS e\n",
    "  ON a.SCH_EVENT_ID = e.SCH_EVENT_ID\n",
    "  INNER JOIN 4_prod.raw.mill_person AS p\n",
    "  ON a.PERSON_ID = p.PERSON_ID\n",
    "  WHERE \n",
    "    APPT_SYNONYM_FREE ILIKE '%antenatal%'\n",
    "    AND BEG_DT_TM BETWEEN '2019-12-01' AND '2024-12-31'\n",
    "    AND DATEDIFF(YEAR, BIRTH_DT_TM, BEG_DT_TM) >= 18\n",
    ")\n",
    "SELECT COUNT(DISTINCT ce.PERSON_ID)\n",
    "FROM 4_prod.raw.mill_clinical_event AS ce\n",
    "INNER JOIN 3_lookup.mill.mill_code_value AS cv\n",
    "ON ce.EVENT_CD = cv.CODE_VALUE\n",
    "INNER JOIN ante\n",
    "ON ce.PERSON_ID = ante.PERSON_ID\n",
    "WHERE\n",
    "  cv.DESCRIPTION LIKE '%CMV%'\n",
    "  AND COALESCE(EVENT_START_DT_TM, EVENT_END_DT_TM, ce.VALID_FROM_DT_TM) BETWEEN '2019-12-01' AND '2024-12-31'\n"
   ]
  },
  {
   "cell_type": "code",
   "execution_count": 0,
   "metadata": {
    "application/vnd.databricks.v1+cell": {
     "cellMetadata": {
      "byteLimit": 2048000,
      "implicitDf": true,
      "rowLimit": 10000
     },
     "inputWidgets": {},
     "nuid": "d5ebdc9e-3382-480c-9937-5fd4d265a657",
     "showTitle": false,
     "tableResultSettingsMap": {},
     "title": ""
    }
   },
   "outputs": [],
   "source": [
    "%sql\n",
    "/* \n",
    "Number of distinct patients who are\n",
    "  -- female\n",
    "  -- age 18+\n",
    "  -- received antenatal care between 2019-12-01 and 2024-12-31\n",
    "  -- linked with a (PI_CDE) blob content that contains CMV keywords\n",
    "*/\n",
    "WITH ante AS (\n",
    "  SELECT DISTINCT a.PERSON_ID\n",
    "  FROM 4_prod.raw.mill_sch_appt AS a\n",
    "  INNER JOIN 4_prod.raw.mill_sch_event AS e\n",
    "  ON a.SCH_EVENT_ID = e.SCH_EVENT_ID\n",
    "  INNER JOIN 4_prod.raw.mill_person AS p\n",
    "  ON a.PERSON_ID = p.PERSON_ID\n",
    "  WHERE \n",
    "    APPT_SYNONYM_FREE ILIKE '%antenatal%'\n",
    "    AND BEG_DT_TM BETWEEN '2019-12-01' AND '2024-12-31'\n",
    "    AND DATEDIFF(YEAR, BIRTH_DT_TM, BEG_DT_TM) >= 18\n",
    "),\n",
    "ce AS (\n",
    "  SELECT EVENT_ID, MAX(PERSON_ID) AS PERSON_ID\n",
    "  FROM 4_prod.raw.mill_clinical_event\n",
    "  WHERE COALESCE(EVENT_START_DT_TM, EVENT_END_DT_TM) BETWEEN '2019-12-01' AND '2024-12-31'\n",
    "  GROUP BY EVENT_ID\n",
    "),\n",
    "b AS (\n",
    "  SELECT bc.EVENT_ID, BLOB_CONTENTS, CE_BLOB_CONTENT_ID, ante.PERSON_ID\n",
    "  FROM 4_prod.raw.pi_cde_blob_content AS bc\n",
    "  INNER JOIN ce\n",
    "  ON bc.EVENT_ID = ce.EVENT_ID\n",
    "  INNER JOIN ante\n",
    "  ON ante.PERSON_ID = ce.PERSON_ID\n",
    "  WHERE BLOB_CONTENTS ILIKE '%CMV%' OR BLOB_CONTENTS ILIKE '%Cytomegalovirus%'\n",
    ")\n",
    "SELECT COUNT(*), COUNT(DISTINCT b.PERSON_ID), COUNT(DISTINCT b.CE_BLOB_CONTENT_ID)\n",
    "FROM b\n"
   ]
  },
  {
   "cell_type": "code",
   "execution_count": 0,
   "metadata": {
    "application/vnd.databricks.v1+cell": {
     "cellMetadata": {
      "byteLimit": 2048000,
      "implicitDf": true,
      "rowLimit": 10000
     },
     "inputWidgets": {},
     "nuid": "2b8adba4-8dee-4ef5-997a-280114c0f160",
     "showTitle": false,
     "tableResultSettingsMap": {},
     "title": ""
    }
   },
   "outputs": [],
   "source": [
    "%sql\n",
    "/* \n",
    "Number of distinct patients who are\n",
    "  -- female\n",
    "  -- age 18+\n",
    "  -- received antenatal care between 2019-12-01 and 2024-12-31\n",
    "  -- linked with a (PI_CDE) blob content that contains CMV keywords\n",
    "*/\n",
    "WITH ante AS (\n",
    "  SELECT DISTINCT a.PERSON_ID\n",
    "  FROM 4_prod.raw.mill_sch_appt AS a\n",
    "  INNER JOIN 4_prod.raw.mill_sch_event AS e\n",
    "  ON a.SCH_EVENT_ID = e.SCH_EVENT_ID\n",
    "  INNER JOIN 4_prod.raw.mill_person AS p\n",
    "  ON a.PERSON_ID = p.PERSON_ID\n",
    "  WHERE \n",
    "    APPT_SYNONYM_FREE ILIKE '%antenatal%'\n",
    "    AND BEG_DT_TM BETWEEN '2019-12-01' AND '2024-12-31'\n",
    "    AND DATEDIFF(YEAR, BIRTH_DT_TM, BEG_DT_TM) >= 18\n",
    "),\n",
    "ce AS (\n",
    "  SELECT EVENT_ID, MAX(PERSON_ID) AS PERSON_ID\n",
    "  FROM 4_prod.raw.mill_clinical_event\n",
    "  WHERE COALESCE(EVENT_START_DT_TM, EVENT_END_DT_TM) BETWEEN '2019-12-01' AND '2024-12-31'\n",
    "  GROUP BY EVENT_ID\n",
    "),\n",
    "b AS (\n",
    "  SELECT bc.EVENT_ID, BLOB_CONTENTS, CE_BLOB_CONTENT_ID, ante.PERSON_ID\n",
    "  FROM 4_prod.raw.pi_cde_blob_content AS bc\n",
    "  INNER JOIN ce\n",
    "  ON bc.EVENT_ID = ce.EVENT_ID\n",
    "  INNER JOIN ante\n",
    "  ON ante.PERSON_ID = ce.PERSON_ID\n",
    "  WHERE BLOB_CONTENTS ILIKE '%CMV%' OR BLOB_CONTENTS ILIKE '%Cytomegalovirus%'\n",
    ")\n",
    "SELECT *\n",
    "FROM b\n",
    "LIMIT 100"
   ]
  },
  {
   "cell_type": "code",
   "execution_count": 0,
   "metadata": {
    "application/vnd.databricks.v1+cell": {
     "cellMetadata": {
      "byteLimit": 2048000,
      "implicitDf": true,
      "rowLimit": 10000
     },
     "inputWidgets": {},
     "nuid": "3c5ff01d-470f-4c42-95bd-92fe6d5f3807",
     "showTitle": false,
     "tableResultSettingsMap": {},
     "title": ""
    }
   },
   "outputs": [],
   "source": [
    "%sql\n",
    "/* \n",
    "Number of distinct patients who are\n",
    "  -- female\n",
    "  -- age 18+\n",
    "  -- received antenatal care between 2019-12-01 and 2024-12-31\n",
    "  -- recorded with 1+ clinical event with CMV-related EVENT_CD in the same period\n",
    "  -- linked with a (PI_CDE) blob content\n",
    "*/\n",
    "WITH ante AS (\n",
    "  SELECT DISTINCT a.PERSON_ID\n",
    "  FROM 4_prod.raw.mill_sch_appt AS a\n",
    "  INNER JOIN 4_prod.raw.mill_sch_event AS e\n",
    "  ON a.SCH_EVENT_ID = e.SCH_EVENT_ID\n",
    "  INNER JOIN 4_prod.raw.mill_person AS p\n",
    "  ON a.PERSON_ID = p.PERSON_ID\n",
    "  WHERE \n",
    "    APPT_SYNONYM_FREE ILIKE '%antenatal%'\n",
    "    AND BEG_DT_TM BETWEEN '2019-12-01' AND '2024-12-31'\n",
    "    AND DATEDIFF(YEAR, BIRTH_DT_TM, BEG_DT_TM) >= 18\n",
    ")\n",
    "SELECT COUNT(DISTINCT ce.PERSON_ID), COUNT(DISTINCT bc.CE_BLOB_CONTENT_ID)\n",
    "FROM 4_prod.raw.mill_clinical_event AS ce\n",
    "INNER JOIN 3_lookup.mill.mill_code_value AS cv\n",
    "ON ce.EVENT_CD = cv.CODE_VALUE\n",
    "INNER JOIN ante\n",
    "ON ce.PERSON_ID = ante.PERSON_ID\n",
    "INNER JOIN 4_prod.raw.pi_cde_blob_content AS bc\n",
    "ON ce.EVENT_ID = bc.EVENT_ID\n",
    "WHERE\n",
    "  cv.DESCRIPTION LIKE '%CMV%'\n",
    "  AND COALESCE(EVENT_START_DT_TM, EVENT_END_DT_TM, ce.VALID_FROM_DT_TM) BETWEEN '2019-12-01' AND '2024-12-31'\n"
   ]
  },
  {
   "cell_type": "code",
   "execution_count": 0,
   "metadata": {
    "application/vnd.databricks.v1+cell": {
     "cellMetadata": {},
     "inputWidgets": {},
     "nuid": "b02c2e79-9993-49c1-b8c0-3e9706b048b4",
     "showTitle": false,
     "tableResultSettingsMap": {},
     "title": ""
    }
   },
   "outputs": [],
   "source": [
    "%sql\n",
    "/* \n",
    "Number of distinct patients who are\n",
    "  -- female\n",
    "  -- age 18+\n",
    "  -- received antenatal care between 2019-12-01 and 2024-12-31\n",
    "  -- recorded with 1+ clinical event with CMV-related EVENT_CD in the same period\n",
    "  -- clinical event linked with a (PI_CDE) blob content\n",
    "*/\n",
    "WITH ante AS (\n",
    "  SELECT DISTINCT a.PERSON_ID\n",
    "  FROM 4_prod.raw.mill_sch_appt AS a\n",
    "  INNER JOIN 4_prod.raw.mill_sch_event AS e\n",
    "  ON a.SCH_EVENT_ID = e.SCH_EVENT_ID\n",
    "  INNER JOIN 4_prod.raw.mill_person AS p\n",
    "  ON a.PERSON_ID = p.PERSON_ID\n",
    "  WHERE \n",
    "    APPT_SYNONYM_FREE ILIKE '%antenatal%'\n",
    "    AND BEG_DT_TM BETWEEN '2019-12-01' AND '2024-12-31'\n",
    "    AND DATEDIFF(YEAR, BIRTH_DT_TM, BEG_DT_TM) >= 18\n",
    ")\n",
    "SELECT COUNT(DISTINCT ce.PERSON_ID), COUNT(DISTINCT bc.CE_BLOB_CONTENT_ID)\n",
    "FROM 4_prod.raw.mill_clinical_event AS ce\n",
    "INNER JOIN 3_lookup.mill.mill_code_value AS cv\n",
    "ON ce.EVENT_CD = cv.CODE_VALUE\n",
    "INNER JOIN ante\n",
    "ON ce.PERSON_ID = ante.PERSON_ID\n",
    "INNER JOIN 4_prod.raw.pi_cde_blob_content AS bc\n",
    "ON ce.EVENT_ID = bc.EVENT_ID\n",
    "WHERE\n",
    "  cv.DESCRIPTION LIKE '%CMV%'\n",
    "  AND COALESCE(EVENT_START_DT_TM, EVENT_END_DT_TM, ce.VALID_FROM_DT_TM) BETWEEN '2019-12-01' AND '2024-12-31'\n"
   ]
  },
  {
   "cell_type": "code",
   "execution_count": 0,
   "metadata": {
    "application/vnd.databricks.v1+cell": {
     "cellMetadata": {
      "byteLimit": 2048000,
      "implicitDf": true,
      "rowLimit": 10000
     },
     "inputWidgets": {},
     "nuid": "c2d6c043-0e44-499e-8110-d72b213b48b6",
     "showTitle": false,
     "tableResultSettingsMap": {},
     "title": ""
    }
   },
   "outputs": [],
   "source": [
    "%sql\n",
    "/* \n",
    "Number of distinct patients who are\n",
    "  -- female\n",
    "  -- age 18+\n",
    "  -- received antenatal care between 2019-12-01 and 2024-12-31\n",
    "  -- person_id linked to at least 1 RDE blobdataset in the same period\n",
    "*/\n",
    "WITH ante AS (\n",
    "  SELECT DISTINCT a.PERSON_ID\n",
    "  FROM 4_prod.raw.mill_sch_appt AS a\n",
    "  INNER JOIN 4_prod.raw.mill_sch_event AS e\n",
    "  ON a.SCH_EVENT_ID = e.SCH_EVENT_ID\n",
    "  INNER JOIN 4_prod.raw.mill_person AS p\n",
    "  ON a.PERSON_ID = p.PERSON_ID\n",
    "  WHERE \n",
    "    APPT_SYNONYM_FREE ILIKE '%antenatal%'\n",
    "    AND BEG_DT_TM BETWEEN '2019-12-01' AND '2024-12-31'\n",
    "    AND DATEDIFF(YEAR, BIRTH_DT_TM, BEG_DT_TM) >= 18\n",
    ")\n",
    "SELECT COUNT(DISTINCT bc.PERSON_ID), COUNT(DISTINCT bc.EVENTID)\n",
    "FROM 4_prod.rde.rde_blobdataset AS bc\n",
    "INNER JOIN ante\n",
    "ON bc.PERSON_ID = ante.PERSON_ID\n",
    "INNER JOIN 4_prod.raw.mill_clinical_event AS ce\n",
    "ON ce.EVENT_ID = bc.EVENTID \n",
    "WHERE \n",
    "  (blobcontents LIKE '%CMV%' OR blobcontents ILIKE '%Cytomegalovirus%')\n",
    "  AND COALESCE(EVENT_START_DT_TM, EVENT_END_DT_TM, VALID_FROM_DT_TM) BETWEEN '2019-12-01' AND '2024-12-31'\n",
    "LIMIT 100\n",
    "\n"
   ]
  },
  {
   "cell_type": "code",
   "execution_count": 0,
   "metadata": {
    "application/vnd.databricks.v1+cell": {
     "cellMetadata": {
      "byteLimit": 2048000,
      "implicitDf": true,
      "rowLimit": 10000
     },
     "inputWidgets": {},
     "nuid": "1fdd16d9-db4d-4e49-bdcf-ca1249af6831",
     "showTitle": false,
     "tableResultSettingsMap": {},
     "title": ""
    }
   },
   "outputs": [],
   "source": [
    "%sql\n",
    "/* \n",
    "Number of distinct patients who are\n",
    "  -- new born babies\n",
    "  -- received antenatal care between 2019-12-01 and 2024-12-31\n",
    "  -- person_id linked to at least 1 RDE blobdataset in the same period\n",
    "*/\n",
    "WITH ante AS (\n",
    "  SELECT DISTINCT a.PERSON_ID\n",
    "  FROM 4_prod.raw.mill_sch_appt AS a\n",
    "  INNER JOIN 4_prod.raw.mill_sch_event AS e\n",
    "  ON a.SCH_EVENT_ID = e.SCH_EVENT_ID\n",
    "  INNER JOIN 4_prod.raw.mill_person AS p\n",
    "  ON a.PERSON_ID = p.PERSON_ID\n",
    "  WHERE \n",
    "    APPT_SYNONYM_FREE ILIKE '%antenatal%'\n",
    "    AND BEG_DT_TM BETWEEN '2019-12-01' AND '2024-12-31'\n",
    "    AND DATEDIFF(DAY, BIRTH_DT_TM, BEG_DT_TM) <= 28\n",
    ")\n",
    "SELECT COUNT(DISTINCT bc.PERSON_ID), COUNT(DISTINCT bc.EVENTID)\n",
    "FROM 4_prod.rde.rde_blobdataset AS bc\n",
    "INNER JOIN ante\n",
    "ON bc.PERSON_ID = ante.PERSON_ID\n",
    "INNER JOIN 4_prod.raw.mill_clinical_event AS ce\n",
    "ON ce.EVENT_ID = bc.EVENTID \n",
    "WHERE \n",
    "  (blobcontents LIKE '%CMV%' OR blobcontents ILIKE '%Cytomegalovirus%')\n",
    "  AND COALESCE(EVENT_START_DT_TM, EVENT_END_DT_TM, VALID_FROM_DT_TM) BETWEEN '2019-12-01' AND '2024-12-31'\n",
    "LIMIT 100\n",
    "\n"
   ]
  },
  {
   "cell_type": "code",
   "execution_count": 0,
   "metadata": {
    "application/vnd.databricks.v1+cell": {
     "cellMetadata": {
      "byteLimit": 2048000,
      "implicitDf": true,
      "rowLimit": 10000
     },
     "inputWidgets": {},
     "nuid": "57a79cba-9b06-4302-8b44-06995a26eed2",
     "showTitle": false,
     "tableResultSettingsMap": {},
     "title": ""
    }
   },
   "outputs": [],
   "source": [
    "%sql\n",
    "\n",
    "-- Number of new born babies recorded with antenatal care appointments\n",
    "\n",
    "SELECT COUNT(DISTINCT a.PERSON_ID)\n",
    "FROM 4_prod.raw.mill_sch_appt AS a\n",
    "INNER JOIN 4_prod.raw.mill_sch_event AS e\n",
    "ON a.SCH_EVENT_ID = e.SCH_EVENT_ID\n",
    "INNER JOIN 4_prod.raw.mill_person AS p\n",
    "ON a.PERSON_ID = p.PERSON_ID\n",
    "WHERE \n",
    "  APPT_SYNONYM_FREE ILIKE '%antenatal%'\n",
    "  AND BEG_DT_TM BETWEEN '2019-12-01' AND '2024-12-31'\n",
    "  AND DATEDIFF(DAY, BIRTH_DT_TM, BEG_DT_TM) <= 28\n",
    "  LIMIT 100"
   ]
  },
  {
   "cell_type": "code",
   "execution_count": 0,
   "metadata": {
    "application/vnd.databricks.v1+cell": {
     "cellMetadata": {
      "byteLimit": 2048000,
      "implicitDf": true,
      "rowLimit": 10000
     },
     "inputWidgets": {},
     "nuid": "c976c645-46cc-4f75-ac00-94be282c52fb",
     "showTitle": false,
     "tableResultSettingsMap": {},
     "title": ""
    }
   },
   "outputs": [],
   "source": [
    "%sql\n",
    "/* \n",
    "Number of distinct patients who are\n",
    "  -- female\n",
    "  -- age 18+\n",
    "  -- received antenatal care between 2019-12-01 and 2024-12-31\n",
    "  -- recorded with 1+ clinical event with CMV-related EVENT_CD in the same period\n",
    "  -- person_id linked to at least 1 RDE blobdataset in the same period\n",
    "*/\n",
    "WITH ante AS (\n",
    "  SELECT DISTINCT a.PERSON_ID\n",
    "  FROM 4_prod.raw.mill_sch_appt AS a\n",
    "  INNER JOIN 4_prod.raw.mill_sch_event AS e\n",
    "  ON a.SCH_EVENT_ID = e.SCH_EVENT_ID\n",
    "  INNER JOIN 4_prod.raw.mill_person AS p\n",
    "  ON a.PERSON_ID = p.PERSON_ID\n",
    "  WHERE \n",
    "    APPT_SYNONYM_FREE ILIKE '%antenatal%'\n",
    "    AND BEG_DT_TM BETWEEN '2019-12-01' AND '2024-12-31'\n",
    "    AND DATEDIFF(YEAR, BIRTH_DT_TM, BEG_DT_TM) >= 18\n",
    "),\n",
    "cmv_ce AS (\n",
    "  SELECT ce.PERSON_ID\n",
    "  FROM 4_prod.raw.mill_clinical_event AS ce\n",
    "  INNER JOIN 3_lookup.mill.mill_code_value AS cv\n",
    "  ON ce.EVENT_CD = cv.CODE_VALUE\n",
    "  INNER JOIN ante\n",
    "  ON ce.PERSON_ID = ante.PERSON_ID\n",
    "  WHERE\n",
    "    (cv.DESCRIPTION LIKE '%CMV%' OR cv.DESCRIPTION ILIKE '%Cytomegalovirus%')\n",
    "    AND COALESCE(EVENT_START_DT_TM, EVENT_END_DT_TM, ce.VALID_FROM_DT_TM) BETWEEN '2019-12-01' AND '2024-12-31'\n",
    ")\n",
    "SELECT COUNT(DISTINCT bc.PERSON_ID), COUNT(DISTINCT bc.EVENTID)\n",
    "FROM (SELECT * FROM 4_prod.rde.rde_blobdataset TIMESTAMP AS OF '2025-08-26') AS bc\n",
    "INNER JOIN cmv_ce\n",
    "ON bc.PERSON_ID = cmv_ce.PERSON_ID\n",
    "INNER JOIN 4_prod.raw.mill_clinical_event AS ce\n",
    "ON ce.EVENT_ID = bc.EVENTID \n",
    "WHERE \n",
    "  (blobcontents LIKE '%CMV%' OR blobcontents ILIKE '%Cytomegalovirus%')\n",
    "  AND COALESCE(EVENT_START_DT_TM, EVENT_END_DT_TM, VALID_FROM_DT_TM) BETWEEN '2019-12-01' AND '2024-12-31'\n",
    "LIMIT 100\n",
    "\n"
   ]
  },
  {
   "cell_type": "code",
   "execution_count": 0,
   "metadata": {
    "application/vnd.databricks.v1+cell": {
     "cellMetadata": {
      "byteLimit": 2048000,
      "implicitDf": true,
      "rowLimit": 10000
     },
     "inputWidgets": {},
     "nuid": "19c5509f-5fc8-43be-9003-07a2ac785795",
     "showTitle": false,
     "tableResultSettingsMap": {},
     "title": ""
    }
   },
   "outputs": [],
   "source": [
    "%sql\n",
    "/* \n",
    "Number of distinct patients who are\n",
    "  -- female\n",
    "  -- age 18+\n",
    "  -- received antenatal care between 2019-12-01 and 2024-12-31\n",
    "  -- [removed] recorded with 1+ clinical event with CMV-related EVENT_CD in the same period\n",
    "  -- person_id linked to at least 1 RDE blobdataset in the same period\n",
    "*/\n",
    "WITH ante AS (\n",
    "  SELECT DISTINCT a.PERSON_ID\n",
    "  FROM 4_prod.raw.mill_sch_appt AS a\n",
    "  INNER JOIN 4_prod.raw.mill_sch_event AS e\n",
    "  ON a.SCH_EVENT_ID = e.SCH_EVENT_ID\n",
    "  INNER JOIN 4_prod.raw.mill_person AS p\n",
    "  ON a.PERSON_ID = p.PERSON_ID\n",
    "  WHERE \n",
    "    APPT_SYNONYM_FREE ILIKE '%antenatal%'\n",
    "    AND BEG_DT_TM BETWEEN '2019-12-01' AND '2024-12-31'\n",
    "    AND DATEDIFF(YEAR, BIRTH_DT_TM, BEG_DT_TM) >= 18\n",
    "),\n",
    "cmv_ce AS (\n",
    "  SELECT ce.PERSON_ID\n",
    "  FROM 4_prod.raw.mill_clinical_event AS ce\n",
    "  INNER JOIN 3_lookup.mill.mill_code_value AS cv\n",
    "  ON ce.EVENT_CD = cv.CODE_VALUE\n",
    "  INNER JOIN ante\n",
    "  ON ce.PERSON_ID = ante.PERSON_ID\n",
    "  WHERE\n",
    "    (cv.DESCRIPTION LIKE '%CMV%' OR cv.DESCRIPTION ILIKE '%Cytomegalovirus%')\n",
    "    AND COALESCE(EVENT_START_DT_TM, EVENT_END_DT_TM, ce.VALID_FROM_DT_TM) BETWEEN '2019-12-01' AND '2024-12-31'\n",
    ")\n",
    "SELECT COUNT(DISTINCT bc.PERSON_ID), COUNT(DISTINCT bc.EVENTID)\n",
    "FROM 4_prod.rde.rde_blobdataset AS bc\n",
    "--INNER JOIN cmv_ce\n",
    "--ON bc.PERSON_ID = cmv_ce.PERSON_ID\n",
    "INNER JOIN 4_prod.raw.mill_clinical_event AS ce\n",
    "ON ce.EVENT_ID = bc.EVENTID \n",
    "WHERE \n",
    "  (blobcontents LIKE '%CMV%' OR blobcontents ILIKE '%Cytomegalovirus%')\n",
    "  AND COALESCE(EVENT_START_DT_TM, EVENT_END_DT_TM, VALID_FROM_DT_TM) BETWEEN '2019-12-01' AND '2024-12-31'\n",
    "LIMIT 100\n",
    "\n"
   ]
  },
  {
   "cell_type": "code",
   "execution_count": 0,
   "metadata": {
    "application/vnd.databricks.v1+cell": {
     "cellMetadata": {
      "byteLimit": 2048000,
      "implicitDf": true,
      "rowLimit": 10000
     },
     "inputWidgets": {},
     "nuid": "741cf6c7-f3a0-431d-9d90-71153183b91a",
     "showTitle": false,
     "tableResultSettingsMap": {},
     "title": ""
    }
   },
   "outputs": [],
   "source": [
    "%sql\n",
    "\n",
    "-- Number of adult women who were recorded at least one clinical event with EVENT_CD related to CMV regardless of attending any antenatal appointment\n",
    "SELECT COUNT(DISTINCT ce.PERSON_ID)\n",
    "FROM 4_prod.raw.mill_clinical_event AS ce\n",
    "INNER JOIN 4_prod.raw.mill_person AS p\n",
    "ON ce.PERSON_ID = p.PERSON_ID\n",
    "INNER JOIN 3_lookup.mill.mill_code_value AS cv\n",
    "ON ce.EVENT_CD = cv.CODE_VALUE\n",
    "WHERE \n",
    "  cv.DESCRIPTION LIKE '%CMV%'\n",
    "  AND SEX_CD = 362 -- female\n",
    "  AND DATEDIFF(YEAR, BIRTH_DT_TM, EVENT_START_DT_TM) >= 18\n",
    "  AND COALESCE(EVENT_END_DT_TM, EVENT_START_DT_TM, ce.VALID_FROM_DT_TM) BETWEEN '2019-12-01' AND '2024-12-31'"
   ]
  },
  {
   "cell_type": "code",
   "execution_count": 0,
   "metadata": {
    "application/vnd.databricks.v1+cell": {
     "cellMetadata": {},
     "inputWidgets": {},
     "nuid": "73c8f60c-e444-4a39-af89-28aa24f2654e",
     "showTitle": false,
     "tableResultSettingsMap": {},
     "title": ""
    }
   },
   "outputs": [],
   "source": []
  },
  {
   "cell_type": "code",
   "execution_count": 0,
   "metadata": {
    "application/vnd.databricks.v1+cell": {
     "cellMetadata": {
      "byteLimit": 2048000,
      "implicitDf": true,
      "rowLimit": 10000
     },
     "inputWidgets": {},
     "nuid": "6a6aa216-9cdf-43dd-aed2-35b537968af7",
     "showTitle": false,
     "tableResultSettingsMap": {
      "0": {
       "dataGridStateBlob": "{\"version\":1,\"tableState\":{\"columnPinning\":{\"left\":[\"#row_number#\"],\"right\":[]},\"columnSizing\":{},\"columnVisibility\":{}},\"settings\":{\"columns\":{}},\"syncTimestamp\":1754666813601}",
       "filterBlob": null,
       "queryPlanFiltersBlob": null,
       "tableResultIndex": 0
      }
     },
     "title": ""
    }
   },
   "outputs": [],
   "source": [
    "%sql\n",
    "\n",
    "WITH cohort AS (\n",
    "  SELECT DISTINCT a.PERSON_ID FROM 4_prod.raw.mill_sch_appt AS a\n",
    "  INNER JOIN 4_prod.raw.mill_sch_event AS e\n",
    "  ON a.SCH_EVENT_ID = e.SCH_EVENT_ID\n",
    "  INNER JOIN 4_prod.raw.mill_person AS p\n",
    "  ON a.PERSON_ID = p.PERSON_ID\n",
    "  WHERE \n",
    "    APPT_SYNONYM_FREE ILIKE '%antenatal%'\n",
    "    AND BEG_DT_TM BETWEEN '2019-12-01' AND '2024-12-31'\n",
    "    AND BIRTH_DT_TM < '2001-12-01'\n",
    "),\n",
    "ce AS (\n",
    "  SELECT EVENT_ID, MAX(PERSON_ID) AS PERSON_ID\n",
    "  FROM 4_prod.raw.mill_clinical_event\n",
    "  GROUP BY EVENT_ID\n",
    ")\n",
    "SELECT b.* \n",
    "FROM 4_prod.raw.pi_cde_blob_content AS b\n",
    "INNER JOIN ce\n",
    "ON ce.EVENT_ID = b.EVENT_ID\n",
    "INNER JOIN cohort\n",
    "ON cohort.PERSON_ID = ce.PERSON_ID\n",
    "WHERE BLOB_CONTENTS LIKE '%CMV%'\n",
    "\n",
    "LIMIT 100\n"
   ]
  },
  {
   "cell_type": "code",
   "execution_count": 0,
   "metadata": {
    "application/vnd.databricks.v1+cell": {
     "cellMetadata": {
      "byteLimit": 2048000,
      "implicitDf": true,
      "rowLimit": 10000
     },
     "inputWidgets": {},
     "nuid": "4f89d2ab-6bcb-4e64-b3d6-1e92b4fabc49",
     "showTitle": false,
     "tableResultSettingsMap": {},
     "title": ""
    }
   },
   "outputs": [],
   "source": [
    "%sql\n",
    "\n",
    "SELECT COUNT(DISTINCT p.PERSON_ID)\n",
    "FROM 4_prod.raw.mill_clinical_event AS e\n",
    "INNER JOIN 4_prod.raw.mill_person AS p\n",
    "ON e.PERSON_ID = p.PERSON_ID\n",
    "WHERE \n",
    "  EVENT_TITLE_TEXT LIKE '%CMV%'\n",
    "  AND DATEDIFF(DAY, p.BIRTH_DT_TM, e.EVENT_START_DT_TM) <= 28 \n",
    "\n",
    "LIMIT 100\n"
   ]
  },
  {
   "cell_type": "code",
   "execution_count": 0,
   "metadata": {
    "application/vnd.databricks.v1+cell": {
     "cellMetadata": {
      "byteLimit": 2048000,
      "implicitDf": true,
      "rowLimit": 10000
     },
     "inputWidgets": {},
     "nuid": "5f7b4b4c-ce3d-491f-9da9-787b6a8ba21b",
     "showTitle": false,
     "tableResultSettingsMap": {},
     "title": ""
    }
   },
   "outputs": [],
   "source": [
    "%sql\n",
    "/* \n",
    "Number of distinct patients who are\n",
    "  -- new born <= 28 days\n",
    "  -- recorded with 1+ clinical event with CMV-related EVENT_CD in the same period\n",
    "  -- person_id linked to at least 1 RDE blobdataset in the same period\n",
    "*/\n",
    "WITH cmv_ce AS (\n",
    "  SELECT ce.PERSON_ID\n",
    "  FROM 4_prod.raw.mill_clinical_event AS ce\n",
    "  INNER JOIN 3_lookup.mill.mill_code_value AS cv\n",
    "  ON ce.EVENT_CD = cv.CODE_VALUE\n",
    "  INNER JOIN 4_prod.raw.mill_person AS p\n",
    "  ON p.PERSON_ID = ce.PERSON_ID\n",
    "  WHERE\n",
    "    cv.DESCRIPTION LIKE '%CMV%'\n",
    "    AND DATEDIFF(DAY, p.BIRTH_DT_TM, COALESCE(EVENT_START_DT_TM, EVENT_END_DT_TM, ce.VALID_FROM_DT_TM)) <= 28 \n",
    "    AND COALESCE(EVENT_START_DT_TM, EVENT_END_DT_TM, ce.VALID_FROM_DT_TM) BETWEEN '2019-12-01' AND '2024-12-31'\n",
    ")\n",
    "SELECT COUNT(DISTINCT bc.PERSON_ID), COUNT(DISTINCT bc.EVENTID)\n",
    "FROM 4_prod.rde.rde_blobdataset AS bc\n",
    "INNER JOIN cmv_ce\n",
    "ON bc.PERSON_ID = cmv_ce.PERSON_ID\n",
    "INNER JOIN 4_prod.raw.mill_clinical_event AS ce\n",
    "ON ce.EVENT_ID = bc.EVENTID \n",
    "WHERE \n",
    "  (blobcontents LIKE '%CMV%' OR blobcontents ILIKE '%Cytomegalovirus%')\n",
    "  AND COALESCE(EVENT_START_DT_TM, EVENT_END_DT_TM, VALID_FROM_DT_TM) BETWEEN '2019-12-01' AND '2024-12-31'\n",
    "LIMIT 100\n",
    "\n"
   ]
  },
  {
   "cell_type": "code",
   "execution_count": 0,
   "metadata": {
    "application/vnd.databricks.v1+cell": {
     "cellMetadata": {
      "byteLimit": 2048000,
      "implicitDf": true,
      "rowLimit": 10000
     },
     "inputWidgets": {},
     "nuid": "e6a961be-d74d-41b6-a4c3-ddfc6ac93012",
     "showTitle": false,
     "tableResultSettingsMap": {
      "0": {
       "dataGridStateBlob": "{\"version\":1,\"tableState\":{\"columnPinning\":{\"left\":[\"#row_number#\"],\"right\":[]},\"columnSizing\":{},\"columnVisibility\":{}},\"settings\":{\"columns\":{}},\"syncTimestamp\":1755164688328}",
       "filterBlob": null,
       "queryPlanFiltersBlob": null,
       "tableResultIndex": 0
      }
     },
     "title": ""
    }
   },
   "outputs": [],
   "source": [
    "%sql\n",
    "\n",
    "/* \n",
    "Number of distinct new born patients\n",
    "  -- who are 28 days or less when a CMV clinical event happened \n",
    "  -- at least 1 CMV-related clinical event happened between 2019-12-01 and 2024-12-31\n",
    "  -- whose mothers are\n",
    "        -- recorded as Mother in Mill_PERSON_PERSON_RELTN\n",
    "        -- age 18+\n",
    "        -- received antenatal care between 2019-12-01 and 2024-12-31\n",
    "        -- recorded with at least 1 clinical event related to CMV in the same period\n",
    "        -- person_id linked to at least 1 RDE blobdataset in the same period\n",
    "*/\n",
    "WITH ante AS (\n",
    "  SELECT DISTINCT a.PERSON_ID\n",
    "  FROM 4_prod.raw.mill_sch_appt AS a\n",
    "  INNER JOIN 4_prod.raw.mill_sch_event AS e\n",
    "  ON a.SCH_EVENT_ID = e.SCH_EVENT_ID\n",
    "  INNER JOIN 4_prod.raw.mill_person AS p\n",
    "  ON a.PERSON_ID = p.PERSON_ID\n",
    "  WHERE \n",
    "    APPT_SYNONYM_FREE ILIKE '%antenatal%'\n",
    "    AND BEG_DT_TM BETWEEN '2019-12-01' AND '2024-12-31'\n",
    "    AND DATEDIFF(YEAR, BIRTH_DT_TM, BEG_DT_TM) >= 18\n",
    "),\n",
    "cmv_ce AS (\n",
    "  SELECT ce.PERSON_ID\n",
    "  FROM 4_prod.raw.mill_clinical_event AS ce\n",
    "  INNER JOIN 3_lookup.mill.mill_code_value AS cv\n",
    "  ON ce.EVENT_CD = cv.CODE_VALUE\n",
    "  INNER JOIN ante\n",
    "  ON ce.PERSON_ID = ante.PERSON_ID\n",
    "  WHERE\n",
    "    (cv.DESCRIPTION LIKE '%CMV%' OR cv.DESCRIPTION ILIKE '%Cytomegalovirus%')\n",
    "    AND COALESCE(EVENT_START_DT_TM, EVENT_END_DT_TM, ce.VALID_FROM_DT_TM) BETWEEN '2019-12-01' AND '2024-12-31'\n",
    "),\n",
    "cmv_mother AS (\n",
    "SELECT DISTINCT bc.PERSON_ID\n",
    "FROM 4_prod.rde.rde_blobdataset AS bc\n",
    "INNER JOIN cmv_ce\n",
    "ON bc.PERSON_ID = cmv_ce.PERSON_ID\n",
    "INNER JOIN 4_prod.raw.mill_clinical_event AS ce\n",
    "ON ce.EVENT_ID = bc.EVENTID \n",
    "WHERE \n",
    "  (blobcontents LIKE '%CMV%' OR blobcontents ILIKE '%Cytomegalovirus%')\n",
    "  AND COALESCE(EVENT_START_DT_TM, EVENT_END_DT_TM, VALID_FROM_DT_TM) BETWEEN '2019-12-01' AND '2024-12-31'\n",
    "),\n",
    "cmv_child AS (\n",
    "SELECT DISTINCT ce.PERSON_ID\n",
    "FROM 4_prod.raw.mill_clinical_event AS ce\n",
    "INNER JOIN 3_lookup.mill.mill_code_value AS cv\n",
    "ON ce.EVENT_CD = cv.CODE_VALUE\n",
    "INNER JOIN 4_prod.raw.mill_person AS p\n",
    "ON p.PERSON_ID = ce.PERSON_ID\n",
    "WHERE\n",
    "  cv.DESCRIPTION LIKE '%CMV%'\n",
    "  AND DATEDIFF(DAY, p.BIRTH_DT_TM, COALESCE(EVENT_START_DT_TM, EVENT_END_DT_TM, ce.VALID_FROM_DT_TM)) <= 28 \n",
    "  AND COALESCE(EVENT_START_DT_TM, EVENT_END_DT_TM, ce.VALID_FROM_DT_TM) BETWEEN '2019-12-01' AND '2024-12-31'\n",
    ")\n",
    "SELECT COUNT(DISTINCT r.PERSON_ID)  \n",
    "FROM 4_prod.raw.mill_person_person_reltn AS r\n",
    "LEFT JOIN 3_lookup.mill.mill_code_value AS cd\n",
    "ON r.PERSON_RELTN_CD = cd.CODE_VALUE\n",
    "INNER JOIN cmv_child\n",
    "ON cmv_child.PERSON_ID = r.PERSON_ID\n",
    "INNER JOIN cmv_mother\n",
    "ON r.RELATED_PERSON_ID = cmv_mother.PERSON_ID\n",
    "WHERE\n",
    "  DESCRIPTION = 'Mother' -- mother-child relation"
   ]
  },
  {
   "cell_type": "code",
   "execution_count": 0,
   "metadata": {
    "application/vnd.databricks.v1+cell": {
     "cellMetadata": {},
     "inputWidgets": {},
     "nuid": "8984e5ea-75bb-4059-9f6e-535550374c6c",
     "showTitle": false,
     "tableResultSettingsMap": {},
     "title": ""
    }
   },
   "outputs": [],
   "source": []
  },
  {
   "cell_type": "code",
   "execution_count": 0,
   "metadata": {
    "application/vnd.databricks.v1+cell": {
     "cellMetadata": {
      "byteLimit": 2048000,
      "implicitDf": true,
      "rowLimit": 10000
     },
     "inputWidgets": {},
     "nuid": "19a65fd4-7c4f-4abb-8f2a-43214a188895",
     "showTitle": false,
     "tableResultSettingsMap": {},
     "title": ""
    }
   },
   "outputs": [],
   "source": [
    "%sql\n",
    "\n",
    "SELECT * FROM 4_prod.raw.mill_person WHERE PERSON_ID = 54118028"
   ]
  },
  {
   "cell_type": "code",
   "execution_count": 0,
   "metadata": {
    "application/vnd.databricks.v1+cell": {
     "cellMetadata": {
      "byteLimit": 2048000,
      "implicitDf": true,
      "rowLimit": 10000
     },
     "inputWidgets": {},
     "nuid": "c2d824ed-6dd1-4847-831a-5f87f91f6a88",
     "showTitle": false,
     "tableResultSettingsMap": {},
     "title": ""
    }
   },
   "outputs": [],
   "source": [
    "%sql\n",
    "\n",
    "SELECT * FROM 4_prod.raw.mill_person\n",
    "WHERE BIRTH_DT_TM > '2025-07-01'\n",
    "LIMIT 10"
   ]
  },
  {
   "cell_type": "code",
   "execution_count": 0,
   "metadata": {
    "application/vnd.databricks.v1+cell": {
     "cellMetadata": {
      "byteLimit": 2048000,
      "implicitDf": true,
      "rowLimit": 10000
     },
     "inputWidgets": {},
     "nuid": "bdcc8f00-4caf-48d6-9f12-1b3e2eb10c62",
     "showTitle": false,
     "tableResultSettingsMap": {},
     "title": ""
    }
   },
   "outputs": [],
   "source": [
    "%sql\n",
    "\n",
    "SELECT * FROM 4_prod.raw.mill_clinical_event\n",
    "WHERE EVENT_TITLE_TEXT LIKE '%CMV%'\n",
    "LIMIT 1000"
   ]
  },
  {
   "cell_type": "code",
   "execution_count": 0,
   "metadata": {
    "application/vnd.databricks.v1+cell": {
     "cellMetadata": {
      "byteLimit": 2048000,
      "implicitDf": true,
      "rowLimit": 10000
     },
     "inputWidgets": {},
     "nuid": "a1dba37a-27ea-4c6a-b27d-fc07d47f0efc",
     "showTitle": false,
     "tableResultSettingsMap": {},
     "title": ""
    }
   },
   "outputs": [],
   "source": [
    "%sql\n",
    "\n",
    "SELECT DISTINCT TFCCode, TFCDesc_Full\n",
    "FROM 4_prod.raw.path_master_resultable\n",
    "WHERE TFCDesc_Full ILIKE '%CMV%'\n",
    "-- OR TFCDesc_Full ILIKE '%Cytomegalovirus%' -- No result with full name"
   ]
  },
  {
   "cell_type": "code",
   "execution_count": 0,
   "metadata": {
    "application/vnd.databricks.v1+cell": {
     "cellMetadata": {
      "byteLimit": 2048000,
      "implicitDf": true,
      "rowLimit": 10000
     },
     "inputWidgets": {},
     "nuid": "ace98907-d68f-454b-8a55-b1047c50f651",
     "showTitle": false,
     "tableResultSettingsMap": {
      "0": {
       "dataGridStateBlob": "{\"version\":1,\"tableState\":{\"columnPinning\":{\"left\":[\"#row_number#\"],\"right\":[]},\"columnSizing\":{},\"columnVisibility\":{}},\"settings\":{\"columns\":{}},\"syncTimestamp\":1757069362407}",
       "filterBlob": null,
       "queryPlanFiltersBlob": null,
       "tableResultIndex": 0
      }
     },
     "title": ""
    }
   },
   "outputs": [],
   "source": [
    "%sql\n",
    "WITH tfc AS (\n",
    "  SELECT DISTINCT TFCCode\n",
    "  FROM 4_prod.raw.path_master_resultable\n",
    "  WHERE TFCDesc_Full ILIKE '%CMV%'\n",
    ")\n",
    "SELECT *\n",
    "FROM 4_prod.raw.path_patient_resultlevel AS r\n",
    "INNER JOIN tfc\n",
    "ON r.TFCCode = tfc.TFCCode\n"
   ]
  },
  {
   "cell_type": "code",
   "execution_count": 0,
   "metadata": {
    "application/vnd.databricks.v1+cell": {
     "cellMetadata": {
      "byteLimit": 2048000,
      "implicitDf": true,
      "rowLimit": 10000
     },
     "inputWidgets": {},
     "nuid": "91a2577f-596a-4917-be6e-c54303f066f8",
     "showTitle": false,
     "tableResultSettingsMap": {
      "0": {
       "dataGridStateBlob": "{\"version\":1,\"tableState\":{\"columnPinning\":{\"left\":[\"#row_number#\"],\"right\":[]},\"columnSizing\":{},\"columnVisibility\":{}},\"settings\":{\"columns\":{}},\"syncTimestamp\":1757077746677}",
       "filterBlob": null,
       "queryPlanFiltersBlob": null,
       "tableResultIndex": 0
      }
     },
     "title": ""
    }
   },
   "outputs": [],
   "source": [
    "%sql\n",
    "-- These are probably the composite keys\n",
    "SELECT LIMSNo, LabNo, LegWkgCode, COUNT(*)\n",
    "FROM 4_prod.raw.path_patient_samplelevel\n",
    "GROUP BY LIMSNo, LabNo, LegWkgCode\n",
    "HAVING COUNT(*) > 1\n"
   ]
  },
  {
   "cell_type": "code",
   "execution_count": 0,
   "metadata": {
    "application/vnd.databricks.v1+cell": {
     "cellMetadata": {
      "byteLimit": 2048000,
      "implicitDf": true,
      "rowLimit": 10000
     },
     "inputWidgets": {},
     "nuid": "009bac4b-3cfc-40f7-b7aa-c0cd9c08fd81",
     "showTitle": false,
     "tableResultSettingsMap": {},
     "title": ""
    }
   },
   "outputs": [],
   "source": [
    "%sql\n",
    "SELECT *\n",
    "FROM 4_prod.raw.path_patient_samplelevel"
   ]
  },
  {
   "cell_type": "code",
   "execution_count": 0,
   "metadata": {
    "application/vnd.databricks.v1+cell": {
     "cellMetadata": {
      "byteLimit": 2048000,
      "implicitDf": true,
      "rowLimit": 10000
     },
     "inputWidgets": {},
     "nuid": "72f7cab6-b4b1-4445-90a3-d388cbd6797a",
     "showTitle": false,
     "tableResultSettingsMap": {
      "0": {
       "dataGridStateBlob": "{\"version\":1,\"tableState\":{\"columnPinning\":{\"left\":[\"#row_number#\"],\"right\":[]},\"columnSizing\":{},\"columnVisibility\":{}},\"settings\":{\"columns\":{}},\"syncTimestamp\":1757080397024}",
       "filterBlob": null,
       "queryPlanFiltersBlob": null,
       "tableResultIndex": 0
      }
     },
     "title": ""
    }
   },
   "outputs": [],
   "source": [
    "%sql\n",
    "\n",
    "WITH ante AS (\n",
    "  SELECT DISTINCT a.PERSON_ID\n",
    "  FROM 4_prod.raw.mill_sch_appt AS a\n",
    "  INNER JOIN 4_prod.raw.mill_sch_event AS e\n",
    "  ON a.SCH_EVENT_ID = e.SCH_EVENT_ID\n",
    "  INNER JOIN 4_prod.raw.mill_person AS p\n",
    "  ON a.PERSON_ID = p.PERSON_ID\n",
    "  WHERE \n",
    "    APPT_SYNONYM_FREE ILIKE '%antenatal%'\n",
    "    AND BEG_DT_TM BETWEEN '2019-12-01' AND '2024-12-31'\n",
    "    AND DATEDIFF(YEAR, BIRTH_DT_TM, BEG_DT_TM) >= 18\n",
    "),\n",
    "ce AS (\n",
    "  SELECT EVENT_ID, MAX(PERSON_ID) AS PERSON_ID\n",
    "  FROM 4_prod.raw.mill_clinical_event\n",
    "  WHERE COALESCE(EVENT_START_DT_TM, EVENT_END_DT_TM) BETWEEN '2019-12-01' AND '2024-12-31'\n",
    "  GROUP BY EVENT_ID\n",
    "),\n",
    "b AS (\n",
    "  SELECT bc.EVENT_ID, BLOB_CONTENTS, CE_BLOB_CONTENT_ID, ante.PERSON_ID\n",
    "  FROM 4_prod.raw.pi_cde_blob_content AS bc\n",
    "  INNER JOIN ce\n",
    "  ON bc.EVENT_ID = ce.EVENT_ID\n",
    "  INNER JOIN ante\n",
    "  ON ante.PERSON_ID = ce.PERSON_ID\n",
    "  WHERE BLOB_CONTENTS ILIKE '%CMV%' OR BLOB_CONTENTS ILIKE '%Cytomegalovirus%'\n",
    "),\n",
    "tfc AS (\n",
    "  SELECT DISTINCT TFCCode\n",
    "  FROM 4_prod.raw.path_master_resultable\n",
    "  WHERE TFCDesc_Full ILIKE '%CMV%'\n",
    "),\n",
    "mrn AS (\n",
    "    SELECT\n",
    "        MAX(PERSON_ID) AS person_id,\n",
    "        ALIAS AS MRN\n",
    "    FROM 4_prod.raw.MILL_PERSON_ALIAS \n",
    "    WHERE PERSON_ALIAS_TYPE_CD = 10 -- MRN\n",
    "    GROUP BY ALIAS\n",
    "),\n",
    "nhs AS (\n",
    "    SELECT\n",
    "      MAX(PERSON_ID) AS person_id,\n",
    "      ALIAS AS nhs_nbr\n",
    "    FROM 4_prod.rde.patient_nhs\n",
    "    GROUP BY ALIAS\n",
    "),\n",
    "sam AS (\n",
    "  SELECT LIMSNo, LabNo, LegWkgCode, COALESCE(mrn.person_id, nhs.person_id) AS PERSON_ID\n",
    "  FROM 4_prod.raw.path_patient_samplelevel AS s\n",
    "  LEFT JOIN mrn\n",
    "  ON s.MRN = mrn.MRN\n",
    "  LEFT JOIN nhs\n",
    "  ON s.NHSNo = nhs.nhs_nbr\n",
    "  WHERE RequestDate BETWEEN '2023-12-01' AND '2024-12-31'\n",
    "),\n",
    "result AS (\n",
    "  SELECT r.*, sam.PERSON_ID\n",
    "  FROM 4_prod.raw.path_patient_resultlevel AS r\n",
    "  INNER JOIN tfc\n",
    "  ON r.TFCCode = tfc.TFCCode\n",
    "  INNER JOIN sam\n",
    "  ON sam.LIMSNo = r.LIMSNo AND sam.LabNo = r.LabNo AND sam.LegWkgCode = r.LegWkgCode\n",
    "  INNER JOIN b\n",
    "  ON sam.PERSON_ID = b.PERSON_ID\n",
    ")\n",
    "SELECT PERSON_ID, COUNT(*)\n",
    "FROM result\n",
    "GROUP BY PERSON_ID\n"
   ]
  }
 ],
 "metadata": {
  "application/vnd.databricks.v1+notebook": {
   "computePreferences": {
    "hardware": {
     "accelerator": null,
     "gpuPoolId": null,
     "memory": null
    }
   },
   "dashboards": [],
   "environmentMetadata": {
    "base_environment": "",
    "environment_version": "2"
   },
   "inputWidgetPreferences": null,
   "language": "python",
   "notebookMetadata": {
    "mostRecentlyExecutedCommandWithImplicitDF": {
     "commandId": 5534896247999982,
     "dataframes": [
      "_sqldf"
     ]
    },
    "pythonIndentUnit": 4
   },
   "notebookName": "DAR045_V2",
   "widgets": {}
  },
  "language_info": {
   "name": "python"
  }
 },
 "nbformat": 4,
 "nbformat_minor": 0
}
