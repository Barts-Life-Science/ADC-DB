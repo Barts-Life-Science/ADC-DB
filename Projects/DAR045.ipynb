{
 "cells": [
  {
   "cell_type": "code",
   "execution_count": 0,
   "metadata": {
    "application/vnd.databricks.v1+cell": {
     "cellMetadata": {
      "byteLimit": 2048000,
      "implicitDf": true,
      "rowLimit": 10000
     },
     "inputWidgets": {},
     "nuid": "e5a4fa89-7f3e-4cc6-99ba-b10a57cf1d10",
     "showTitle": false,
     "tableResultSettingsMap": {},
     "title": ""
    }
   },
   "outputs": [],
   "source": [
    "%sql\n",
    "\n",
    "SELECT DISTINCT SLOT_MNEMONIC FROM 4_prod.raw.mill_sch_appt\n",
    "WHERE SLOT_MNEMONIC ILIKE '%antenatal%'\n",
    "LIMIT 100"
   ]
  },
  {
   "cell_type": "code",
   "execution_count": 0,
   "metadata": {
    "application/vnd.databricks.v1+cell": {
     "cellMetadata": {
      "byteLimit": 2048000,
      "implicitDf": true,
      "rowLimit": 10000
     },
     "inputWidgets": {},
     "nuid": "d5a596c2-8ed5-4ef0-8b8c-beb809acb7bc",
     "showTitle": false,
     "tableResultSettingsMap": {},
     "title": ""
    }
   },
   "outputs": [],
   "source": [
    "%sql\n",
    "\n",
    "SELECT * FROM 3_lookup.mill.mill_code_value\n",
    "WHERE DESCRIPTION LIKE '%CMV%'"
   ]
  },
  {
   "cell_type": "code",
   "execution_count": 0,
   "metadata": {
    "application/vnd.databricks.v1+cell": {
     "cellMetadata": {
      "byteLimit": 2048000,
      "implicitDf": true,
      "rowLimit": 10000
     },
     "inputWidgets": {},
     "nuid": "755388b6-2434-4320-a2b3-1a56e7b64745",
     "showTitle": false,
     "tableResultSettingsMap": {
      "0": {
       "dataGridStateBlob": "{\"version\":1,\"tableState\":{\"columnPinning\":{\"left\":[\"#row_number#\"],\"right\":[]},\"columnSizing\":{},\"columnVisibility\":{}},\"settings\":{\"columns\":{}},\"syncTimestamp\":1754663720134}",
       "filterBlob": null,
       "queryPlanFiltersBlob": null,
       "tableResultIndex": 0
      }
     },
     "title": ""
    }
   },
   "outputs": [],
   "source": [
    "%sql\n",
    "-- Number of all adult women who received antenatal care between 2019-12-01 and 2024-12-31 \n",
    "SELECT COUNT(DISTINCT a.PERSON_ID)\n",
    "FROM 4_prod.raw.mill_sch_appt AS a\n",
    "INNER JOIN 4_prod.raw.mill_sch_event AS e\n",
    "ON a.SCH_EVENT_ID = e.SCH_EVENT_ID\n",
    "INNER JOIN 4_prod.raw.mill_person AS p\n",
    "ON a.PERSON_ID = p.PERSON_ID\n",
    "WHERE \n",
    "  APPT_SYNONYM_FREE ILIKE '%antenatal%'\n",
    "  AND BEG_DT_TM BETWEEN '2019-12-01' AND '2024-12-31'\n",
    "  AND DATEDIFF(YEAR, BIRTH_DT_TM, BEG_DT_TM) >= 18\n",
    "LIMIT 100"
   ]
  },
  {
   "cell_type": "code",
   "execution_count": 0,
   "metadata": {
    "application/vnd.databricks.v1+cell": {
     "cellMetadata": {
      "byteLimit": 2048000,
      "implicitDf": true,
      "rowLimit": 10000
     },
     "inputWidgets": {},
     "nuid": "190c262e-ada1-4e24-b3c7-1af8a32d390e",
     "showTitle": false,
     "tableResultSettingsMap": {
      "0": {
       "dataGridStateBlob": "{\"version\":1,\"tableState\":{\"columnPinning\":{\"left\":[\"#row_number#\"],\"right\":[]},\"columnSizing\":{},\"columnVisibility\":{}},\"settings\":{\"columns\":{}},\"syncTimestamp\":1754919817403}",
       "filterBlob": null,
       "queryPlanFiltersBlob": null,
       "tableResultIndex": 0
      }
     },
     "title": ""
    }
   },
   "outputs": [],
   "source": [
    "%sql\n",
    "-- Number of adult women who received antenatal care between 2019-12-01 and 2024-12-31 and were recorded with at least one 'CMV' clinical event\n",
    "WITH ante AS (\n",
    "  SELECT DISTINCT a.PERSON_ID\n",
    "  FROM 4_prod.raw.mill_sch_appt AS a\n",
    "  INNER JOIN 4_prod.raw.mill_sch_event AS e\n",
    "  ON a.SCH_EVENT_ID = e.SCH_EVENT_ID\n",
    "  INNER JOIN 4_prod.raw.mill_person AS p\n",
    "  ON a.PERSON_ID = p.PERSON_ID\n",
    "  WHERE \n",
    "    APPT_SYNONYM_FREE ILIKE '%antenatal%'\n",
    "    AND BEG_DT_TM BETWEEN '2019-12-01' AND '2024-12-31'\n",
    "    AND DATEDIFF(YEAR, BIRTH_DT_TM, BEG_DT_TM) >= 18\n",
    ")\n",
    "SELECT COUNT(DISTINCT ce.PERSON_ID)\n",
    "FROM 4_prod.raw.mill_clinical_event AS ce\n",
    "INNER JOIN ante\n",
    "ON ce.PERSON_ID = ante.PERSON_ID\n",
    "WHERE\n",
    "  EVENT_TITLE_TEXT ILIKE '%CMV%'\n",
    "  --AND EVENT_START_DT_TM BETWEEN '2019-12-01' AND '2024-12-31' -- got 0 result\n"
   ]
  },
  {
   "cell_type": "code",
   "execution_count": 0,
   "metadata": {
    "application/vnd.databricks.v1+cell": {
     "cellMetadata": {
      "byteLimit": 2048000,
      "implicitDf": true,
      "rowLimit": 10000
     },
     "inputWidgets": {},
     "nuid": "0942257b-1d81-43ab-827d-bf2aa0b35132",
     "showTitle": false,
     "tableResultSettingsMap": {},
     "title": ""
    }
   },
   "outputs": [],
   "source": [
    "%sql\n",
    "-- Number of adult women who received antenatal care between 2019-12-01 and 2024-12-31 and were recorded with at least one clinical event with CMV-related EVENT_CD in the same period\n",
    "WITH ante AS (\n",
    "  SELECT DISTINCT a.PERSON_ID\n",
    "  FROM 4_prod.raw.mill_sch_appt AS a\n",
    "  INNER JOIN 4_prod.raw.mill_sch_event AS e\n",
    "  ON a.SCH_EVENT_ID = e.SCH_EVENT_ID\n",
    "  INNER JOIN 4_prod.raw.mill_person AS p\n",
    "  ON a.PERSON_ID = p.PERSON_ID\n",
    "  WHERE \n",
    "    APPT_SYNONYM_FREE ILIKE '%antenatal%'\n",
    "    AND BEG_DT_TM BETWEEN '2019-12-01' AND '2024-12-31'\n",
    "    AND DATEDIFF(YEAR, BIRTH_DT_TM, BEG_DT_TM) >= 18\n",
    ")\n",
    "SELECT COUNT(DISTINCT ce.PERSON_ID)\n",
    "FROM 4_prod.raw.mill_clinical_event AS ce\n",
    "INNER JOIN 3_lookup.mill.mill_code_value AS cv\n",
    "ON ce.EVENT_CD = cv.CODE_VALUE\n",
    "INNER JOIN ante\n",
    "ON ce.PERSON_ID = ante.PERSON_ID\n",
    "WHERE\n",
    "  cv.DESCRIPTION LIKE '%CMV%'\n",
    "  AND COALESCE(EVENT_START_DT_TM, EVENT_END_DT_TM, ce.VALID_FROM_DT_TM) BETWEEN '2019-12-01' AND '2024-12-31'\n"
   ]
  },
  {
   "cell_type": "code",
   "execution_count": 0,
   "metadata": {
    "application/vnd.databricks.v1+cell": {
     "cellMetadata": {
      "byteLimit": 2048000,
      "implicitDf": true,
      "rowLimit": 10000
     },
     "inputWidgets": {},
     "nuid": "3c5ff01d-470f-4c42-95bd-92fe6d5f3807",
     "showTitle": false,
     "tableResultSettingsMap": {},
     "title": ""
    }
   },
   "outputs": [],
   "source": [
    "%sql\n",
    "/* \n",
    "Number of distinct patients who are\n",
    "  -- female\n",
    "  -- age 18+\n",
    "  -- received antenatal care between 2019-12-01 and 2024-12-31\n",
    "  -- recorded with 1+ clinical event with CMV-related EVENT_CD in the same period\n",
    "  -- linked with a (PI_CDE) blob content\n",
    "*/\n",
    "WITH ante AS (\n",
    "  SELECT DISTINCT a.PERSON_ID\n",
    "  FROM 4_prod.raw.mill_sch_appt AS a\n",
    "  INNER JOIN 4_prod.raw.mill_sch_event AS e\n",
    "  ON a.SCH_EVENT_ID = e.SCH_EVENT_ID\n",
    "  INNER JOIN 4_prod.raw.mill_person AS p\n",
    "  ON a.PERSON_ID = p.PERSON_ID\n",
    "  WHERE \n",
    "    APPT_SYNONYM_FREE ILIKE '%antenatal%'\n",
    "    AND BEG_DT_TM BETWEEN '2019-12-01' AND '2024-12-31'\n",
    "    AND DATEDIFF(YEAR, BIRTH_DT_TM, BEG_DT_TM) >= 18\n",
    ")\n",
    "SELECT COUNT(DISTINCT ce.PERSON_ID), COUNT(DISTINCT bc.CE_BLOB_CONTENT_ID)\n",
    "FROM 4_prod.raw.mill_clinical_event AS ce\n",
    "INNER JOIN 3_lookup.mill.mill_code_value AS cv\n",
    "ON ce.EVENT_CD = cv.CODE_VALUE\n",
    "INNER JOIN ante\n",
    "ON ce.PERSON_ID = ante.PERSON_ID\n",
    "INNER JOIN 4_prod.raw.pi_cde_blob_content AS bc\n",
    "ON ce.EVENT_ID = bc.EVENT_ID\n",
    "WHERE\n",
    "  cv.DESCRIPTION LIKE '%CMV%'\n",
    "  AND COALESCE(EVENT_START_DT_TM, EVENT_END_DT_TM, ce.VALID_FROM_DT_TM) BETWEEN '2019-12-01' AND '2024-12-31'\n"
   ]
  },
  {
   "cell_type": "code",
   "execution_count": 0,
   "metadata": {
    "application/vnd.databricks.v1+cell": {
     "cellMetadata": {},
     "inputWidgets": {},
     "nuid": "b02c2e79-9993-49c1-b8c0-3e9706b048b4",
     "showTitle": false,
     "tableResultSettingsMap": {},
     "title": ""
    }
   },
   "outputs": [],
   "source": [
    "%sql\n",
    "/* \n",
    "Number of distinct patients who are\n",
    "  -- female\n",
    "  -- age 18+\n",
    "  -- received antenatal care between 2019-12-01 and 2024-12-31\n",
    "  -- recorded with 1+ clinical event with CMV-related EVENT_CD in the same period\n",
    "  -- clinical event linked with a (PI_CDE) blob content\n",
    "*/\n",
    "WITH ante AS (\n",
    "  SELECT DISTINCT a.PERSON_ID\n",
    "  FROM 4_prod.raw.mill_sch_appt AS a\n",
    "  INNER JOIN 4_prod.raw.mill_sch_event AS e\n",
    "  ON a.SCH_EVENT_ID = e.SCH_EVENT_ID\n",
    "  INNER JOIN 4_prod.raw.mill_person AS p\n",
    "  ON a.PERSON_ID = p.PERSON_ID\n",
    "  WHERE \n",
    "    APPT_SYNONYM_FREE ILIKE '%antenatal%'\n",
    "    AND BEG_DT_TM BETWEEN '2019-12-01' AND '2024-12-31'\n",
    "    AND DATEDIFF(YEAR, BIRTH_DT_TM, BEG_DT_TM) >= 18\n",
    ")\n",
    "SELECT COUNT(DISTINCT ce.PERSON_ID), COUNT(DISTINCT bc.CE_BLOB_CONTENT_ID)\n",
    "FROM 4_prod.raw.mill_clinical_event AS ce\n",
    "INNER JOIN 3_lookup.mill.mill_code_value AS cv\n",
    "ON ce.EVENT_CD = cv.CODE_VALUE\n",
    "INNER JOIN ante\n",
    "ON ce.PERSON_ID = ante.PERSON_ID\n",
    "INNER JOIN 4_prod.raw.pi_cde_blob_content AS bc\n",
    "ON ce.EVENT_ID = bc.EVENT_ID\n",
    "WHERE\n",
    "  cv.DESCRIPTION LIKE '%CMV%'\n",
    "  AND COALESCE(EVENT_START_DT_TM, EVENT_END_DT_TM, ce.VALID_FROM_DT_TM) BETWEEN '2019-12-01' AND '2024-12-31'\n"
   ]
  },
  {
   "cell_type": "code",
   "execution_count": 0,
   "metadata": {
    "application/vnd.databricks.v1+cell": {
     "cellMetadata": {
      "byteLimit": 2048000,
      "implicitDf": true,
      "rowLimit": 10000
     },
     "inputWidgets": {},
     "nuid": "c2d6c043-0e44-499e-8110-d72b213b48b6",
     "showTitle": false,
     "tableResultSettingsMap": {},
     "title": ""
    }
   },
   "outputs": [],
   "source": [
    "%sql\n",
    "/* \n",
    "Number of distinct patients who are\n",
    "  -- female\n",
    "  -- age 18+\n",
    "  -- received antenatal care between 2019-12-01 and 2024-12-31\n",
    "  -- person_id linked to at least 1 RDE blobdataset in the same period\n",
    "*/\n",
    "WITH ante AS (\n",
    "  SELECT DISTINCT a.PERSON_ID\n",
    "  FROM 4_prod.raw.mill_sch_appt AS a\n",
    "  INNER JOIN 4_prod.raw.mill_sch_event AS e\n",
    "  ON a.SCH_EVENT_ID = e.SCH_EVENT_ID\n",
    "  INNER JOIN 4_prod.raw.mill_person AS p\n",
    "  ON a.PERSON_ID = p.PERSON_ID\n",
    "  WHERE \n",
    "    APPT_SYNONYM_FREE ILIKE '%antenatal%'\n",
    "    AND BEG_DT_TM BETWEEN '2019-12-01' AND '2024-12-31'\n",
    "    AND DATEDIFF(YEAR, BIRTH_DT_TM, BEG_DT_TM) >= 18\n",
    ")\n",
    "SELECT COUNT(DISTINCT bc.PERSON_ID), COUNT(DISTINCT bc.EVENTID)\n",
    "FROM 4_prod.rde.rde_blobdataset AS bc\n",
    "INNER JOIN ante\n",
    "ON bc.PERSON_ID = ante.PERSON_ID\n",
    "INNER JOIN 4_prod.raw.mill_clinical_event AS ce\n",
    "ON ce.EVENT_ID = bc.EVENTID \n",
    "WHERE \n",
    "  (blobcontents LIKE '%CMV%' OR blobcontents ILIKE '%Cytomegalovirus%')\n",
    "  AND COALESCE(EVENT_START_DT_TM, EVENT_END_DT_TM, VALID_FROM_DT_TM) BETWEEN '2019-12-01' AND '2024-12-31'\n",
    "LIMIT 100\n",
    "\n"
   ]
  },
  {
   "cell_type": "code",
   "execution_count": 0,
   "metadata": {
    "application/vnd.databricks.v1+cell": {
     "cellMetadata": {
      "byteLimit": 2048000,
      "implicitDf": true,
      "rowLimit": 10000
     },
     "inputWidgets": {},
     "nuid": "c976c645-46cc-4f75-ac00-94be282c52fb",
     "showTitle": false,
     "tableResultSettingsMap": {},
     "title": ""
    }
   },
   "outputs": [],
   "source": [
    "%sql\n",
    "/* \n",
    "Number of distinct patients who are\n",
    "  -- female\n",
    "  -- age 18+\n",
    "  -- received antenatal care between 2019-12-01 and 2024-12-31\n",
    "  -- recorded with 1+ clinical event with CMV-related EVENT_CD in the same period\n",
    "  -- person_id linked to at least 1 RDE blobdataset in the same period\n",
    "*/\n",
    "WITH ante AS (\n",
    "  SELECT DISTINCT a.PERSON_ID\n",
    "  FROM 4_prod.raw.mill_sch_appt AS a\n",
    "  INNER JOIN 4_prod.raw.mill_sch_event AS e\n",
    "  ON a.SCH_EVENT_ID = e.SCH_EVENT_ID\n",
    "  INNER JOIN 4_prod.raw.mill_person AS p\n",
    "  ON a.PERSON_ID = p.PERSON_ID\n",
    "  WHERE \n",
    "    APPT_SYNONYM_FREE ILIKE '%antenatal%'\n",
    "    AND BEG_DT_TM BETWEEN '2019-12-01' AND '2024-12-31'\n",
    "    AND DATEDIFF(YEAR, BIRTH_DT_TM, BEG_DT_TM) >= 18\n",
    "),\n",
    "cmv_ce AS (\n",
    "  SELECT ce.PERSON_ID\n",
    "  FROM 4_prod.raw.mill_clinical_event AS ce\n",
    "  INNER JOIN 3_lookup.mill.mill_code_value AS cv\n",
    "  ON ce.EVENT_CD = cv.CODE_VALUE\n",
    "  INNER JOIN ante\n",
    "  ON ce.PERSON_ID = ante.PERSON_ID\n",
    "  WHERE\n",
    "    (cv.DESCRIPTION LIKE '%CMV%' OR cv.DESCRIPTION ILIKE '%Cytomegalovirus%')\n",
    "    AND COALESCE(EVENT_START_DT_TM, EVENT_END_DT_TM, ce.VALID_FROM_DT_TM) BETWEEN '2019-12-01' AND '2024-12-31'\n",
    ")\n",
    "SELECT COUNT(DISTINCT bc.PERSON_ID), COUNT(DISTINCT bc.EVENTID)\n",
    "FROM 4_prod.rde.rde_blobdataset AS bc\n",
    "INNER JOIN cmv_ce\n",
    "ON bc.PERSON_ID = cmv_ce.PERSON_ID\n",
    "INNER JOIN 4_prod.raw.mill_clinical_event AS ce\n",
    "ON ce.EVENT_ID = bc.EVENTID \n",
    "WHERE \n",
    "  (blobcontents LIKE '%CMV%' OR blobcontents ILIKE '%Cytomegalovirus%')\n",
    "  AND COALESCE(EVENT_START_DT_TM, EVENT_END_DT_TM, VALID_FROM_DT_TM) BETWEEN '2019-12-01' AND '2024-12-31'\n",
    "LIMIT 100\n",
    "\n"
   ]
  },
  {
   "cell_type": "code",
   "execution_count": 0,
   "metadata": {
    "application/vnd.databricks.v1+cell": {
     "cellMetadata": {
      "byteLimit": 2048000,
      "implicitDf": true,
      "rowLimit": 10000
     },
     "inputWidgets": {},
     "nuid": "741cf6c7-f3a0-431d-9d90-71153183b91a",
     "showTitle": false,
     "tableResultSettingsMap": {},
     "title": ""
    }
   },
   "outputs": [],
   "source": [
    "%sql\n",
    "\n",
    "-- Number of adult women who were recorded at least one clinical event with EVENT_CD related to CMV regardless of attending any antenatal appointment\n",
    "SELECT COUNT(DISTINCT ce.PERSON_ID)\n",
    "FROM 4_prod.raw.mill_clinical_event AS ce\n",
    "INNER JOIN 4_prod.raw.mill_person AS p\n",
    "ON ce.PERSON_ID = p.PERSON_ID\n",
    "INNER JOIN 3_lookup.mill.mill_code_value AS cv\n",
    "ON ce.EVENT_CD = cv.CODE_VALUE\n",
    "WHERE \n",
    "  cv.DESCRIPTION LIKE '%CMV%'\n",
    "  AND SEX_CD = 362 -- female\n",
    "  AND DATEDIFF(YEAR, BIRTH_DT_TM, EVENT_START_DT_TM) >= 18\n",
    "  AND COALESCE(EVENT_END_DT_TM, EVENT_START_DT_TM, ce.VALID_FROM_DT_TM) BETWEEN '2019-12-01' AND '2024-12-31'"
   ]
  },
  {
   "cell_type": "code",
   "execution_count": 0,
   "metadata": {
    "application/vnd.databricks.v1+cell": {
     "cellMetadata": {},
     "inputWidgets": {},
     "nuid": "73c8f60c-e444-4a39-af89-28aa24f2654e",
     "showTitle": false,
     "tableResultSettingsMap": {},
     "title": ""
    }
   },
   "outputs": [],
   "source": []
  },
  {
   "cell_type": "code",
   "execution_count": 0,
   "metadata": {
    "application/vnd.databricks.v1+cell": {
     "cellMetadata": {
      "byteLimit": 2048000,
      "implicitDf": true,
      "rowLimit": 10000
     },
     "inputWidgets": {},
     "nuid": "6a6aa216-9cdf-43dd-aed2-35b537968af7",
     "showTitle": false,
     "tableResultSettingsMap": {
      "0": {
       "dataGridStateBlob": "{\"version\":1,\"tableState\":{\"columnPinning\":{\"left\":[\"#row_number#\"],\"right\":[]},\"columnSizing\":{},\"columnVisibility\":{}},\"settings\":{\"columns\":{}},\"syncTimestamp\":1754666813601}",
       "filterBlob": null,
       "queryPlanFiltersBlob": null,
       "tableResultIndex": 0
      }
     },
     "title": ""
    }
   },
   "outputs": [],
   "source": [
    "%sql\n",
    "\n",
    "WITH cohort AS (\n",
    "  SELECT DISTINCT a.PERSON_ID FROM 4_prod.raw.mill_sch_appt AS a\n",
    "  INNER JOIN 4_prod.raw.mill_sch_event AS e\n",
    "  ON a.SCH_EVENT_ID = e.SCH_EVENT_ID\n",
    "  INNER JOIN 4_prod.raw.mill_person AS p\n",
    "  ON a.PERSON_ID = p.PERSON_ID\n",
    "  WHERE \n",
    "    APPT_SYNONYM_FREE ILIKE '%antenatal%'\n",
    "    AND BEG_DT_TM BETWEEN '2019-12-01' AND '2024-12-31'\n",
    "    AND BIRTH_DT_TM < '2001-12-01'\n",
    "),\n",
    "ce AS (\n",
    "  SELECT EVENT_ID, MAX(PERSON_ID) AS PERSON_ID\n",
    "  FROM 4_prod.raw.mill_clinical_event\n",
    "  GROUP BY EVENT_ID\n",
    ")\n",
    "SELECT b.* \n",
    "FROM 4_prod.raw.pi_cde_blob_content AS b\n",
    "INNER JOIN ce\n",
    "ON ce.EVENT_ID = b.EVENT_ID\n",
    "INNER JOIN cohort\n",
    "ON cohort.PERSON_ID = ce.PERSON_ID\n",
    "WHERE BLOB_CONTENTS LIKE '%CMV%'\n",
    "\n",
    "LIMIT 100\n"
   ]
  },
  {
   "cell_type": "code",
   "execution_count": 0,
   "metadata": {
    "application/vnd.databricks.v1+cell": {
     "cellMetadata": {
      "byteLimit": 2048000,
      "implicitDf": true,
      "rowLimit": 10000
     },
     "inputWidgets": {},
     "nuid": "4f89d2ab-6bcb-4e64-b3d6-1e92b4fabc49",
     "showTitle": false,
     "tableResultSettingsMap": {},
     "title": ""
    }
   },
   "outputs": [],
   "source": [
    "%sql\n",
    "\n",
    "SELECT COUNT(DISTINCT p.PERSON_ID)\n",
    "FROM 4_prod.raw.mill_clinical_event AS e\n",
    "INNER JOIN 4_prod.raw.mill_person AS p\n",
    "ON e.PERSON_ID = p.PERSON_ID\n",
    "WHERE \n",
    "  EVENT_TITLE_TEXT LIKE '%CMV%'\n",
    "  AND DATEDIFF(DAY, p.BIRTH_DT_TM, e.EVENT_START_DT_TM) <= 28 \n",
    "\n",
    "LIMIT 100\n"
   ]
  },
  {
   "cell_type": "code",
   "execution_count": 0,
   "metadata": {
    "application/vnd.databricks.v1+cell": {
     "cellMetadata": {
      "byteLimit": 2048000,
      "implicitDf": true,
      "rowLimit": 10000
     },
     "inputWidgets": {},
     "nuid": "5f7b4b4c-ce3d-491f-9da9-787b6a8ba21b",
     "showTitle": false,
     "tableResultSettingsMap": {},
     "title": ""
    }
   },
   "outputs": [],
   "source": [
    "%sql\n",
    "/* \n",
    "Number of distinct patients who are\n",
    "  -- new born <= 28 days\n",
    "  -- recorded with 1+ clinical event with CMV-related EVENT_CD in the same period\n",
    "  -- person_id linked to at least 1 RDE blobdataset in the same period\n",
    "*/\n",
    "WITH cmv_ce AS (\n",
    "  SELECT ce.PERSON_ID\n",
    "  FROM 4_prod.raw.mill_clinical_event AS ce\n",
    "  INNER JOIN 3_lookup.mill.mill_code_value AS cv\n",
    "  ON ce.EVENT_CD = cv.CODE_VALUE\n",
    "  INNER JOIN 4_prod.raw.mill_person AS p\n",
    "  ON p.PERSON_ID = ce.PERSON_ID\n",
    "  WHERE\n",
    "    cv.DESCRIPTION LIKE '%CMV%'\n",
    "    AND DATEDIFF(DAY, p.BIRTH_DT_TM, COALESCE(EVENT_START_DT_TM, EVENT_END_DT_TM, ce.VALID_FROM_DT_TM)) <= 28 \n",
    "    AND COALESCE(EVENT_START_DT_TM, EVENT_END_DT_TM, ce.VALID_FROM_DT_TM) BETWEEN '2019-12-01' AND '2024-12-31'\n",
    ")\n",
    "SELECT COUNT(DISTINCT bc.PERSON_ID), COUNT(DISTINCT bc.EVENTID)\n",
    "FROM 4_prod.rde.rde_blobdataset AS bc\n",
    "INNER JOIN cmv_ce\n",
    "ON bc.PERSON_ID = cmv_ce.PERSON_ID\n",
    "INNER JOIN 4_prod.raw.mill_clinical_event AS ce\n",
    "ON ce.EVENT_ID = bc.EVENTID \n",
    "WHERE \n",
    "  (blobcontents LIKE '%CMV%' OR blobcontents ILIKE '%Cytomegalovirus%')\n",
    "  AND COALESCE(EVENT_START_DT_TM, EVENT_END_DT_TM, VALID_FROM_DT_TM) BETWEEN '2019-12-01' AND '2024-12-31'\n",
    "LIMIT 100\n",
    "\n"
   ]
  },
  {
   "cell_type": "code",
   "execution_count": 0,
   "metadata": {
    "application/vnd.databricks.v1+cell": {
     "cellMetadata": {
      "byteLimit": 2048000,
      "implicitDf": true,
      "rowLimit": 10000
     },
     "inputWidgets": {},
     "nuid": "c2d824ed-6dd1-4847-831a-5f87f91f6a88",
     "showTitle": false,
     "tableResultSettingsMap": {},
     "title": ""
    }
   },
   "outputs": [],
   "source": [
    "%sql\n",
    "\n",
    "SELECT * FROM 4_prod.raw.mill_person\n",
    "WHERE BIRTH_DT_TM > '2025-07-01'\n",
    "LIMIT 10"
   ]
  },
  {
   "cell_type": "code",
   "execution_count": 0,
   "metadata": {
    "application/vnd.databricks.v1+cell": {
     "cellMetadata": {
      "byteLimit": 2048000,
      "implicitDf": true,
      "rowLimit": 10000
     },
     "inputWidgets": {},
     "nuid": "bdcc8f00-4caf-48d6-9f12-1b3e2eb10c62",
     "showTitle": false,
     "tableResultSettingsMap": {},
     "title": ""
    }
   },
   "outputs": [],
   "source": [
    "%sql\n",
    "\n",
    "SELECT * FROM 4_prod.raw.mill_clinical_event\n",
    "WHERE EVENT_TITLE_TEXT LIKE '%CMV%'\n",
    "LIMIT 1000"
   ]
  }
 ],
 "metadata": {
  "application/vnd.databricks.v1+notebook": {
   "computePreferences": {
    "hardware": {
     "accelerator": null,
     "gpuPoolId": null,
     "memory": null
    }
   },
   "dashboards": [],
   "environmentMetadata": {
    "base_environment": "",
    "environment_version": "2"
   },
   "inputWidgetPreferences": null,
   "language": "python",
   "notebookMetadata": {
    "mostRecentlyExecutedCommandWithImplicitDF": {
     "commandId": -1,
     "dataframes": [
      "_sqldf"
     ]
    },
    "pythonIndentUnit": 4
   },
   "notebookName": "DAR045",
   "widgets": {}
  },
  "language_info": {
   "name": "python"
  }
 },
 "nbformat": 4,
 "nbformat_minor": 0
}
