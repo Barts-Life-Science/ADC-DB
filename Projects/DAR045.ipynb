{
 "cells": [
  {
   "cell_type": "code",
   "execution_count": 0,
   "metadata": {
    "application/vnd.databricks.v1+cell": {
     "cellMetadata": {
      "byteLimit": 2048000,
      "implicitDf": true,
      "rowLimit": 10000
     },
     "inputWidgets": {},
     "nuid": "e5a4fa89-7f3e-4cc6-99ba-b10a57cf1d10",
     "showTitle": false,
     "tableResultSettingsMap": {},
     "title": ""
    }
   },
   "outputs": [],
   "source": [
    "%sql\n",
    "\n",
    "SELECT DISTINCT SLOT_MNEMONIC FROM 4_prod.raw.mill_sch_appt\n",
    "WHERE SLOT_MNEMONIC ILIKE '%antenatal%'\n",
    "LIMIT 100"
   ]
  },
  {
   "cell_type": "code",
   "execution_count": 0,
   "metadata": {
    "application/vnd.databricks.v1+cell": {
     "cellMetadata": {
      "byteLimit": 2048000,
      "implicitDf": true,
      "rowLimit": 10000
     },
     "inputWidgets": {},
     "nuid": "755388b6-2434-4320-a2b3-1a56e7b64745",
     "showTitle": false,
     "tableResultSettingsMap": {
      "0": {
       "dataGridStateBlob": "{\"version\":1,\"tableState\":{\"columnPinning\":{\"left\":[\"#row_number#\"],\"right\":[]},\"columnSizing\":{},\"columnVisibility\":{}},\"settings\":{\"columns\":{}},\"syncTimestamp\":1754663720134}",
       "filterBlob": null,
       "queryPlanFiltersBlob": null,
       "tableResultIndex": 0
      }
     },
     "title": ""
    }
   },
   "outputs": [],
   "source": [
    "%sql\n",
    "\n",
    "SELECT COUNT(DISTINCT PERSON_ID) FROM 4_prod.raw.mill_sch_appt AS a\n",
    "INNER JOIN 4_prod.raw.mill_sch_event AS e\n",
    "ON a.SCH_EVENT_ID = e.SCH_EVENT_ID\n",
    "WHERE \n",
    "  APPT_SYNONYM_FREE ILIKE '%antenatal%'\n",
    "  AND BEG_DT_TM BETWEEN '2019-12-01' AND '2024-12-31'\n",
    "LIMIT 100"
   ]
  },
  {
   "cell_type": "code",
   "execution_count": 0,
   "metadata": {
    "application/vnd.databricks.v1+cell": {
     "cellMetadata": {
      "byteLimit": 2048000,
      "implicitDf": true,
      "rowLimit": 10000
     },
     "inputWidgets": {},
     "nuid": "6a6aa216-9cdf-43dd-aed2-35b537968af7",
     "showTitle": false,
     "tableResultSettingsMap": {
      "0": {
       "dataGridStateBlob": "{\"version\":1,\"tableState\":{\"columnPinning\":{\"left\":[\"#row_number#\"],\"right\":[]},\"columnSizing\":{},\"columnVisibility\":{}},\"settings\":{\"columns\":{}},\"syncTimestamp\":1754666813601}",
       "filterBlob": null,
       "queryPlanFiltersBlob": null,
       "tableResultIndex": 0
      }
     },
     "title": ""
    }
   },
   "outputs": [],
   "source": [
    "%sql\n",
    "\n",
    "WITH cohort AS (\n",
    "  SELECT DISTINCT PERSON_ID FROM 4_prod.raw.mill_sch_appt AS a\n",
    "  INNER JOIN 4_prod.raw.mill_sch_event AS e\n",
    "  ON a.SCH_EVENT_ID = e.SCH_EVENT_ID\n",
    "  WHERE \n",
    "    APPT_SYNONYM_FREE ILIKE '%antenatal%'\n",
    "    AND BEG_DT_TM BETWEEN '2019-12-01' AND '2024-12-31'\n",
    "),\n",
    "ce AS (\n",
    "  SELECT EVENT_ID, MAX(PERSON_ID) AS PERSON_ID\n",
    "  FROM 4_prod.raw.mill_clinical_event\n",
    "  GROUP BY EVENT_ID\n",
    ")\n",
    "SELECT b.* \n",
    "FROM 4_prod.raw.pi_cde_blob_content AS b\n",
    "INNER JOIN ce\n",
    "ON ce.EVENT_ID = b.EVENT_ID\n",
    "INNER JOIN cohort\n",
    "ON cohort.PERSON_ID = ce.PERSON_ID\n",
    "WHERE BLOB_CONTENTS LIKE '%CMV%'\n",
    "\n",
    "LIMIT 100\n"
   ]
  }
 ],
 "metadata": {
  "application/vnd.databricks.v1+notebook": {
   "computePreferences": {
    "hardware": {
     "accelerator": null,
     "gpuPoolId": null,
     "memory": null
    }
   },
   "dashboards": [],
   "environmentMetadata": {
    "base_environment": "",
    "environment_version": "2"
   },
   "inputWidgetPreferences": null,
   "language": "python",
   "notebookMetadata": {
    "mostRecentlyExecutedCommandWithImplicitDF": {
     "commandId": 7440619843710326,
     "dataframes": [
      "_sqldf"
     ]
    },
    "pythonIndentUnit": 4
   },
   "notebookName": "DAR045",
   "widgets": {}
  },
  "language_info": {
   "name": "python"
  }
 },
 "nbformat": 4,
 "nbformat_minor": 0
}
